{
 "cells": [
  {
   "cell_type": "code",
   "execution_count": 22,
   "metadata": {
    "ExecuteTime": {
     "end_time": "2021-09-22T03:12:44.614674Z",
     "start_time": "2021-09-22T03:12:44.599872Z"
    },
    "pycharm": {
     "name": "#%%\n"
    }
   },
   "outputs": [],
   "source": [
    "import numpy  as np\n",
    "import pandas as pd\n",
    "from sklearn.model_selection import train_test_split\n",
    "from skcredit.feature_preprocessings import FormatTabular\n",
    "from skcredit.feature_discretization import Discrete\n",
    "from skcredit.feature_selection import SelectBins\n",
    "from skcredit.feature_selection import SelectCIFE\n",
    "from skcredit.linear_model import LMClassifier\n",
    "from skcredit.linear_model import LMCreditcard\n",
    "np.random.seed(7)\n",
    "pd.set_option(\"max_rows\",    None)\n",
    "pd.set_option(\"max_columns\", None)"
   ]
  },
  {
   "cell_type": "markdown",
   "metadata": {
    "pycharm": {
     "name": "#%% md\n"
    }
   },
   "source": [
    "[数据介绍]()"
   ]
  },
  {
   "cell_type": "markdown",
   "metadata": {},
   "source": [
    "## 读入数据"
   ]
  },
  {
   "cell_type": "code",
   "execution_count": 2,
   "metadata": {
    "ExecuteTime": {
     "end_time": "2021-09-22T03:00:41.045371Z",
     "start_time": "2021-09-22T03:00:40.886294Z"
    },
    "pycharm": {
     "name": "#%%\n"
    }
   },
   "outputs": [],
   "source": [
    "dataset = pd.read_csv(\"../UCI_Credit_Card.csv\")"
   ]
  },
  {
   "cell_type": "code",
   "execution_count": 3,
   "metadata": {
    "ExecuteTime": {
     "end_time": "2021-09-22T03:01:36.007199Z",
     "start_time": "2021-09-22T03:01:35.990063Z"
    },
    "pycharm": {
     "name": "#%%\n"
    }
   },
   "outputs": [
    {
     "data": {
      "text/plain": [
       "(30000, 25)"
      ]
     },
     "execution_count": 3,
     "metadata": {},
     "output_type": "execute_result"
    }
   ],
   "source": [
    "dataset.shape"
   ]
  },
  {
   "cell_type": "code",
   "execution_count": 4,
   "metadata": {
    "ExecuteTime": {
     "end_time": "2021-09-22T03:01:43.210180Z",
     "start_time": "2021-09-22T03:01:43.127075Z"
    },
    "pycharm": {
     "name": "#%%\n"
    }
   },
   "outputs": [
    {
     "data": {
      "text/html": [
       "<div>\n",
       "<style scoped>\n",
       "    .dataframe tbody tr th:only-of-type {\n",
       "        vertical-align: middle;\n",
       "    }\n",
       "\n",
       "    .dataframe tbody tr th {\n",
       "        vertical-align: top;\n",
       "    }\n",
       "\n",
       "    .dataframe thead th {\n",
       "        text-align: right;\n",
       "    }\n",
       "</style>\n",
       "<table border=\"1\" class=\"dataframe\">\n",
       "  <thead>\n",
       "    <tr style=\"text-align: right;\">\n",
       "      <th></th>\n",
       "      <th>ID</th>\n",
       "      <th>LIMIT_BAL</th>\n",
       "      <th>SEX</th>\n",
       "      <th>EDUCATION</th>\n",
       "      <th>MARRIAGE</th>\n",
       "      <th>AGE</th>\n",
       "      <th>PAY_0</th>\n",
       "      <th>PAY_2</th>\n",
       "      <th>PAY_3</th>\n",
       "      <th>PAY_4</th>\n",
       "      <th>PAY_5</th>\n",
       "      <th>PAY_6</th>\n",
       "      <th>BILL_AMT1</th>\n",
       "      <th>BILL_AMT2</th>\n",
       "      <th>BILL_AMT3</th>\n",
       "      <th>BILL_AMT4</th>\n",
       "      <th>BILL_AMT5</th>\n",
       "      <th>BILL_AMT6</th>\n",
       "      <th>PAY_AMT1</th>\n",
       "      <th>PAY_AMT2</th>\n",
       "      <th>PAY_AMT3</th>\n",
       "      <th>PAY_AMT4</th>\n",
       "      <th>PAY_AMT5</th>\n",
       "      <th>PAY_AMT6</th>\n",
       "      <th>default.payment.next.month</th>\n",
       "    </tr>\n",
       "  </thead>\n",
       "  <tbody>\n",
       "    <tr>\n",
       "      <th>0</th>\n",
       "      <td>1</td>\n",
       "      <td>20000.0</td>\n",
       "      <td>2</td>\n",
       "      <td>2</td>\n",
       "      <td>1</td>\n",
       "      <td>24</td>\n",
       "      <td>2</td>\n",
       "      <td>2</td>\n",
       "      <td>-1</td>\n",
       "      <td>-1</td>\n",
       "      <td>-2</td>\n",
       "      <td>-2</td>\n",
       "      <td>3913.0</td>\n",
       "      <td>3102.0</td>\n",
       "      <td>689.0</td>\n",
       "      <td>0.0</td>\n",
       "      <td>0.0</td>\n",
       "      <td>0.0</td>\n",
       "      <td>0.0</td>\n",
       "      <td>689.0</td>\n",
       "      <td>0.0</td>\n",
       "      <td>0.0</td>\n",
       "      <td>0.0</td>\n",
       "      <td>0.0</td>\n",
       "      <td>1</td>\n",
       "    </tr>\n",
       "    <tr>\n",
       "      <th>1</th>\n",
       "      <td>2</td>\n",
       "      <td>120000.0</td>\n",
       "      <td>2</td>\n",
       "      <td>2</td>\n",
       "      <td>2</td>\n",
       "      <td>26</td>\n",
       "      <td>-1</td>\n",
       "      <td>2</td>\n",
       "      <td>0</td>\n",
       "      <td>0</td>\n",
       "      <td>0</td>\n",
       "      <td>2</td>\n",
       "      <td>2682.0</td>\n",
       "      <td>1725.0</td>\n",
       "      <td>2682.0</td>\n",
       "      <td>3272.0</td>\n",
       "      <td>3455.0</td>\n",
       "      <td>3261.0</td>\n",
       "      <td>0.0</td>\n",
       "      <td>1000.0</td>\n",
       "      <td>1000.0</td>\n",
       "      <td>1000.0</td>\n",
       "      <td>0.0</td>\n",
       "      <td>2000.0</td>\n",
       "      <td>1</td>\n",
       "    </tr>\n",
       "    <tr>\n",
       "      <th>2</th>\n",
       "      <td>3</td>\n",
       "      <td>90000.0</td>\n",
       "      <td>2</td>\n",
       "      <td>2</td>\n",
       "      <td>2</td>\n",
       "      <td>34</td>\n",
       "      <td>0</td>\n",
       "      <td>0</td>\n",
       "      <td>0</td>\n",
       "      <td>0</td>\n",
       "      <td>0</td>\n",
       "      <td>0</td>\n",
       "      <td>29239.0</td>\n",
       "      <td>14027.0</td>\n",
       "      <td>13559.0</td>\n",
       "      <td>14331.0</td>\n",
       "      <td>14948.0</td>\n",
       "      <td>15549.0</td>\n",
       "      <td>1518.0</td>\n",
       "      <td>1500.0</td>\n",
       "      <td>1000.0</td>\n",
       "      <td>1000.0</td>\n",
       "      <td>1000.0</td>\n",
       "      <td>5000.0</td>\n",
       "      <td>0</td>\n",
       "    </tr>\n",
       "    <tr>\n",
       "      <th>3</th>\n",
       "      <td>4</td>\n",
       "      <td>50000.0</td>\n",
       "      <td>2</td>\n",
       "      <td>2</td>\n",
       "      <td>1</td>\n",
       "      <td>37</td>\n",
       "      <td>0</td>\n",
       "      <td>0</td>\n",
       "      <td>0</td>\n",
       "      <td>0</td>\n",
       "      <td>0</td>\n",
       "      <td>0</td>\n",
       "      <td>46990.0</td>\n",
       "      <td>48233.0</td>\n",
       "      <td>49291.0</td>\n",
       "      <td>28314.0</td>\n",
       "      <td>28959.0</td>\n",
       "      <td>29547.0</td>\n",
       "      <td>2000.0</td>\n",
       "      <td>2019.0</td>\n",
       "      <td>1200.0</td>\n",
       "      <td>1100.0</td>\n",
       "      <td>1069.0</td>\n",
       "      <td>1000.0</td>\n",
       "      <td>0</td>\n",
       "    </tr>\n",
       "    <tr>\n",
       "      <th>4</th>\n",
       "      <td>5</td>\n",
       "      <td>50000.0</td>\n",
       "      <td>1</td>\n",
       "      <td>2</td>\n",
       "      <td>1</td>\n",
       "      <td>57</td>\n",
       "      <td>-1</td>\n",
       "      <td>0</td>\n",
       "      <td>-1</td>\n",
       "      <td>0</td>\n",
       "      <td>0</td>\n",
       "      <td>0</td>\n",
       "      <td>8617.0</td>\n",
       "      <td>5670.0</td>\n",
       "      <td>35835.0</td>\n",
       "      <td>20940.0</td>\n",
       "      <td>19146.0</td>\n",
       "      <td>19131.0</td>\n",
       "      <td>2000.0</td>\n",
       "      <td>36681.0</td>\n",
       "      <td>10000.0</td>\n",
       "      <td>9000.0</td>\n",
       "      <td>689.0</td>\n",
       "      <td>679.0</td>\n",
       "      <td>0</td>\n",
       "    </tr>\n",
       "  </tbody>\n",
       "</table>\n",
       "</div>"
      ],
      "text/plain": [
       "   ID  LIMIT_BAL  SEX  EDUCATION  MARRIAGE  AGE  PAY_0  PAY_2  PAY_3  PAY_4  \\\n",
       "0   1    20000.0    2          2         1   24      2      2     -1     -1   \n",
       "1   2   120000.0    2          2         2   26     -1      2      0      0   \n",
       "2   3    90000.0    2          2         2   34      0      0      0      0   \n",
       "3   4    50000.0    2          2         1   37      0      0      0      0   \n",
       "4   5    50000.0    1          2         1   57     -1      0     -1      0   \n",
       "\n",
       "   PAY_5  PAY_6  BILL_AMT1  BILL_AMT2  BILL_AMT3  BILL_AMT4  BILL_AMT5  \\\n",
       "0     -2     -2     3913.0     3102.0      689.0        0.0        0.0   \n",
       "1      0      2     2682.0     1725.0     2682.0     3272.0     3455.0   \n",
       "2      0      0    29239.0    14027.0    13559.0    14331.0    14948.0   \n",
       "3      0      0    46990.0    48233.0    49291.0    28314.0    28959.0   \n",
       "4      0      0     8617.0     5670.0    35835.0    20940.0    19146.0   \n",
       "\n",
       "   BILL_AMT6  PAY_AMT1  PAY_AMT2  PAY_AMT3  PAY_AMT4  PAY_AMT5  PAY_AMT6  \\\n",
       "0        0.0       0.0     689.0       0.0       0.0       0.0       0.0   \n",
       "1     3261.0       0.0    1000.0    1000.0    1000.0       0.0    2000.0   \n",
       "2    15549.0    1518.0    1500.0    1000.0    1000.0    1000.0    5000.0   \n",
       "3    29547.0    2000.0    2019.0    1200.0    1100.0    1069.0    1000.0   \n",
       "4    19131.0    2000.0   36681.0   10000.0    9000.0     689.0     679.0   \n",
       "\n",
       "   default.payment.next.month  \n",
       "0                           1  \n",
       "1                           1  \n",
       "2                           0  \n",
       "3                           0  \n",
       "4                           0  "
      ]
     },
     "execution_count": 4,
     "metadata": {},
     "output_type": "execute_result"
    }
   ],
   "source": [
    "dataset.head()"
   ]
  },
  {
   "cell_type": "markdown",
   "metadata": {},
   "source": [
    "## 分类变量分箱"
   ]
  },
  {
   "cell_type": "code",
   "execution_count": 5,
   "metadata": {
    "ExecuteTime": {
     "end_time": "2021-09-22T03:01:54.641373Z",
     "start_time": "2021-09-22T03:01:54.462001Z"
    },
    "pycharm": {
     "name": "#%%\n"
    }
   },
   "outputs": [],
   "source": [
    "from skcredit.feature_discretization.SplitCat import binning_cat\n",
    "\n",
    "sc = binning_cat(\n",
    "    x=dataset[\"EDUCATION\"].fillna(\"missing\").astype(str),\n",
    "    y=dataset[\"default.payment.next.month\"] ,\n",
    "    column=\"EDUCATION\", target=\"default.payment.next.month\",\n",
    ")"
   ]
  },
  {
   "cell_type": "code",
   "execution_count": 6,
   "metadata": {
    "ExecuteTime": {
     "end_time": "2021-09-22T03:01:59.662943Z",
     "start_time": "2021-09-22T03:01:59.629951Z"
    },
    "pycharm": {
     "name": "#%%\n"
    }
   },
   "outputs": [
    {
     "data": {
      "text/html": [
       "<div>\n",
       "<style scoped>\n",
       "    .dataframe tbody tr th:only-of-type {\n",
       "        vertical-align: middle;\n",
       "    }\n",
       "\n",
       "    .dataframe tbody tr th {\n",
       "        vertical-align: top;\n",
       "    }\n",
       "\n",
       "    .dataframe thead th {\n",
       "        text-align: right;\n",
       "    }\n",
       "</style>\n",
       "<table border=\"1\" class=\"dataframe\">\n",
       "  <thead>\n",
       "    <tr style=\"text-align: right;\">\n",
       "      <th></th>\n",
       "      <th>Column</th>\n",
       "      <th>Bucket</th>\n",
       "      <th>CntNegative</th>\n",
       "      <th>Cntpositive</th>\n",
       "      <th>WoE</th>\n",
       "      <th>IVS</th>\n",
       "    </tr>\n",
       "  </thead>\n",
       "  <tbody>\n",
       "    <tr>\n",
       "      <th>0</th>\n",
       "      <td>EDUCATION</td>\n",
       "      <td>{6, 1, 0, 5, 4}</td>\n",
       "      <td>8984</td>\n",
       "      <td>2069</td>\n",
       "      <td>-0.209693</td>\n",
       "      <td>0.015253</td>\n",
       "    </tr>\n",
       "    <tr>\n",
       "      <th>1</th>\n",
       "      <td>EDUCATION</td>\n",
       "      <td>{2, 3}</td>\n",
       "      <td>14380</td>\n",
       "      <td>4567</td>\n",
       "      <td>0.111705</td>\n",
       "      <td>0.008125</td>\n",
       "    </tr>\n",
       "    <tr>\n",
       "      <th>2</th>\n",
       "      <td>EDUCATION</td>\n",
       "      <td>{missing}</td>\n",
       "      <td>0</td>\n",
       "      <td>0</td>\n",
       "      <td>0.000000</td>\n",
       "      <td>0.000000</td>\n",
       "    </tr>\n",
       "  </tbody>\n",
       "</table>\n",
       "</div>"
      ],
      "text/plain": [
       "      Column           Bucket  CntNegative  Cntpositive       WoE       IVS\n",
       "0  EDUCATION  {6, 1, 0, 5, 4}         8984         2069 -0.209693  0.015253\n",
       "1  EDUCATION           {2, 3}        14380         4567  0.111705  0.008125\n",
       "2  EDUCATION        {missing}            0            0  0.000000  0.000000"
      ]
     },
     "execution_count": 6,
     "metadata": {},
     "output_type": "execute_result"
    }
   ],
   "source": [
    "sc.table"
   ]
  },
  {
   "cell_type": "markdown",
   "metadata": {},
   "source": [
    "## 连续变量分箱"
   ]
  },
  {
   "cell_type": "code",
   "execution_count": 7,
   "metadata": {
    "ExecuteTime": {
     "end_time": "2021-09-22T03:02:04.600013Z",
     "start_time": "2021-09-22T03:02:04.037932Z"
    },
    "pycharm": {
     "name": "#%%\n"
    }
   },
   "outputs": [],
   "source": [
    "from skcredit.feature_discretization.SplitNum import binning_num\n",
    "\n",
    "sn = binning_num(\n",
    "    x=dataset[\"LIMIT_BAL\"].fillna(-999999.0),\n",
    "    y=dataset[\"default.payment.next.month\"] ,\n",
    "    column=\"LIMIT_BAL\", target=\"default.payment.next.month\",\n",
    ")"
   ]
  },
  {
   "cell_type": "code",
   "execution_count": 8,
   "metadata": {
    "ExecuteTime": {
     "end_time": "2021-09-22T03:02:14.177437Z",
     "start_time": "2021-09-22T03:02:13.734346Z"
    },
    "pycharm": {
     "name": "#%%\n"
    }
   },
   "outputs": [
    {
     "data": {
      "text/html": [
       "<div>\n",
       "<style scoped>\n",
       "    .dataframe tbody tr th:only-of-type {\n",
       "        vertical-align: middle;\n",
       "    }\n",
       "\n",
       "    .dataframe tbody tr th {\n",
       "        vertical-align: top;\n",
       "    }\n",
       "\n",
       "    .dataframe thead th {\n",
       "        text-align: right;\n",
       "    }\n",
       "</style>\n",
       "<table border=\"1\" class=\"dataframe\">\n",
       "  <thead>\n",
       "    <tr style=\"text-align: right;\">\n",
       "      <th></th>\n",
       "      <th>Column</th>\n",
       "      <th>Bucket</th>\n",
       "      <th>CntNegative</th>\n",
       "      <th>Cntpositive</th>\n",
       "      <th>WoE</th>\n",
       "      <th>IVS</th>\n",
       "    </tr>\n",
       "  </thead>\n",
       "  <tbody>\n",
       "    <tr>\n",
       "      <th>0</th>\n",
       "      <td>LIMIT_BAL</td>\n",
       "      <td>(-inf,40000.0]</td>\n",
       "      <td>2756</td>\n",
       "      <td>1555</td>\n",
       "      <td>0.686382</td>\n",
       "      <td>0.079873</td>\n",
       "    </tr>\n",
       "    <tr>\n",
       "      <th>1</th>\n",
       "      <td>LIMIT_BAL</td>\n",
       "      <td>(40000.0,140000.0]</td>\n",
       "      <td>8212</td>\n",
       "      <td>2767</td>\n",
       "      <td>0.170854</td>\n",
       "      <td>0.011189</td>\n",
       "    </tr>\n",
       "    <tr>\n",
       "      <th>2</th>\n",
       "      <td>LIMIT_BAL</td>\n",
       "      <td>(140000.0,+inf)</td>\n",
       "      <td>12396</td>\n",
       "      <td>2314</td>\n",
       "      <td>-0.419709</td>\n",
       "      <td>0.076327</td>\n",
       "    </tr>\n",
       "    <tr>\n",
       "      <th>3</th>\n",
       "      <td>LIMIT_BAL</td>\n",
       "      <td>[-999999]</td>\n",
       "      <td>0</td>\n",
       "      <td>0</td>\n",
       "      <td>0.000000</td>\n",
       "      <td>0.000000</td>\n",
       "    </tr>\n",
       "  </tbody>\n",
       "</table>\n",
       "</div>"
      ],
      "text/plain": [
       "      Column              Bucket  CntNegative  Cntpositive       WoE       IVS\n",
       "0  LIMIT_BAL      (-inf,40000.0]         2756         1555  0.686382  0.079873\n",
       "1  LIMIT_BAL  (40000.0,140000.0]         8212         2767  0.170854  0.011189\n",
       "2  LIMIT_BAL     (140000.0,+inf)        12396         2314 -0.419709  0.076327\n",
       "3  LIMIT_BAL           [-999999]            0            0  0.000000  0.000000"
      ]
     },
     "execution_count": 8,
     "metadata": {},
     "output_type": "execute_result"
    }
   ],
   "source": [
    "sn.table"
   ]
  },
  {
   "cell_type": "markdown",
   "metadata": {},
   "source": [
    "## 自动分箱"
   ]
  },
  {
   "cell_type": "code",
   "execution_count": 9,
   "metadata": {
    "ExecuteTime": {
     "end_time": "2021-09-22T03:02:21.760731Z",
     "start_time": "2021-09-22T03:02:21.750739Z"
    },
    "pycharm": {
     "name": "#%%\n"
    }
   },
   "outputs": [],
   "source": [
    "cat_columns = [\"SEX\", \"EDUCATION\", \"MARRIAGE\"]\n",
    "num_columns = [\"LIMIT_BAL\", \"AGE\",\n",
    "               \"PAY_0\",     \"PAY_2\",     \"PAY_3\",     \"PAY_4\",     \"PAY_5\",     \"PAY_6\",\n",
    "               \"PAY_AMT1\",  \"PAY_AMT2\",  \"PAY_AMT3\",  \"PAY_AMT4\",  \"PAY_AMT5\",  \"PAY_AMT6\",\n",
    "               \"BILL_AMT1\", \"BILL_AMT2\", \"BILL_AMT3\", \"BILL_AMT4\", \"BILL_AMT5\", \"BILL_AMT6\"]\n",
    "\n",
    "target = \"default.payment.next.month\""
   ]
  },
  {
   "cell_type": "code",
   "execution_count": 10,
   "metadata": {
    "ExecuteTime": {
     "end_time": "2021-09-22T03:02:26.267501Z",
     "start_time": "2021-09-22T03:02:26.214403Z"
    },
    "pycharm": {
     "name": "#%%\n"
    }
   },
   "outputs": [],
   "source": [
    "train_x, test_x, train_y, test_y = train_test_split(\n",
    "        dataset.drop([target], axis=1), dataset[target], train_size=0.75, shuffle=True, random_state=7)"
   ]
  },
  {
   "cell_type": "code",
   "execution_count": 11,
   "metadata": {
    "ExecuteTime": {
     "end_time": "2021-09-22T03:02:31.579981Z",
     "start_time": "2021-09-22T03:02:31.422005Z"
    },
    "pycharm": {
     "name": "#%%\n"
    }
   },
   "outputs": [],
   "source": [
    "ft = FormatTabular(keep_columns=[\"ID\"], date_columns=[], cat_columns=cat_columns, num_columns=num_columns)\n",
    "ft.fit(train_x, train_y)\n",
    "train_x = ft.transform(train_x)\n",
    "test_x  = ft.transform(test_x )"
   ]
  },
  {
   "cell_type": "code",
   "execution_count": 12,
   "metadata": {
    "ExecuteTime": {
     "end_time": "2021-09-22T03:06:50.601815Z",
     "start_time": "2021-09-22T03:02:35.841795Z"
    },
    "pycharm": {
     "is_executing": true,
     "name": "#%%\n"
    },
    "scrolled": true
   },
   "outputs": [
    {
     "name": "stderr",
     "output_type": "stream",
     "text": [
      "[Parallel(n_jobs=-1)]: Using backend LokyBackend with 4 concurrent workers.\n",
      "[Parallel(n_jobs=-1)]: Done   1 tasks      | elapsed:    9.2s\n",
      "[Parallel(n_jobs=-1)]: Done   3 out of   3 | elapsed:    9.3s remaining:    0.0s\n",
      "[Parallel(n_jobs=-1)]: Done   3 out of   3 | elapsed:    9.3s finished\n",
      "[Parallel(n_jobs=-1)]: Using backend LokyBackend with 4 concurrent workers.\n",
      "[Parallel(n_jobs=-1)]: Done   1 tasks      | elapsed:    0.1s\n",
      "[Parallel(n_jobs=-1)]: Batch computation too fast (0.1880s.) Setting batch_size=2.\n",
      "[Parallel(n_jobs=-1)]: Done   2 tasks      | elapsed:    0.1s\n",
      "[Parallel(n_jobs=-1)]: Done   3 tasks      | elapsed:    0.2s\n",
      "[Parallel(n_jobs=-1)]: Done   4 tasks      | elapsed:    0.3s\n",
      "[Parallel(n_jobs=-1)]: Done   5 tasks      | elapsed:    0.3s\n",
      "[Parallel(n_jobs=-1)]: Done   6 tasks      | elapsed:    0.4s\n",
      "[Parallel(n_jobs=-1)]: Done   7 tasks      | elapsed:    0.4s\n",
      "[Parallel(n_jobs=-1)]: Done   8 tasks      | elapsed:   10.0s\n",
      "[Parallel(n_jobs=-1)]: Done  10 tasks      | elapsed:  2.9min\n",
      "[Parallel(n_jobs=-1)]: Batch computation too slow (173.2351s.) Setting batch_size=1.\n",
      "[Parallel(n_jobs=-1)]: Done  17 out of  20 | elapsed:  3.9min remaining:   41.3s\n",
      "[Parallel(n_jobs=-1)]: Done  20 out of  20 | elapsed:  4.0min finished\n",
      "[Parallel(n_jobs=-1)]: Using backend LokyBackend with 4 concurrent workers.\n",
      "[Parallel(n_jobs=-1)]: Done   1 tasks      | elapsed:    0.2s\n",
      "[Parallel(n_jobs=-1)]: Done   3 out of   3 | elapsed:    0.3s remaining:    0.0s\n",
      "[Parallel(n_jobs=-1)]: Done   3 out of   3 | elapsed:    0.3s finished\n",
      "[Parallel(n_jobs=-1)]: Using backend LokyBackend with 4 concurrent workers.\n",
      "[Parallel(n_jobs=-1)]: Done   1 tasks      | elapsed:    0.4s\n",
      "[Parallel(n_jobs=-1)]: Done   2 tasks      | elapsed:    0.5s\n",
      "[Parallel(n_jobs=-1)]: Done   3 tasks      | elapsed:    0.5s\n",
      "[Parallel(n_jobs=-1)]: Done   4 tasks      | elapsed:    0.5s\n",
      "[Parallel(n_jobs=-1)]: Done   5 tasks      | elapsed:    0.9s\n",
      "[Parallel(n_jobs=-1)]: Done   6 tasks      | elapsed:    1.0s\n",
      "[Parallel(n_jobs=-1)]: Done   7 tasks      | elapsed:    1.0s\n",
      "[Parallel(n_jobs=-1)]: Done   8 tasks      | elapsed:    1.0s\n",
      "[Parallel(n_jobs=-1)]: Done   9 tasks      | elapsed:    1.5s\n",
      "[Parallel(n_jobs=-1)]: Done  10 tasks      | elapsed:    1.5s\n",
      "[Parallel(n_jobs=-1)]: Done  11 tasks      | elapsed:    1.5s\n",
      "[Parallel(n_jobs=-1)]: Done  12 tasks      | elapsed:    1.6s\n",
      "[Parallel(n_jobs=-1)]: Done  13 tasks      | elapsed:    1.9s\n",
      "[Parallel(n_jobs=-1)]: Done  15 out of  20 | elapsed:    2.1s remaining:    0.6s\n",
      "[Parallel(n_jobs=-1)]: Done  17 out of  20 | elapsed:    2.5s remaining:    0.4s\n",
      "[Parallel(n_jobs=-1)]: Done  20 out of  20 | elapsed:    2.7s finished\n",
      "[Parallel(n_jobs=-1)]: Using backend LokyBackend with 4 concurrent workers.\n",
      "[Parallel(n_jobs=-1)]: Done   1 tasks      | elapsed:    0.0s\n",
      "[Parallel(n_jobs=-1)]: Batch computation too fast (0.1060s.) Setting batch_size=2.\n",
      "[Parallel(n_jobs=-1)]: Done   3 out of   3 | elapsed:    0.0s remaining:    0.0s\n",
      "[Parallel(n_jobs=-1)]: Done   3 out of   3 | elapsed:    0.0s finished\n",
      "[Parallel(n_jobs=-1)]: Using backend LokyBackend with 4 concurrent workers.\n",
      "[Parallel(n_jobs=-1)]: Done   1 tasks      | elapsed:    0.1s\n",
      "[Parallel(n_jobs=-1)]: Batch computation too fast (0.1660s.) Setting batch_size=2.\n",
      "[Parallel(n_jobs=-1)]: Done   2 tasks      | elapsed:    0.1s\n",
      "[Parallel(n_jobs=-1)]: Done   3 tasks      | elapsed:    0.1s\n",
      "[Parallel(n_jobs=-1)]: Done   4 tasks      | elapsed:    0.1s\n",
      "[Parallel(n_jobs=-1)]: Done   5 tasks      | elapsed:    0.2s\n",
      "[Parallel(n_jobs=-1)]: Done   6 tasks      | elapsed:    0.3s\n",
      "[Parallel(n_jobs=-1)]: Done   7 tasks      | elapsed:    0.3s\n",
      "[Parallel(n_jobs=-1)]: Done   8 tasks      | elapsed:    0.3s\n",
      "[Parallel(n_jobs=-1)]: Done  10 tasks      | elapsed:    0.6s\n",
      "[Parallel(n_jobs=-1)]: Done  17 out of  20 | elapsed:    0.8s remaining:    0.1s\n",
      "[Parallel(n_jobs=-1)]: Done  20 out of  20 | elapsed:    0.8s finished\n"
     ]
    }
   ],
   "source": [
    "discrete = Discrete(keep_columns=[\"ID\"], date_columns=[])\n",
    "discrete.fit(train_x, train_y)\n",
    "train_x = discrete.transform(train_x)\n",
    "test_x  = discrete.transform(test_x )"
   ]
  },
  {
   "cell_type": "code",
   "execution_count": 24,
   "metadata": {
    "ExecuteTime": {
     "end_time": "2021-09-22T03:33:13.501663Z",
     "start_time": "2021-09-22T03:33:13.477531Z"
    },
    "pycharm": {
     "is_executing": true,
     "name": "#%%\n"
    },
    "scrolled": true
   },
   "outputs": [
    {
     "data": {
      "text/html": [
       "<div>\n",
       "<style scoped>\n",
       "    .dataframe tbody tr th:only-of-type {\n",
       "        vertical-align: middle;\n",
       "    }\n",
       "\n",
       "    .dataframe tbody tr th {\n",
       "        vertical-align: top;\n",
       "    }\n",
       "\n",
       "    .dataframe thead th {\n",
       "        text-align: right;\n",
       "    }\n",
       "</style>\n",
       "<table border=\"1\" class=\"dataframe\">\n",
       "  <thead>\n",
       "    <tr style=\"text-align: right;\">\n",
       "      <th></th>\n",
       "      <th>IVS</th>\n",
       "    </tr>\n",
       "  </thead>\n",
       "  <tbody>\n",
       "    <tr>\n",
       "      <th>PAY_0</th>\n",
       "      <td>0.874626</td>\n",
       "    </tr>\n",
       "    <tr>\n",
       "      <th>PAY_2</th>\n",
       "      <td>0.563306</td>\n",
       "    </tr>\n",
       "    <tr>\n",
       "      <th>PAY_3</th>\n",
       "      <td>0.421203</td>\n",
       "    </tr>\n",
       "    <tr>\n",
       "      <th>PAY_4</th>\n",
       "      <td>0.365194</td>\n",
       "    </tr>\n",
       "    <tr>\n",
       "      <th>PAY_5</th>\n",
       "      <td>0.330149</td>\n",
       "    </tr>\n",
       "  </tbody>\n",
       "</table>\n",
       "</div>"
      ],
      "text/plain": [
       "            IVS\n",
       "PAY_0  0.874626\n",
       "PAY_2  0.563306\n",
       "PAY_3  0.421203\n",
       "PAY_4  0.365194\n",
       "PAY_5  0.330149"
      ]
     },
     "execution_count": 24,
     "metadata": {},
     "output_type": "execute_result"
    }
   ],
   "source": [
    "discrete.information_value_score.head()"
   ]
  },
  {
   "cell_type": "code",
   "execution_count": 25,
   "metadata": {
    "ExecuteTime": {
     "end_time": "2021-09-22T03:33:41.387355Z",
     "start_time": "2021-09-22T03:33:40.845117Z"
    },
    "pycharm": {
     "is_executing": true,
     "name": "#%%\n"
    }
   },
   "outputs": [
    {
     "data": {
      "text/html": [
       "<div>\n",
       "<style scoped>\n",
       "    .dataframe tbody tr th:only-of-type {\n",
       "        vertical-align: middle;\n",
       "    }\n",
       "\n",
       "    .dataframe tbody tr th {\n",
       "        vertical-align: top;\n",
       "    }\n",
       "\n",
       "    .dataframe thead th {\n",
       "        text-align: right;\n",
       "    }\n",
       "</style>\n",
       "<table border=\"1\" class=\"dataframe\">\n",
       "  <thead>\n",
       "    <tr style=\"text-align: right;\">\n",
       "      <th></th>\n",
       "      <th>Column</th>\n",
       "      <th>Bucket</th>\n",
       "      <th>CntNegative</th>\n",
       "      <th>Cntpositive</th>\n",
       "      <th>WoE</th>\n",
       "      <th>IVS</th>\n",
       "    </tr>\n",
       "  </thead>\n",
       "  <tbody>\n",
       "    <tr>\n",
       "      <th>0</th>\n",
       "      <td>PAY_0</td>\n",
       "      <td>(-inf,0]</td>\n",
       "      <td>14987</td>\n",
       "      <td>2391</td>\n",
       "      <td>-0.578847</td>\n",
       "      <td>0.217663</td>\n",
       "    </tr>\n",
       "    <tr>\n",
       "      <th>1</th>\n",
       "      <td>PAY_0</td>\n",
       "      <td>(0,1]</td>\n",
       "      <td>1821</td>\n",
       "      <td>959</td>\n",
       "      <td>0.615374</td>\n",
       "      <td>0.054405</td>\n",
       "    </tr>\n",
       "    <tr>\n",
       "      <th>2</th>\n",
       "      <td>PAY_0</td>\n",
       "      <td>(1,+inf)</td>\n",
       "      <td>707</td>\n",
       "      <td>1635</td>\n",
       "      <td>2.094992</td>\n",
       "      <td>0.602558</td>\n",
       "    </tr>\n",
       "    <tr>\n",
       "      <th>3</th>\n",
       "      <td>PAY_0</td>\n",
       "      <td>[-999999]</td>\n",
       "      <td>0</td>\n",
       "      <td>0</td>\n",
       "      <td>0.000000</td>\n",
       "      <td>0.000000</td>\n",
       "    </tr>\n",
       "    <tr>\n",
       "      <th>0</th>\n",
       "      <td>PAY_2</td>\n",
       "      <td>(-inf,1]</td>\n",
       "      <td>16080</td>\n",
       "      <td>3108</td>\n",
       "      <td>-0.386973</td>\n",
       "      <td>0.114002</td>\n",
       "    </tr>\n",
       "  </tbody>\n",
       "</table>\n",
       "</div>"
      ],
      "text/plain": [
       "  Column     Bucket  CntNegative  Cntpositive       WoE       IVS\n",
       "0  PAY_0   (-inf,0]        14987         2391 -0.578847  0.217663\n",
       "1  PAY_0      (0,1]         1821          959  0.615374  0.054405\n",
       "2  PAY_0   (1,+inf)          707         1635  2.094992  0.602558\n",
       "3  PAY_0  [-999999]            0            0  0.000000  0.000000\n",
       "0  PAY_2   (-inf,1]        16080         3108 -0.386973  0.114002"
      ]
     },
     "execution_count": 25,
     "metadata": {},
     "output_type": "execute_result"
    }
   ],
   "source": [
    "discrete.information_value_table.head()"
   ]
  },
  {
   "cell_type": "markdown",
   "metadata": {},
   "source": [
    "## 特征选择"
   ]
  },
  {
   "cell_type": "code",
   "execution_count": 17,
   "metadata": {
    "ExecuteTime": {
     "end_time": "2021-09-22T03:10:00.895716Z",
     "start_time": "2021-09-22T03:10:00.237655Z"
    },
    "scrolled": true
   },
   "outputs": [
    {
     "name": "stderr",
     "output_type": "stream",
     "text": [
      "[Parallel(n_jobs=-1)]: Using backend LokyBackend with 4 concurrent workers.\n",
      "[Parallel(n_jobs=-1)]: Done   1 tasks      | elapsed:    0.0s\n",
      "[Parallel(n_jobs=-1)]: Batch computation too fast (0.0980s.) Setting batch_size=2.\n",
      "[Parallel(n_jobs=-1)]: Done   2 tasks      | elapsed:    0.0s\n",
      "[Parallel(n_jobs=-1)]: Done   3 tasks      | elapsed:    0.0s\n",
      "[Parallel(n_jobs=-1)]: Done   4 tasks      | elapsed:    0.0s\n",
      "[Parallel(n_jobs=-1)]: Done   5 tasks      | elapsed:    0.1s\n",
      "[Parallel(n_jobs=-1)]: Done   6 tasks      | elapsed:    0.1s\n",
      "[Parallel(n_jobs=-1)]: Done   7 tasks      | elapsed:    0.1s\n",
      "[Parallel(n_jobs=-1)]: Done   8 tasks      | elapsed:    0.1s\n",
      "[Parallel(n_jobs=-1)]: Done  10 tasks      | elapsed:    0.3s\n",
      "[Parallel(n_jobs=-1)]: Done  12 tasks      | elapsed:    0.3s\n",
      "[Parallel(n_jobs=-1)]: Done  14 tasks      | elapsed:    0.3s\n",
      "[Parallel(n_jobs=-1)]: Done  16 tasks      | elapsed:    0.3s\n",
      "[Parallel(n_jobs=-1)]: Done  18 out of  23 | elapsed:    0.4s remaining:    0.0s\n",
      "[Parallel(n_jobs=-1)]: Done  20 out of  23 | elapsed:    0.4s remaining:    0.0s\n",
      "[Parallel(n_jobs=-1)]: Done  23 out of  23 | elapsed:    0.5s finished\n"
     ]
    }
   ],
   "source": [
    "select = SelectBins(keep_columns=[\"ID\"], date_columns=[])\n",
    "select.fit(train_x, train_y)\n",
    "train_x = select.transform(train_x)\n",
    "test_x  = select.transform(test_x )"
   ]
  },
  {
   "cell_type": "code",
   "execution_count": 19,
   "metadata": {
    "ExecuteTime": {
     "end_time": "2021-09-22T03:10:34.765429Z",
     "start_time": "2021-09-22T03:10:31.934591Z"
    },
    "scrolled": true
   },
   "outputs": [
    {
     "name": "stderr",
     "output_type": "stream",
     "text": [
      "[Parallel(n_jobs=-1)]: Using backend LokyBackend with 4 concurrent workers.\n",
      "[Parallel(n_jobs=-1)]: Done   1 tasks      | elapsed:    0.0s\n",
      "[Parallel(n_jobs=-1)]: Batch computation too fast (0.0300s.) Setting batch_size=2.\n",
      "[Parallel(n_jobs=-1)]: Done   2 tasks      | elapsed:    0.0s\n",
      "[Parallel(n_jobs=-1)]: Done   3 tasks      | elapsed:    0.0s\n",
      "[Parallel(n_jobs=-1)]: Done   4 tasks      | elapsed:    0.0s\n",
      "[Parallel(n_jobs=-1)]: Done   5 tasks      | elapsed:    0.0s\n",
      "[Parallel(n_jobs=-1)]: Done   6 tasks      | elapsed:    0.0s\n",
      "[Parallel(n_jobs=-1)]: Done   7 tasks      | elapsed:    0.0s\n",
      "[Parallel(n_jobs=-1)]: Done   8 tasks      | elapsed:    0.0s\n",
      "[Parallel(n_jobs=-1)]: Done  10 tasks      | elapsed:    0.0s\n",
      "[Parallel(n_jobs=-1)]: Batch computation too fast (0.1120s.) Setting batch_size=4.\n",
      "[Parallel(n_jobs=-1)]: Done  12 tasks      | elapsed:    0.1s\n",
      "[Parallel(n_jobs=-1)]: Done  14 tasks      | elapsed:    0.1s\n",
      "[Parallel(n_jobs=-1)]: Done  16 tasks      | elapsed:    0.1s\n",
      "[Parallel(n_jobs=-1)]: Done  18 tasks      | elapsed:    0.2s\n",
      "[Parallel(n_jobs=-1)]: Done  20 tasks      | elapsed:    0.2s\n",
      "[Parallel(n_jobs=-1)]: Done  22 tasks      | elapsed:    0.2s\n",
      "[Parallel(n_jobs=-1)]: Done  24 tasks      | elapsed:    0.2s\n",
      "[Parallel(n_jobs=-1)]: Done  28 tasks      | elapsed:    0.3s\n",
      "[Parallel(n_jobs=-1)]: Done  32 tasks      | elapsed:    0.3s\n",
      "[Parallel(n_jobs=-1)]: Done  36 tasks      | elapsed:    0.4s\n",
      "[Parallel(n_jobs=-1)]: Done  40 tasks      | elapsed:    0.4s\n",
      "[Parallel(n_jobs=-1)]: Done  44 tasks      | elapsed:    0.5s\n",
      "[Parallel(n_jobs=-1)]: Done  48 tasks      | elapsed:    0.5s\n",
      "[Parallel(n_jobs=-1)]: Done  52 tasks      | elapsed:    0.5s\n",
      "[Parallel(n_jobs=-1)]: Done  56 tasks      | elapsed:    0.5s\n",
      "[Parallel(n_jobs=-1)]: Done  60 tasks      | elapsed:    0.6s\n",
      "[Parallel(n_jobs=-1)]: Done  64 tasks      | elapsed:    0.6s\n",
      "[Parallel(n_jobs=-1)]: Done  68 tasks      | elapsed:    0.6s\n",
      "[Parallel(n_jobs=-1)]: Done  72 tasks      | elapsed:    0.7s\n",
      "[Parallel(n_jobs=-1)]: Done  91 out of  91 | elapsed:    0.8s finished\n",
      "[Parallel(n_jobs=-1)]: Using backend LokyBackend with 4 concurrent workers.\n",
      "[Parallel(n_jobs=-1)]: Done   1 tasks      | elapsed:    0.0s\n",
      "[Parallel(n_jobs=-1)]: Batch computation too fast (0.0870s.) Setting batch_size=2.\n",
      "[Parallel(n_jobs=-1)]: Done   2 tasks      | elapsed:    0.0s\n",
      "[Parallel(n_jobs=-1)]: Done   3 tasks      | elapsed:    0.0s\n",
      "[Parallel(n_jobs=-1)]: Done   4 tasks      | elapsed:    0.0s\n",
      "[Parallel(n_jobs=-1)]: Done   5 tasks      | elapsed:    0.1s\n",
      "[Parallel(n_jobs=-1)]: Done   6 tasks      | elapsed:    0.1s\n",
      "[Parallel(n_jobs=-1)]: Done   7 tasks      | elapsed:    0.1s\n",
      "[Parallel(n_jobs=-1)]: Done   8 tasks      | elapsed:    0.1s\n",
      "[Parallel(n_jobs=-1)]: Done  10 tasks      | elapsed:    0.2s\n",
      "[Parallel(n_jobs=-1)]: Done  12 tasks      | elapsed:    0.2s\n",
      "[Parallel(n_jobs=-1)]: Done  14 tasks      | elapsed:    0.3s\n",
      "[Parallel(n_jobs=-1)]: Done  16 tasks      | elapsed:    0.3s\n",
      "[Parallel(n_jobs=-1)]: Done  18 tasks      | elapsed:    0.3s\n",
      "[Parallel(n_jobs=-1)]: Done  20 tasks      | elapsed:    0.3s\n",
      "[Parallel(n_jobs=-1)]: Done  22 tasks      | elapsed:    0.4s\n",
      "[Parallel(n_jobs=-1)]: Done  24 tasks      | elapsed:    0.4s\n",
      "[Parallel(n_jobs=-1)]: Done  26 tasks      | elapsed:    0.4s\n",
      "[Parallel(n_jobs=-1)]: Done  28 tasks      | elapsed:    0.5s\n",
      "[Parallel(n_jobs=-1)]: Done  30 tasks      | elapsed:    0.5s\n",
      "[Parallel(n_jobs=-1)]: Done  32 tasks      | elapsed:    0.5s\n",
      "[Parallel(n_jobs=-1)]: Done  34 tasks      | elapsed:    0.6s\n",
      "[Parallel(n_jobs=-1)]: Done  36 tasks      | elapsed:    0.6s\n",
      "[Parallel(n_jobs=-1)]: Done  38 tasks      | elapsed:    0.6s\n",
      "[Parallel(n_jobs=-1)]: Done  40 tasks      | elapsed:    0.6s\n",
      "[Parallel(n_jobs=-1)]: Done  42 tasks      | elapsed:    0.7s\n",
      "[Parallel(n_jobs=-1)]: Done  44 tasks      | elapsed:    0.7s\n",
      "[Parallel(n_jobs=-1)]: Done  46 tasks      | elapsed:    0.7s\n",
      "[Parallel(n_jobs=-1)]: Done  48 tasks      | elapsed:    0.8s\n",
      "[Parallel(n_jobs=-1)]: Done  50 tasks      | elapsed:    0.8s\n",
      "[Parallel(n_jobs=-1)]: Done  52 tasks      | elapsed:    0.8s\n",
      "[Parallel(n_jobs=-1)]: Done  54 tasks      | elapsed:    0.8s\n",
      "[Parallel(n_jobs=-1)]: Done  56 tasks      | elapsed:    0.9s\n",
      "[Parallel(n_jobs=-1)]: Done  58 tasks      | elapsed:    0.9s\n",
      "[Parallel(n_jobs=-1)]: Done  60 tasks      | elapsed:    1.0s\n",
      "[Parallel(n_jobs=-1)]: Done  62 tasks      | elapsed:    1.0s\n",
      "[Parallel(n_jobs=-1)]: Done  64 tasks      | elapsed:    1.0s\n",
      "[Parallel(n_jobs=-1)]: Done  66 tasks      | elapsed:    1.0s\n",
      "[Parallel(n_jobs=-1)]: Done  68 tasks      | elapsed:    1.1s\n",
      "[Parallel(n_jobs=-1)]: Done  70 tasks      | elapsed:    1.1s\n",
      "[Parallel(n_jobs=-1)]: Done  72 tasks      | elapsed:    1.1s\n",
      "[Parallel(n_jobs=-1)]: Done  74 tasks      | elapsed:    1.2s\n",
      "[Parallel(n_jobs=-1)]: Done  76 tasks      | elapsed:    1.2s\n",
      "[Parallel(n_jobs=-1)]: Done  78 tasks      | elapsed:    1.3s\n",
      "[Parallel(n_jobs=-1)]: Done  80 tasks      | elapsed:    1.3s\n",
      "[Parallel(n_jobs=-1)]: Done  84 out of  91 | elapsed:    1.4s remaining:    0.0s\n",
      "[Parallel(n_jobs=-1)]: Done  89 out of  91 | elapsed:    1.5s remaining:    0.0s\n",
      "[Parallel(n_jobs=-1)]: Done  91 out of  91 | elapsed:    1.5s finished\n"
     ]
    }
   ],
   "source": [
    "select = SelectCIFE(keep_columns=[\"ID\"], date_columns=[], nums_feature=10)\n",
    "select.fit(train_x, train_y)\n",
    "train_x = select.transform(train_x)\n",
    "test_x  = select.transform(test_x )"
   ]
  },
  {
   "cell_type": "markdown",
   "metadata": {},
   "source": [
    "## 模型训练"
   ]
  },
  {
   "cell_type": "code",
   "execution_count": 21,
   "metadata": {
    "ExecuteTime": {
     "end_time": "2021-09-22T03:12:21.891365Z",
     "start_time": "2021-09-22T03:12:15.921112Z"
    }
   },
   "outputs": [
    {
     "name": "stdout",
     "output_type": "stream",
     "text": [
      "train ks 0.41234\n",
      "test  ks 0.39388\n"
     ]
    }
   ],
   "source": [
    "lmclassifier = LMClassifier(keep_columns=[\"ID\"], date_columns=[])\n",
    "lmclassifier.fit(train_x, train_y)\n",
    "print(\"train ks {}\".format(lmclassifier.score(train_x, train_y)))\n",
    "print(\"test  ks {}\".format(lmclassifier.score(test_x,  test_y )))"
   ]
  },
  {
   "cell_type": "code",
   "execution_count": 26,
   "metadata": {
    "ExecuteTime": {
     "end_time": "2021-09-22T03:39:07.356018Z",
     "start_time": "2021-09-22T03:39:07.285905Z"
    }
   },
   "outputs": [
    {
     "data": {
      "text/html": [
       "<table class=\"simpletable\">\n",
       "<caption>Generalized Linear Model Regression Results</caption>\n",
       "<tr>\n",
       "  <th>Dep. Variable:</th>   <td>default.payment.next.month</td> <th>  No. Observations:  </th>  <td> 22500</td> \n",
       "</tr>\n",
       "<tr>\n",
       "  <th>Model:</th>                       <td>GLM</td>            <th>  Df Residuals:      </th>  <td> 22492</td> \n",
       "</tr>\n",
       "<tr>\n",
       "  <th>Model Family:</th>             <td>Binomial</td>          <th>  Df Model:          </th>  <td>     7</td> \n",
       "</tr>\n",
       "<tr>\n",
       "  <th>Link Function:</th>              <td>logit</td>           <th>  Scale:             </th> <td>  1.0000</td>\n",
       "</tr>\n",
       "<tr>\n",
       "  <th>Method:</th>                     <td>IRLS</td>            <th>  Log-Likelihood:    </th> <td> -9869.1</td>\n",
       "</tr>\n",
       "<tr>\n",
       "  <th>Date:</th>                 <td>Wed, 22 Sep 2021</td>      <th>  Deviance:          </th> <td>  19738.</td>\n",
       "</tr>\n",
       "<tr>\n",
       "  <th>Time:</th>                     <td>11:39:07</td>          <th>  Pearson chi2:      </th> <td>2.22e+04</td>\n",
       "</tr>\n",
       "<tr>\n",
       "  <th>No. Iterations:</th>               <td>5</td>             <th>                     </th>     <td> </td>   \n",
       "</tr>\n",
       "<tr>\n",
       "  <th>Covariance Type:</th>          <td>nonrobust</td>         <th>                     </th>     <td> </td>   \n",
       "</tr>\n",
       "</table>\n",
       "<table class=\"simpletable\">\n",
       "<tr>\n",
       "      <td></td>         <th>coef</th>     <th>std err</th>      <th>z</th>      <th>P>|z|</th>  <th>[0.025</th>    <th>0.975]</th>  \n",
       "</tr>\n",
       "<tr>\n",
       "  <th>const</th>     <td>   -1.2454</td> <td>    0.018</td> <td>  -68.695</td> <td> 0.000</td> <td>   -1.281</td> <td>   -1.210</td>\n",
       "</tr>\n",
       "<tr>\n",
       "  <th>PAY_5</th>     <td>    0.1584</td> <td>    0.042</td> <td>    3.802</td> <td> 0.000</td> <td>    0.077</td> <td>    0.240</td>\n",
       "</tr>\n",
       "<tr>\n",
       "  <th>LIMIT_BAL</th> <td>    0.4420</td> <td>    0.045</td> <td>    9.857</td> <td> 0.000</td> <td>    0.354</td> <td>    0.530</td>\n",
       "</tr>\n",
       "<tr>\n",
       "  <th>PAY_AMT4</th>  <td>    0.5919</td> <td>    0.058</td> <td>   10.234</td> <td> 0.000</td> <td>    0.479</td> <td>    0.705</td>\n",
       "</tr>\n",
       "<tr>\n",
       "  <th>PAY_3</th>     <td>    0.2122</td> <td>    0.039</td> <td>    5.381</td> <td> 0.000</td> <td>    0.135</td> <td>    0.289</td>\n",
       "</tr>\n",
       "<tr>\n",
       "  <th>PAY_0</th>     <td>    0.7574</td> <td>    0.023</td> <td>   32.783</td> <td> 0.000</td> <td>    0.712</td> <td>    0.803</td>\n",
       "</tr>\n",
       "<tr>\n",
       "  <th>PAY_4</th>     <td>    0.1679</td> <td>    0.044</td> <td>    3.777</td> <td> 0.000</td> <td>    0.081</td> <td>    0.255</td>\n",
       "</tr>\n",
       "<tr>\n",
       "  <th>PAY_2</th>     <td>    0.1206</td> <td>    0.033</td> <td>    3.614</td> <td> 0.000</td> <td>    0.055</td> <td>    0.186</td>\n",
       "</tr>\n",
       "</table>"
      ],
      "text/plain": [
       "<class 'statsmodels.iolib.summary.Summary'>\n",
       "\"\"\"\n",
       "                     Generalized Linear Model Regression Results                      \n",
       "======================================================================================\n",
       "Dep. Variable:     default.payment.next.month   No. Observations:                22500\n",
       "Model:                                    GLM   Df Residuals:                    22492\n",
       "Model Family:                        Binomial   Df Model:                            7\n",
       "Link Function:                          logit   Scale:                          1.0000\n",
       "Method:                                  IRLS   Log-Likelihood:                -9869.1\n",
       "Date:                        Wed, 22 Sep 2021   Deviance:                       19738.\n",
       "Time:                                11:39:07   Pearson chi2:                 2.22e+04\n",
       "No. Iterations:                             5                                         \n",
       "Covariance Type:                    nonrobust                                         \n",
       "==============================================================================\n",
       "                 coef    std err          z      P>|z|      [0.025      0.975]\n",
       "------------------------------------------------------------------------------\n",
       "const         -1.2454      0.018    -68.695      0.000      -1.281      -1.210\n",
       "PAY_5          0.1584      0.042      3.802      0.000       0.077       0.240\n",
       "LIMIT_BAL      0.4420      0.045      9.857      0.000       0.354       0.530\n",
       "PAY_AMT4       0.5919      0.058     10.234      0.000       0.479       0.705\n",
       "PAY_3          0.2122      0.039      5.381      0.000       0.135       0.289\n",
       "PAY_0          0.7574      0.023     32.783      0.000       0.712       0.803\n",
       "PAY_4          0.1679      0.044      3.777      0.000       0.081       0.255\n",
       "PAY_2          0.1206      0.033      3.614      0.000       0.055       0.186\n",
       "==============================================================================\n",
       "\"\"\""
      ]
     },
     "execution_count": 26,
     "metadata": {},
     "output_type": "execute_result"
    }
   ],
   "source": [
    "lmclassifier.model()"
   ]
  },
  {
   "cell_type": "markdown",
   "metadata": {},
   "source": [
    "## 评分卡生成"
   ]
  },
  {
   "cell_type": "code",
   "execution_count": 23,
   "metadata": {
    "ExecuteTime": {
     "end_time": "2021-09-22T03:13:07.100200Z",
     "start_time": "2021-09-22T03:13:04.630104Z"
    }
   },
   "outputs": [
    {
     "data": {
      "text/html": [
       "<div>\n",
       "<style scoped>\n",
       "    .dataframe tbody tr th:only-of-type {\n",
       "        vertical-align: middle;\n",
       "    }\n",
       "\n",
       "    .dataframe tbody tr th {\n",
       "        vertical-align: top;\n",
       "    }\n",
       "\n",
       "    .dataframe thead th {\n",
       "        text-align: right;\n",
       "    }\n",
       "</style>\n",
       "<table border=\"1\" class=\"dataframe\">\n",
       "  <thead>\n",
       "    <tr style=\"text-align: right;\">\n",
       "      <th></th>\n",
       "      <th>Column</th>\n",
       "      <th>Bucket</th>\n",
       "      <th>WoE</th>\n",
       "      <th>Coefficients</th>\n",
       "      <th>PartialScore</th>\n",
       "      <th>OffsetScores</th>\n",
       "    </tr>\n",
       "  </thead>\n",
       "  <tbody>\n",
       "    <tr>\n",
       "      <th>0</th>\n",
       "      <td>PAY_5</td>\n",
       "      <td>(-inf,0]</td>\n",
       "      <td>-0.228131</td>\n",
       "      <td>0.158436</td>\n",
       "      <td>1.042898</td>\n",
       "      <td>535.93372</td>\n",
       "    </tr>\n",
       "    <tr>\n",
       "      <th>1</th>\n",
       "      <td>PAY_5</td>\n",
       "      <td>(0,+inf)</td>\n",
       "      <td>1.486849</td>\n",
       "      <td>0.158436</td>\n",
       "      <td>-6.797114</td>\n",
       "      <td>535.93372</td>\n",
       "    </tr>\n",
       "    <tr>\n",
       "      <th>2</th>\n",
       "      <td>PAY_5</td>\n",
       "      <td>[-999999]</td>\n",
       "      <td>0.000000</td>\n",
       "      <td>0.158436</td>\n",
       "      <td>-0.000000</td>\n",
       "      <td>535.93372</td>\n",
       "    </tr>\n",
       "    <tr>\n",
       "      <th>0</th>\n",
       "      <td>LIMIT_BAL</td>\n",
       "      <td>(-inf,40000.0]</td>\n",
       "      <td>0.690275</td>\n",
       "      <td>0.442031</td>\n",
       "      <td>-8.803997</td>\n",
       "      <td>535.93372</td>\n",
       "    </tr>\n",
       "    <tr>\n",
       "      <th>1</th>\n",
       "      <td>LIMIT_BAL</td>\n",
       "      <td>(40000.0,140000.0]</td>\n",
       "      <td>0.178152</td>\n",
       "      <td>0.442031</td>\n",
       "      <td>-2.272213</td>\n",
       "      <td>535.93372</td>\n",
       "    </tr>\n",
       "    <tr>\n",
       "      <th>2</th>\n",
       "      <td>LIMIT_BAL</td>\n",
       "      <td>(140000.0,+inf)</td>\n",
       "      <td>-0.421951</td>\n",
       "      <td>0.442031</td>\n",
       "      <td>5.381706</td>\n",
       "      <td>535.93372</td>\n",
       "    </tr>\n",
       "    <tr>\n",
       "      <th>3</th>\n",
       "      <td>LIMIT_BAL</td>\n",
       "      <td>[-999999]</td>\n",
       "      <td>0.000000</td>\n",
       "      <td>0.442031</td>\n",
       "      <td>-0.000000</td>\n",
       "      <td>535.93372</td>\n",
       "    </tr>\n",
       "    <tr>\n",
       "      <th>0</th>\n",
       "      <td>PAY_AMT4</td>\n",
       "      <td>(-inf,0.0]</td>\n",
       "      <td>0.475069</td>\n",
       "      <td>0.591888</td>\n",
       "      <td>-8.113349</td>\n",
       "      <td>535.93372</td>\n",
       "    </tr>\n",
       "    <tr>\n",
       "      <th>1</th>\n",
       "      <td>PAY_AMT4</td>\n",
       "      <td>(0.0,1900.0]</td>\n",
       "      <td>0.065610</td>\n",
       "      <td>0.591888</td>\n",
       "      <td>-1.120511</td>\n",
       "      <td>535.93372</td>\n",
       "    </tr>\n",
       "    <tr>\n",
       "      <th>2</th>\n",
       "      <td>PAY_AMT4</td>\n",
       "      <td>(1900.0,+inf)</td>\n",
       "      <td>-0.332999</td>\n",
       "      <td>0.591888</td>\n",
       "      <td>5.687054</td>\n",
       "      <td>535.93372</td>\n",
       "    </tr>\n",
       "    <tr>\n",
       "      <th>3</th>\n",
       "      <td>PAY_AMT4</td>\n",
       "      <td>[-999999]</td>\n",
       "      <td>0.000000</td>\n",
       "      <td>0.591888</td>\n",
       "      <td>-0.000000</td>\n",
       "      <td>535.93372</td>\n",
       "    </tr>\n",
       "    <tr>\n",
       "      <th>0</th>\n",
       "      <td>PAY_3</td>\n",
       "      <td>(-inf,1]</td>\n",
       "      <td>-0.318642</td>\n",
       "      <td>0.212158</td>\n",
       "      <td>1.950595</td>\n",
       "      <td>535.93372</td>\n",
       "    </tr>\n",
       "    <tr>\n",
       "      <th>1</th>\n",
       "      <td>PAY_3</td>\n",
       "      <td>(1,+inf)</td>\n",
       "      <td>1.368731</td>\n",
       "      <td>0.212158</td>\n",
       "      <td>-8.378816</td>\n",
       "      <td>535.93372</td>\n",
       "    </tr>\n",
       "    <tr>\n",
       "      <th>2</th>\n",
       "      <td>PAY_3</td>\n",
       "      <td>[-999999]</td>\n",
       "      <td>0.000000</td>\n",
       "      <td>0.212158</td>\n",
       "      <td>-0.000000</td>\n",
       "      <td>535.93372</td>\n",
       "    </tr>\n",
       "    <tr>\n",
       "      <th>0</th>\n",
       "      <td>PAY_0</td>\n",
       "      <td>(-inf,0]</td>\n",
       "      <td>-0.578847</td>\n",
       "      <td>0.757377</td>\n",
       "      <td>12.649712</td>\n",
       "      <td>535.93372</td>\n",
       "    </tr>\n",
       "    <tr>\n",
       "      <th>1</th>\n",
       "      <td>PAY_0</td>\n",
       "      <td>(0,1]</td>\n",
       "      <td>0.615374</td>\n",
       "      <td>0.757377</td>\n",
       "      <td>-13.447947</td>\n",
       "      <td>535.93372</td>\n",
       "    </tr>\n",
       "    <tr>\n",
       "      <th>2</th>\n",
       "      <td>PAY_0</td>\n",
       "      <td>(1,+inf)</td>\n",
       "      <td>2.094992</td>\n",
       "      <td>0.757377</td>\n",
       "      <td>-45.782445</td>\n",
       "      <td>535.93372</td>\n",
       "    </tr>\n",
       "    <tr>\n",
       "      <th>3</th>\n",
       "      <td>PAY_0</td>\n",
       "      <td>[-999999]</td>\n",
       "      <td>0.000000</td>\n",
       "      <td>0.757377</td>\n",
       "      <td>-0.000000</td>\n",
       "      <td>535.93372</td>\n",
       "    </tr>\n",
       "    <tr>\n",
       "      <th>0</th>\n",
       "      <td>PAY_4</td>\n",
       "      <td>(-inf,1]</td>\n",
       "      <td>-0.265879</td>\n",
       "      <td>0.167904</td>\n",
       "      <td>1.288098</td>\n",
       "      <td>535.93372</td>\n",
       "    </tr>\n",
       "    <tr>\n",
       "      <th>1</th>\n",
       "      <td>PAY_4</td>\n",
       "      <td>(1,+inf)</td>\n",
       "      <td>1.415448</td>\n",
       "      <td>0.167904</td>\n",
       "      <td>-6.857387</td>\n",
       "      <td>535.93372</td>\n",
       "    </tr>\n",
       "    <tr>\n",
       "      <th>2</th>\n",
       "      <td>PAY_4</td>\n",
       "      <td>[-999999]</td>\n",
       "      <td>0.000000</td>\n",
       "      <td>0.167904</td>\n",
       "      <td>-0.000000</td>\n",
       "      <td>535.93372</td>\n",
       "    </tr>\n",
       "    <tr>\n",
       "      <th>0</th>\n",
       "      <td>PAY_2</td>\n",
       "      <td>(-inf,1]</td>\n",
       "      <td>-0.386973</td>\n",
       "      <td>0.120601</td>\n",
       "      <td>1.346593</td>\n",
       "      <td>535.93372</td>\n",
       "    </tr>\n",
       "    <tr>\n",
       "      <th>1</th>\n",
       "      <td>PAY_2</td>\n",
       "      <td>(1,+inf)</td>\n",
       "      <td>1.525134</td>\n",
       "      <td>0.120601</td>\n",
       "      <td>-5.307185</td>\n",
       "      <td>535.93372</td>\n",
       "    </tr>\n",
       "    <tr>\n",
       "      <th>2</th>\n",
       "      <td>PAY_2</td>\n",
       "      <td>[-999999]</td>\n",
       "      <td>0.000000</td>\n",
       "      <td>0.120601</td>\n",
       "      <td>-0.000000</td>\n",
       "      <td>535.93372</td>\n",
       "    </tr>\n",
       "  </tbody>\n",
       "</table>\n",
       "</div>"
      ],
      "text/plain": [
       "      Column              Bucket       WoE  Coefficients  PartialScore  \\\n",
       "0      PAY_5            (-inf,0] -0.228131      0.158436      1.042898   \n",
       "1      PAY_5            (0,+inf)  1.486849      0.158436     -6.797114   \n",
       "2      PAY_5           [-999999]  0.000000      0.158436     -0.000000   \n",
       "0  LIMIT_BAL      (-inf,40000.0]  0.690275      0.442031     -8.803997   \n",
       "1  LIMIT_BAL  (40000.0,140000.0]  0.178152      0.442031     -2.272213   \n",
       "2  LIMIT_BAL     (140000.0,+inf) -0.421951      0.442031      5.381706   \n",
       "3  LIMIT_BAL           [-999999]  0.000000      0.442031     -0.000000   \n",
       "0   PAY_AMT4          (-inf,0.0]  0.475069      0.591888     -8.113349   \n",
       "1   PAY_AMT4        (0.0,1900.0]  0.065610      0.591888     -1.120511   \n",
       "2   PAY_AMT4       (1900.0,+inf) -0.332999      0.591888      5.687054   \n",
       "3   PAY_AMT4           [-999999]  0.000000      0.591888     -0.000000   \n",
       "0      PAY_3            (-inf,1] -0.318642      0.212158      1.950595   \n",
       "1      PAY_3            (1,+inf)  1.368731      0.212158     -8.378816   \n",
       "2      PAY_3           [-999999]  0.000000      0.212158     -0.000000   \n",
       "0      PAY_0            (-inf,0] -0.578847      0.757377     12.649712   \n",
       "1      PAY_0               (0,1]  0.615374      0.757377    -13.447947   \n",
       "2      PAY_0            (1,+inf)  2.094992      0.757377    -45.782445   \n",
       "3      PAY_0           [-999999]  0.000000      0.757377     -0.000000   \n",
       "0      PAY_4            (-inf,1] -0.265879      0.167904      1.288098   \n",
       "1      PAY_4            (1,+inf)  1.415448      0.167904     -6.857387   \n",
       "2      PAY_4           [-999999]  0.000000      0.167904     -0.000000   \n",
       "0      PAY_2            (-inf,1] -0.386973      0.120601      1.346593   \n",
       "1      PAY_2            (1,+inf)  1.525134      0.120601     -5.307185   \n",
       "2      PAY_2           [-999999]  0.000000      0.120601     -0.000000   \n",
       "\n",
       "   OffsetScores  \n",
       "0     535.93372  \n",
       "1     535.93372  \n",
       "2     535.93372  \n",
       "0     535.93372  \n",
       "1     535.93372  \n",
       "2     535.93372  \n",
       "3     535.93372  \n",
       "0     535.93372  \n",
       "1     535.93372  \n",
       "2     535.93372  \n",
       "3     535.93372  \n",
       "0     535.93372  \n",
       "1     535.93372  \n",
       "2     535.93372  \n",
       "0     535.93372  \n",
       "1     535.93372  \n",
       "2     535.93372  \n",
       "3     535.93372  \n",
       "0     535.93372  \n",
       "1     535.93372  \n",
       "2     535.93372  \n",
       "0     535.93372  \n",
       "1     535.93372  \n",
       "2     535.93372  "
      ]
     },
     "execution_count": 23,
     "metadata": {},
     "output_type": "execute_result"
    }
   ],
   "source": [
    "lmcreditcard = LMCreditcard(\n",
    "        keep_columns=[\"ID\"], date_columns=[], discrete=discrete, lmclassifier=lmclassifier, BASE=500,  PDO=20,  ODDS=1)\n",
    "lmcreditcard.show_scorecard()"
   ]
  },
  {
   "cell_type": "code",
   "execution_count": null,
   "metadata": {},
   "outputs": [],
   "source": []
  }
 ],
 "metadata": {
  "hide_input": false,
  "kernelspec": {
   "display_name": "PyCharm (scikit-credit)",
   "language": "python",
   "name": "pycharm-de40666d"
  },
  "toc": {
   "base_numbering": 1,
   "nav_menu": {},
   "number_sections": true,
   "sideBar": true,
   "skip_h1_title": false,
   "title_cell": "Table of Contents",
   "title_sidebar": "Contents",
   "toc_cell": false,
   "toc_position": {},
   "toc_section_display": true,
   "toc_window_display": true
  },
  "varInspector": {
   "cols": {
    "lenName": 16,
    "lenType": 16,
    "lenVar": 40
   },
   "kernels_config": {
    "python": {
     "delete_cmd_postfix": "",
     "delete_cmd_prefix": "del ",
     "library": "var_list.py",
     "varRefreshCmd": "print(var_dic_list())"
    },
    "r": {
     "delete_cmd_postfix": ") ",
     "delete_cmd_prefix": "rm(",
     "library": "var_list.r",
     "varRefreshCmd": "cat(var_dic_list()) "
    }
   },
   "types_to_exclude": [
    "module",
    "function",
    "builtin_function_or_method",
    "instance",
    "_Feature"
   ],
   "window_display": false
  }
 },
 "nbformat": 4,
 "nbformat_minor": 1
}
