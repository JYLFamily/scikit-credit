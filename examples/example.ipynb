{
 "cells": [
  {
   "cell_type": "code",
   "execution_count": 1,
   "metadata": {
    "ExecuteTime": {
     "end_time": "2021-09-30T01:51:19.721605Z",
     "start_time": "2021-09-30T01:51:13.801190Z"
    },
    "pycharm": {
     "name": "#%%\n"
    }
   },
   "outputs": [],
   "source": [
    "import numpy  as np\n",
    "import pandas as pd\n",
    "from sklearn.model_selection import train_test_split\n",
    "from skcredit.feature_discretization import SplitCat\n",
    "from skcredit.feature_discretization import SplitNum\n",
    "from skcredit.feature_discretization import DiscreteAuto\n",
    "from skcredit.feature_discretization import DiscreteCust\n",
    "from skcredit.feature_selection import SelectBins\n",
    "from skcredit.feature_selection import SelectCIFE\n",
    "from skcredit.linear_model import LMClassifier\n",
    "from skcredit.linear_model import LMCreditcard\n",
    "np.random.seed(7)\n",
    "pd.set_option(\"max_rows\",    None)\n",
    "pd.set_option(\"max_columns\", None)"
   ]
  },
  {
   "cell_type": "markdown",
   "metadata": {
    "pycharm": {
     "name": "#%% md\n"
    }
   },
   "source": [
    "[数据介绍]()"
   ]
  },
  {
   "cell_type": "markdown",
   "metadata": {},
   "source": [
    "## 读入数据"
   ]
  },
  {
   "cell_type": "code",
   "execution_count": 2,
   "metadata": {
    "ExecuteTime": {
     "end_time": "2021-09-30T01:51:19.832616Z",
     "start_time": "2021-09-30T01:51:19.724502Z"
    },
    "pycharm": {
     "name": "#%%\n"
    }
   },
   "outputs": [],
   "source": [
    "dataset = pd.read_csv(\"../UCI_Credit_Card.csv\")"
   ]
  },
  {
   "cell_type": "code",
   "execution_count": 3,
   "metadata": {
    "ExecuteTime": {
     "end_time": "2021-09-30T01:51:19.847500Z",
     "start_time": "2021-09-30T01:51:19.835500Z"
    },
    "pycharm": {
     "name": "#%%\n"
    }
   },
   "outputs": [
    {
     "data": {
      "text/plain": [
       "(30000, 25)"
      ]
     },
     "execution_count": 3,
     "metadata": {},
     "output_type": "execute_result"
    }
   ],
   "source": [
    "dataset.shape"
   ]
  },
  {
   "cell_type": "code",
   "execution_count": 4,
   "metadata": {
    "ExecuteTime": {
     "end_time": "2021-09-30T01:51:19.911537Z",
     "start_time": "2021-09-30T01:51:19.852501Z"
    },
    "pycharm": {
     "name": "#%%\n"
    }
   },
   "outputs": [
    {
     "data": {
      "text/html": [
       "<div>\n",
       "<style scoped>\n",
       "    .dataframe tbody tr th:only-of-type {\n",
       "        vertical-align: middle;\n",
       "    }\n",
       "\n",
       "    .dataframe tbody tr th {\n",
       "        vertical-align: top;\n",
       "    }\n",
       "\n",
       "    .dataframe thead th {\n",
       "        text-align: right;\n",
       "    }\n",
       "</style>\n",
       "<table border=\"1\" class=\"dataframe\">\n",
       "  <thead>\n",
       "    <tr style=\"text-align: right;\">\n",
       "      <th></th>\n",
       "      <th>ID</th>\n",
       "      <th>LIMIT_BAL</th>\n",
       "      <th>SEX</th>\n",
       "      <th>EDUCATION</th>\n",
       "      <th>MARRIAGE</th>\n",
       "      <th>AGE</th>\n",
       "      <th>PAY_0</th>\n",
       "      <th>PAY_2</th>\n",
       "      <th>PAY_3</th>\n",
       "      <th>PAY_4</th>\n",
       "      <th>PAY_5</th>\n",
       "      <th>PAY_6</th>\n",
       "      <th>BILL_AMT1</th>\n",
       "      <th>BILL_AMT2</th>\n",
       "      <th>BILL_AMT3</th>\n",
       "      <th>BILL_AMT4</th>\n",
       "      <th>BILL_AMT5</th>\n",
       "      <th>BILL_AMT6</th>\n",
       "      <th>PAY_AMT1</th>\n",
       "      <th>PAY_AMT2</th>\n",
       "      <th>PAY_AMT3</th>\n",
       "      <th>PAY_AMT4</th>\n",
       "      <th>PAY_AMT5</th>\n",
       "      <th>PAY_AMT6</th>\n",
       "      <th>default.payment.next.month</th>\n",
       "    </tr>\n",
       "  </thead>\n",
       "  <tbody>\n",
       "    <tr>\n",
       "      <th>0</th>\n",
       "      <td>1</td>\n",
       "      <td>20000.0</td>\n",
       "      <td>2</td>\n",
       "      <td>2</td>\n",
       "      <td>1</td>\n",
       "      <td>24</td>\n",
       "      <td>2</td>\n",
       "      <td>2</td>\n",
       "      <td>-1</td>\n",
       "      <td>-1</td>\n",
       "      <td>-2</td>\n",
       "      <td>-2</td>\n",
       "      <td>3913.0</td>\n",
       "      <td>3102.0</td>\n",
       "      <td>689.0</td>\n",
       "      <td>0.0</td>\n",
       "      <td>0.0</td>\n",
       "      <td>0.0</td>\n",
       "      <td>0.0</td>\n",
       "      <td>689.0</td>\n",
       "      <td>0.0</td>\n",
       "      <td>0.0</td>\n",
       "      <td>0.0</td>\n",
       "      <td>0.0</td>\n",
       "      <td>1</td>\n",
       "    </tr>\n",
       "    <tr>\n",
       "      <th>1</th>\n",
       "      <td>2</td>\n",
       "      <td>120000.0</td>\n",
       "      <td>2</td>\n",
       "      <td>2</td>\n",
       "      <td>2</td>\n",
       "      <td>26</td>\n",
       "      <td>-1</td>\n",
       "      <td>2</td>\n",
       "      <td>0</td>\n",
       "      <td>0</td>\n",
       "      <td>0</td>\n",
       "      <td>2</td>\n",
       "      <td>2682.0</td>\n",
       "      <td>1725.0</td>\n",
       "      <td>2682.0</td>\n",
       "      <td>3272.0</td>\n",
       "      <td>3455.0</td>\n",
       "      <td>3261.0</td>\n",
       "      <td>0.0</td>\n",
       "      <td>1000.0</td>\n",
       "      <td>1000.0</td>\n",
       "      <td>1000.0</td>\n",
       "      <td>0.0</td>\n",
       "      <td>2000.0</td>\n",
       "      <td>1</td>\n",
       "    </tr>\n",
       "    <tr>\n",
       "      <th>2</th>\n",
       "      <td>3</td>\n",
       "      <td>90000.0</td>\n",
       "      <td>2</td>\n",
       "      <td>2</td>\n",
       "      <td>2</td>\n",
       "      <td>34</td>\n",
       "      <td>0</td>\n",
       "      <td>0</td>\n",
       "      <td>0</td>\n",
       "      <td>0</td>\n",
       "      <td>0</td>\n",
       "      <td>0</td>\n",
       "      <td>29239.0</td>\n",
       "      <td>14027.0</td>\n",
       "      <td>13559.0</td>\n",
       "      <td>14331.0</td>\n",
       "      <td>14948.0</td>\n",
       "      <td>15549.0</td>\n",
       "      <td>1518.0</td>\n",
       "      <td>1500.0</td>\n",
       "      <td>1000.0</td>\n",
       "      <td>1000.0</td>\n",
       "      <td>1000.0</td>\n",
       "      <td>5000.0</td>\n",
       "      <td>0</td>\n",
       "    </tr>\n",
       "    <tr>\n",
       "      <th>3</th>\n",
       "      <td>4</td>\n",
       "      <td>50000.0</td>\n",
       "      <td>2</td>\n",
       "      <td>2</td>\n",
       "      <td>1</td>\n",
       "      <td>37</td>\n",
       "      <td>0</td>\n",
       "      <td>0</td>\n",
       "      <td>0</td>\n",
       "      <td>0</td>\n",
       "      <td>0</td>\n",
       "      <td>0</td>\n",
       "      <td>46990.0</td>\n",
       "      <td>48233.0</td>\n",
       "      <td>49291.0</td>\n",
       "      <td>28314.0</td>\n",
       "      <td>28959.0</td>\n",
       "      <td>29547.0</td>\n",
       "      <td>2000.0</td>\n",
       "      <td>2019.0</td>\n",
       "      <td>1200.0</td>\n",
       "      <td>1100.0</td>\n",
       "      <td>1069.0</td>\n",
       "      <td>1000.0</td>\n",
       "      <td>0</td>\n",
       "    </tr>\n",
       "    <tr>\n",
       "      <th>4</th>\n",
       "      <td>5</td>\n",
       "      <td>50000.0</td>\n",
       "      <td>1</td>\n",
       "      <td>2</td>\n",
       "      <td>1</td>\n",
       "      <td>57</td>\n",
       "      <td>-1</td>\n",
       "      <td>0</td>\n",
       "      <td>-1</td>\n",
       "      <td>0</td>\n",
       "      <td>0</td>\n",
       "      <td>0</td>\n",
       "      <td>8617.0</td>\n",
       "      <td>5670.0</td>\n",
       "      <td>35835.0</td>\n",
       "      <td>20940.0</td>\n",
       "      <td>19146.0</td>\n",
       "      <td>19131.0</td>\n",
       "      <td>2000.0</td>\n",
       "      <td>36681.0</td>\n",
       "      <td>10000.0</td>\n",
       "      <td>9000.0</td>\n",
       "      <td>689.0</td>\n",
       "      <td>679.0</td>\n",
       "      <td>0</td>\n",
       "    </tr>\n",
       "  </tbody>\n",
       "</table>\n",
       "</div>"
      ],
      "text/plain": [
       "   ID  LIMIT_BAL  SEX  EDUCATION  MARRIAGE  AGE  PAY_0  PAY_2  PAY_3  PAY_4  \\\n",
       "0   1    20000.0    2          2         1   24      2      2     -1     -1   \n",
       "1   2   120000.0    2          2         2   26     -1      2      0      0   \n",
       "2   3    90000.0    2          2         2   34      0      0      0      0   \n",
       "3   4    50000.0    2          2         1   37      0      0      0      0   \n",
       "4   5    50000.0    1          2         1   57     -1      0     -1      0   \n",
       "\n",
       "   PAY_5  PAY_6  BILL_AMT1  BILL_AMT2  BILL_AMT3  BILL_AMT4  BILL_AMT5  \\\n",
       "0     -2     -2     3913.0     3102.0      689.0        0.0        0.0   \n",
       "1      0      2     2682.0     1725.0     2682.0     3272.0     3455.0   \n",
       "2      0      0    29239.0    14027.0    13559.0    14331.0    14948.0   \n",
       "3      0      0    46990.0    48233.0    49291.0    28314.0    28959.0   \n",
       "4      0      0     8617.0     5670.0    35835.0    20940.0    19146.0   \n",
       "\n",
       "   BILL_AMT6  PAY_AMT1  PAY_AMT2  PAY_AMT3  PAY_AMT4  PAY_AMT5  PAY_AMT6  \\\n",
       "0        0.0       0.0     689.0       0.0       0.0       0.0       0.0   \n",
       "1     3261.0       0.0    1000.0    1000.0    1000.0       0.0    2000.0   \n",
       "2    15549.0    1518.0    1500.0    1000.0    1000.0    1000.0    5000.0   \n",
       "3    29547.0    2000.0    2019.0    1200.0    1100.0    1069.0    1000.0   \n",
       "4    19131.0    2000.0   36681.0   10000.0    9000.0     689.0     679.0   \n",
       "\n",
       "   default.payment.next.month  \n",
       "0                           1  \n",
       "1                           1  \n",
       "2                           0  \n",
       "3                           0  \n",
       "4                           0  "
      ]
     },
     "execution_count": 4,
     "metadata": {},
     "output_type": "execute_result"
    }
   ],
   "source": [
    "dataset.head()"
   ]
  },
  {
   "cell_type": "markdown",
   "metadata": {},
   "source": [
    "## 分类单特征分箱"
   ]
  },
  {
   "cell_type": "code",
   "execution_count": 5,
   "metadata": {
    "ExecuteTime": {
     "end_time": "2021-09-30T01:51:19.989613Z",
     "start_time": "2021-09-30T01:51:19.913504Z"
    },
    "pycharm": {
     "name": "#%%\n"
    }
   },
   "outputs": [
    {
     "data": {
      "text/plain": [
       "SplitCat()"
      ]
     },
     "execution_count": 5,
     "metadata": {},
     "output_type": "execute_result"
    }
   ],
   "source": [
    "sc = SplitCat()\n",
    "sc.fit(dataset[\"EDUCATION\"], dataset[\"default.payment.next.month\"])"
   ]
  },
  {
   "cell_type": "code",
   "execution_count": 6,
   "metadata": {
    "ExecuteTime": {
     "end_time": "2021-09-30T01:51:20.005507Z",
     "start_time": "2021-09-30T01:51:19.991501Z"
    },
    "pycharm": {
     "name": "#%%\n"
    }
   },
   "outputs": [
    {
     "data": {
      "text/html": [
       "<div>\n",
       "<style scoped>\n",
       "    .dataframe tbody tr th:only-of-type {\n",
       "        vertical-align: middle;\n",
       "    }\n",
       "\n",
       "    .dataframe tbody tr th {\n",
       "        vertical-align: top;\n",
       "    }\n",
       "\n",
       "    .dataframe thead th {\n",
       "        text-align: right;\n",
       "    }\n",
       "</style>\n",
       "<table border=\"1\" class=\"dataframe\">\n",
       "  <thead>\n",
       "    <tr style=\"text-align: right;\">\n",
       "      <th></th>\n",
       "      <th>Column</th>\n",
       "      <th>Bucket</th>\n",
       "      <th>CntPositive</th>\n",
       "      <th>CntNegative</th>\n",
       "      <th>WoE</th>\n",
       "      <th>IvS</th>\n",
       "    </tr>\n",
       "  </thead>\n",
       "  <tbody>\n",
       "    <tr>\n",
       "      <th>0</th>\n",
       "      <td>EDUCATION</td>\n",
       "      <td>{0, 1, 4, 5, 6}</td>\n",
       "      <td>2069</td>\n",
       "      <td>8984</td>\n",
       "      <td>-0.209693</td>\n",
       "      <td>0.015253</td>\n",
       "    </tr>\n",
       "    <tr>\n",
       "      <th>1</th>\n",
       "      <td>EDUCATION</td>\n",
       "      <td>{2, 3}</td>\n",
       "      <td>4567</td>\n",
       "      <td>14380</td>\n",
       "      <td>0.111705</td>\n",
       "      <td>0.008125</td>\n",
       "    </tr>\n",
       "    <tr>\n",
       "      <th>2</th>\n",
       "      <td>EDUCATION</td>\n",
       "      <td>{nan}</td>\n",
       "      <td>0</td>\n",
       "      <td>0</td>\n",
       "      <td>0.000000</td>\n",
       "      <td>0.000000</td>\n",
       "    </tr>\n",
       "  </tbody>\n",
       "</table>\n",
       "</div>"
      ],
      "text/plain": [
       "      Column           Bucket  CntPositive  CntNegative       WoE       IvS\n",
       "0  EDUCATION  {0, 1, 4, 5, 6}         2069         8984 -0.209693  0.015253\n",
       "1  EDUCATION           {2, 3}         4567        14380  0.111705  0.008125\n",
       "2  EDUCATION            {nan}            0            0  0.000000  0.000000"
      ]
     },
     "execution_count": 6,
     "metadata": {},
     "output_type": "execute_result"
    }
   ],
   "source": [
    "sc.table"
   ]
  },
  {
   "cell_type": "markdown",
   "metadata": {},
   "source": [
    "自定义参数"
   ]
  },
  {
   "cell_type": "code",
   "execution_count": 7,
   "metadata": {
    "ExecuteTime": {
     "end_time": "2021-09-30T01:51:20.084611Z",
     "start_time": "2021-09-30T01:51:20.009504Z"
    }
   },
   "outputs": [
    {
     "data": {
      "text/plain": [
       "SplitCat(min_information_value_split_gain=0.001)"
      ]
     },
     "execution_count": 7,
     "metadata": {},
     "output_type": "execute_result"
    }
   ],
   "source": [
    "# 默认参数\n",
    "# min_bin_cnt_negative=75\n",
    "# min_bin_cnt_positive=75\n",
    "# min_information_value_split_gain=0.015\n",
    "\n",
    "sc = SplitCat(min_information_value_split_gain=0.001)\n",
    "sc.fit(dataset[\"EDUCATION\"], dataset[\"default.payment.next.month\"])"
   ]
  },
  {
   "cell_type": "code",
   "execution_count": 8,
   "metadata": {
    "ExecuteTime": {
     "end_time": "2021-09-30T01:51:20.115613Z",
     "start_time": "2021-09-30T01:51:20.088503Z"
    }
   },
   "outputs": [
    {
     "data": {
      "text/html": [
       "<div>\n",
       "<style scoped>\n",
       "    .dataframe tbody tr th:only-of-type {\n",
       "        vertical-align: middle;\n",
       "    }\n",
       "\n",
       "    .dataframe tbody tr th {\n",
       "        vertical-align: top;\n",
       "    }\n",
       "\n",
       "    .dataframe thead th {\n",
       "        text-align: right;\n",
       "    }\n",
       "</style>\n",
       "<table border=\"1\" class=\"dataframe\">\n",
       "  <thead>\n",
       "    <tr style=\"text-align: right;\">\n",
       "      <th></th>\n",
       "      <th>Column</th>\n",
       "      <th>Bucket</th>\n",
       "      <th>CntPositive</th>\n",
       "      <th>CntNegative</th>\n",
       "      <th>WoE</th>\n",
       "      <th>IvS</th>\n",
       "    </tr>\n",
       "  </thead>\n",
       "  <tbody>\n",
       "    <tr>\n",
       "      <th>0</th>\n",
       "      <td>EDUCATION</td>\n",
       "      <td>{0, 1, 4, 5, 6}</td>\n",
       "      <td>2069</td>\n",
       "      <td>8984</td>\n",
       "      <td>-0.209693</td>\n",
       "      <td>0.015253</td>\n",
       "    </tr>\n",
       "    <tr>\n",
       "      <th>1</th>\n",
       "      <td>EDUCATION</td>\n",
       "      <td>{2, 3}</td>\n",
       "      <td>4567</td>\n",
       "      <td>14380</td>\n",
       "      <td>0.111705</td>\n",
       "      <td>0.008125</td>\n",
       "    </tr>\n",
       "    <tr>\n",
       "      <th>2</th>\n",
       "      <td>EDUCATION</td>\n",
       "      <td>{nan}</td>\n",
       "      <td>0</td>\n",
       "      <td>0</td>\n",
       "      <td>0.000000</td>\n",
       "      <td>0.000000</td>\n",
       "    </tr>\n",
       "  </tbody>\n",
       "</table>\n",
       "</div>"
      ],
      "text/plain": [
       "      Column           Bucket  CntPositive  CntNegative       WoE       IvS\n",
       "0  EDUCATION  {0, 1, 4, 5, 6}         2069         8984 -0.209693  0.015253\n",
       "1  EDUCATION           {2, 3}         4567        14380  0.111705  0.008125\n",
       "2  EDUCATION            {nan}            0            0  0.000000  0.000000"
      ]
     },
     "execution_count": 8,
     "metadata": {},
     "output_type": "execute_result"
    }
   ],
   "source": [
    "sc.table"
   ]
  },
  {
   "cell_type": "markdown",
   "metadata": {},
   "source": [
    "## 连续单变量分箱"
   ]
  },
  {
   "cell_type": "code",
   "execution_count": 9,
   "metadata": {
    "ExecuteTime": {
     "end_time": "2021-09-30T01:51:20.409612Z",
     "start_time": "2021-09-30T01:51:20.118504Z"
    },
    "pycharm": {
     "name": "#%%\n"
    }
   },
   "outputs": [
    {
     "data": {
      "text/plain": [
       "SplitNum()"
      ]
     },
     "execution_count": 9,
     "metadata": {},
     "output_type": "execute_result"
    }
   ],
   "source": [
    "sn = SplitNum()\n",
    "sn.fit(dataset[\"LIMIT_BAL\"], dataset[\"default.payment.next.month\"])"
   ]
  },
  {
   "cell_type": "code",
   "execution_count": 10,
   "metadata": {
    "ExecuteTime": {
     "end_time": "2021-09-30T01:51:22.152688Z",
     "start_time": "2021-09-30T01:51:20.411501Z"
    },
    "pycharm": {
     "name": "#%%\n"
    }
   },
   "outputs": [
    {
     "data": {
      "text/html": [
       "<div>\n",
       "<style scoped>\n",
       "    .dataframe tbody tr th:only-of-type {\n",
       "        vertical-align: middle;\n",
       "    }\n",
       "\n",
       "    .dataframe tbody tr th {\n",
       "        vertical-align: top;\n",
       "    }\n",
       "\n",
       "    .dataframe thead th {\n",
       "        text-align: right;\n",
       "    }\n",
       "</style>\n",
       "<table border=\"1\" class=\"dataframe\">\n",
       "  <thead>\n",
       "    <tr style=\"text-align: right;\">\n",
       "      <th></th>\n",
       "      <th>Column</th>\n",
       "      <th>Bucket</th>\n",
       "      <th>CntPositive</th>\n",
       "      <th>CntNegative</th>\n",
       "      <th>WoE</th>\n",
       "      <th>IvS</th>\n",
       "    </tr>\n",
       "  </thead>\n",
       "  <tbody>\n",
       "    <tr>\n",
       "      <th>0</th>\n",
       "      <td>LIMIT_BAL</td>\n",
       "      <td>(-inf,40000.0]</td>\n",
       "      <td>1555</td>\n",
       "      <td>2756</td>\n",
       "      <td>0.686382</td>\n",
       "      <td>0.079873</td>\n",
       "    </tr>\n",
       "    <tr>\n",
       "      <th>1</th>\n",
       "      <td>LIMIT_BAL</td>\n",
       "      <td>(40000.0,140000.0]</td>\n",
       "      <td>2767</td>\n",
       "      <td>8212</td>\n",
       "      <td>0.170854</td>\n",
       "      <td>0.011189</td>\n",
       "    </tr>\n",
       "    <tr>\n",
       "      <th>2</th>\n",
       "      <td>LIMIT_BAL</td>\n",
       "      <td>(140000.0,+inf)</td>\n",
       "      <td>2314</td>\n",
       "      <td>12396</td>\n",
       "      <td>-0.419709</td>\n",
       "      <td>0.076327</td>\n",
       "    </tr>\n",
       "    <tr>\n",
       "      <th>3</th>\n",
       "      <td>LIMIT_BAL</td>\n",
       "      <td>[nan,nan]</td>\n",
       "      <td>0</td>\n",
       "      <td>0</td>\n",
       "      <td>0.000000</td>\n",
       "      <td>0.000000</td>\n",
       "    </tr>\n",
       "  </tbody>\n",
       "</table>\n",
       "</div>"
      ],
      "text/plain": [
       "      Column              Bucket  CntPositive  CntNegative       WoE       IvS\n",
       "0  LIMIT_BAL      (-inf,40000.0]         1555         2756  0.686382  0.079873\n",
       "1  LIMIT_BAL  (40000.0,140000.0]         2767         8212  0.170854  0.011189\n",
       "2  LIMIT_BAL     (140000.0,+inf)         2314        12396 -0.419709  0.076327\n",
       "3  LIMIT_BAL           [nan,nan]            0            0  0.000000  0.000000"
      ]
     },
     "execution_count": 10,
     "metadata": {},
     "output_type": "execute_result"
    }
   ],
   "source": [
    "sn.table"
   ]
  },
  {
   "cell_type": "markdown",
   "metadata": {},
   "source": [
    "自定义参数"
   ]
  },
  {
   "cell_type": "code",
   "execution_count": 11,
   "metadata": {
    "ExecuteTime": {
     "end_time": "2021-09-30T01:51:22.528789Z",
     "start_time": "2021-09-30T01:51:22.155695Z"
    }
   },
   "outputs": [
    {
     "data": {
      "text/plain": [
       "SplitNum(min_information_value_split_gain=0.001)"
      ]
     },
     "execution_count": 11,
     "metadata": {},
     "output_type": "execute_result"
    }
   ],
   "source": [
    "# 默认参数\n",
    "# min_bin_cnt_negative=75\n",
    "# min_bin_cnt_positive=75\n",
    "# min_information_value_split_gain=0.015\n",
    "\n",
    "sn = SplitNum(min_information_value_split_gain=0.001)\n",
    "sn.fit(dataset[\"LIMIT_BAL\"], dataset[\"default.payment.next.month\"])"
   ]
  },
  {
   "cell_type": "code",
   "execution_count": 12,
   "metadata": {
    "ExecuteTime": {
     "end_time": "2021-09-30T01:51:23.212689Z",
     "start_time": "2021-09-30T01:51:22.531725Z"
    }
   },
   "outputs": [
    {
     "data": {
      "text/html": [
       "<div>\n",
       "<style scoped>\n",
       "    .dataframe tbody tr th:only-of-type {\n",
       "        vertical-align: middle;\n",
       "    }\n",
       "\n",
       "    .dataframe tbody tr th {\n",
       "        vertical-align: top;\n",
       "    }\n",
       "\n",
       "    .dataframe thead th {\n",
       "        text-align: right;\n",
       "    }\n",
       "</style>\n",
       "<table border=\"1\" class=\"dataframe\">\n",
       "  <thead>\n",
       "    <tr style=\"text-align: right;\">\n",
       "      <th></th>\n",
       "      <th>Column</th>\n",
       "      <th>Bucket</th>\n",
       "      <th>CntPositive</th>\n",
       "      <th>CntNegative</th>\n",
       "      <th>WoE</th>\n",
       "      <th>IvS</th>\n",
       "    </tr>\n",
       "  </thead>\n",
       "  <tbody>\n",
       "    <tr>\n",
       "      <th>0</th>\n",
       "      <td>LIMIT_BAL</td>\n",
       "      <td>(-inf,40000.0]</td>\n",
       "      <td>1555</td>\n",
       "      <td>2756</td>\n",
       "      <td>0.686382</td>\n",
       "      <td>0.079873</td>\n",
       "    </tr>\n",
       "    <tr>\n",
       "      <th>1</th>\n",
       "      <td>LIMIT_BAL</td>\n",
       "      <td>(40000.0,70000.0]</td>\n",
       "      <td>1328</td>\n",
       "      <td>3593</td>\n",
       "      <td>0.263374</td>\n",
       "      <td>0.012204</td>\n",
       "    </tr>\n",
       "    <tr>\n",
       "      <th>2</th>\n",
       "      <td>LIMIT_BAL</td>\n",
       "      <td>(70000.0,140000.0]</td>\n",
       "      <td>1439</td>\n",
       "      <td>4619</td>\n",
       "      <td>0.092457</td>\n",
       "      <td>0.001771</td>\n",
       "    </tr>\n",
       "    <tr>\n",
       "      <th>3</th>\n",
       "      <td>LIMIT_BAL</td>\n",
       "      <td>(140000.0,240000.0]</td>\n",
       "      <td>1326</td>\n",
       "      <td>6317</td>\n",
       "      <td>-0.302391</td>\n",
       "      <td>0.021335</td>\n",
       "    </tr>\n",
       "    <tr>\n",
       "      <th>4</th>\n",
       "      <td>LIMIT_BAL</td>\n",
       "      <td>(240000.0,360000.0]</td>\n",
       "      <td>694</td>\n",
       "      <td>3897</td>\n",
       "      <td>-0.466803</td>\n",
       "      <td>0.029042</td>\n",
       "    </tr>\n",
       "    <tr>\n",
       "      <th>5</th>\n",
       "      <td>LIMIT_BAL</td>\n",
       "      <td>(360000.0,+inf)</td>\n",
       "      <td>294</td>\n",
       "      <td>2182</td>\n",
       "      <td>-0.745730</td>\n",
       "      <td>0.036606</td>\n",
       "    </tr>\n",
       "    <tr>\n",
       "      <th>6</th>\n",
       "      <td>LIMIT_BAL</td>\n",
       "      <td>[nan,nan]</td>\n",
       "      <td>0</td>\n",
       "      <td>0</td>\n",
       "      <td>0.000000</td>\n",
       "      <td>0.000000</td>\n",
       "    </tr>\n",
       "  </tbody>\n",
       "</table>\n",
       "</div>"
      ],
      "text/plain": [
       "      Column               Bucket  CntPositive  CntNegative       WoE  \\\n",
       "0  LIMIT_BAL       (-inf,40000.0]         1555         2756  0.686382   \n",
       "1  LIMIT_BAL    (40000.0,70000.0]         1328         3593  0.263374   \n",
       "2  LIMIT_BAL   (70000.0,140000.0]         1439         4619  0.092457   \n",
       "3  LIMIT_BAL  (140000.0,240000.0]         1326         6317 -0.302391   \n",
       "4  LIMIT_BAL  (240000.0,360000.0]          694         3897 -0.466803   \n",
       "5  LIMIT_BAL      (360000.0,+inf)          294         2182 -0.745730   \n",
       "6  LIMIT_BAL            [nan,nan]            0            0  0.000000   \n",
       "\n",
       "        IvS  \n",
       "0  0.079873  \n",
       "1  0.012204  \n",
       "2  0.001771  \n",
       "3  0.021335  \n",
       "4  0.029042  \n",
       "5  0.036606  \n",
       "6  0.000000  "
      ]
     },
     "execution_count": 12,
     "metadata": {},
     "output_type": "execute_result"
    }
   ],
   "source": [
    "sn.table"
   ]
  },
  {
   "cell_type": "markdown",
   "metadata": {},
   "source": [
    "## 数据整理"
   ]
  },
  {
   "cell_type": "code",
   "execution_count": 13,
   "metadata": {
    "ExecuteTime": {
     "end_time": "2021-09-30T01:51:23.228724Z",
     "start_time": "2021-09-30T01:51:23.215691Z"
    }
   },
   "outputs": [],
   "source": [
    "cat_columns = [\"SEX\", \"EDUCATION\", \"MARRIAGE\"]\n",
    "num_columns = [\"LIMIT_BAL\", \"AGE\",\n",
    "               \"PAY_0\",     \"PAY_2\",     \"PAY_3\",     \"PAY_4\",     \"PAY_5\",     \"PAY_6\",\n",
    "               \"PAY_AMT1\",  \"PAY_AMT2\",  \"PAY_AMT3\",  \"PAY_AMT4\",  \"PAY_AMT5\",  \"PAY_AMT6\",\n",
    "               \"BILL_AMT1\", \"BILL_AMT2\", \"BILL_AMT3\", \"BILL_AMT4\", \"BILL_AMT5\", \"BILL_AMT6\"]\n",
    "\n",
    "target = \"default.payment.next.month\""
   ]
  },
  {
   "cell_type": "code",
   "execution_count": 14,
   "metadata": {
    "ExecuteTime": {
     "end_time": "2021-09-30T01:51:23.258687Z",
     "start_time": "2021-09-30T01:51:23.230689Z"
    }
   },
   "outputs": [],
   "source": [
    "train_x, test_x, train_y, test_y = train_test_split(\n",
    "        dataset.drop([target], axis=1), dataset[target], train_size=0.75, shuffle=True, random_state=7)"
   ]
  },
  {
   "cell_type": "markdown",
   "metadata": {},
   "source": [
    "## 手动多特征分箱"
   ]
  },
  {
   "cell_type": "markdown",
   "metadata": {},
   "source": [
    "对每个特征手动调整后参数进行分箱，以分类特征 EDUCATION 连续特征 LIMIT_BAL 为例"
   ]
  },
  {
   "cell_type": "code",
   "execution_count": 15,
   "metadata": {
    "ExecuteTime": {
     "end_time": "2021-09-30T01:51:23.321710Z",
     "start_time": "2021-09-30T01:51:23.260689Z"
    }
   },
   "outputs": [
    {
     "data": {
      "text/plain": [
       "SplitCat(min_information_value_split_gain=0.001)"
      ]
     },
     "execution_count": 15,
     "metadata": {},
     "output_type": "execute_result"
    }
   ],
   "source": [
    "sc = SplitCat(min_information_value_split_gain=0.001)\n",
    "sc.fit(train_x[\"EDUCATION\"], train_y)"
   ]
  },
  {
   "cell_type": "code",
   "execution_count": 16,
   "metadata": {
    "ExecuteTime": {
     "end_time": "2021-09-30T01:51:23.635714Z",
     "start_time": "2021-09-30T01:51:23.323690Z"
    }
   },
   "outputs": [
    {
     "data": {
      "text/plain": [
       "SplitNum(min_information_value_split_gain=0.001)"
      ]
     },
     "execution_count": 16,
     "metadata": {},
     "output_type": "execute_result"
    }
   ],
   "source": [
    "sn = SplitNum(min_information_value_split_gain=0.001)\n",
    "sn.fit(train_x[\"LIMIT_BAL\"], train_y)"
   ]
  },
  {
   "cell_type": "code",
   "execution_count": 17,
   "metadata": {
    "ExecuteTime": {
     "end_time": "2021-09-30T01:51:23.651692Z",
     "start_time": "2021-09-30T01:51:23.637689Z"
    }
   },
   "outputs": [
    {
     "data": {
      "text/plain": [
       "DiscreteCust(cat_spliter={'EDUCATION': SplitCat(min_information_value_split_gain=0.001)},\n",
       "             date_columns=[], keep_columns=['ID'],\n",
       "             num_spliter={'LIMIT_BAL': SplitNum(min_information_value_split_gain=0.001)})"
      ]
     },
     "execution_count": 17,
     "metadata": {},
     "output_type": "execute_result"
    }
   ],
   "source": [
    "cust = DiscreteCust(keep_columns=[\"ID\"], date_columns=[], cat_spliter={\"EDUCATION\": sc}, num_spliter={\"LIMIT_BAL\":sn})\n",
    "cust.fit(train_x, train_y)"
   ]
  },
  {
   "cell_type": "code",
   "execution_count": 18,
   "metadata": {
    "ExecuteTime": {
     "end_time": "2021-09-30T01:51:34.845426Z",
     "start_time": "2021-09-30T01:51:23.655693Z"
    }
   },
   "outputs": [
    {
     "name": "stderr",
     "output_type": "stream",
     "text": [
      "[Parallel(n_jobs=-1)]: Using backend LokyBackend with 4 concurrent workers.\n",
      "[Parallel(n_jobs=-1)]: Done   1 tasks      | elapsed:    6.0s\n",
      "[Parallel(n_jobs=-1)]: Done   1 out of   1 | elapsed:    6.0s finished\n",
      "[Parallel(n_jobs=-1)]: Using backend LokyBackend with 4 concurrent workers.\n",
      "[Parallel(n_jobs=-1)]: Done   1 tasks      | elapsed:    5.0s\n",
      "[Parallel(n_jobs=-1)]: Done   1 out of   1 | elapsed:    5.0s finished\n"
     ]
    },
    {
     "data": {
      "text/html": [
       "<div>\n",
       "<style scoped>\n",
       "    .dataframe tbody tr th:only-of-type {\n",
       "        vertical-align: middle;\n",
       "    }\n",
       "\n",
       "    .dataframe tbody tr th {\n",
       "        vertical-align: top;\n",
       "    }\n",
       "\n",
       "    .dataframe thead th {\n",
       "        text-align: right;\n",
       "    }\n",
       "</style>\n",
       "<table border=\"1\" class=\"dataframe\">\n",
       "  <thead>\n",
       "    <tr style=\"text-align: right;\">\n",
       "      <th></th>\n",
       "      <th>ID</th>\n",
       "      <th>LIMIT_BAL</th>\n",
       "      <th>EDUCATION</th>\n",
       "    </tr>\n",
       "  </thead>\n",
       "  <tbody>\n",
       "    <tr>\n",
       "      <th>17845</th>\n",
       "      <td>17846</td>\n",
       "      <td>0.047881</td>\n",
       "      <td>0.120993</td>\n",
       "    </tr>\n",
       "    <tr>\n",
       "      <th>1698</th>\n",
       "      <td>1699</td>\n",
       "      <td>0.221100</td>\n",
       "      <td>-0.229193</td>\n",
       "    </tr>\n",
       "    <tr>\n",
       "      <th>9132</th>\n",
       "      <td>9133</td>\n",
       "      <td>-0.478657</td>\n",
       "      <td>0.120993</td>\n",
       "    </tr>\n",
       "    <tr>\n",
       "      <th>27932</th>\n",
       "      <td>27933</td>\n",
       "      <td>0.047881</td>\n",
       "      <td>-0.229193</td>\n",
       "    </tr>\n",
       "    <tr>\n",
       "      <th>23497</th>\n",
       "      <td>23498</td>\n",
       "      <td>-0.759759</td>\n",
       "      <td>-0.229193</td>\n",
       "    </tr>\n",
       "  </tbody>\n",
       "</table>\n",
       "</div>"
      ],
      "text/plain": [
       "          ID  LIMIT_BAL  EDUCATION\n",
       "17845  17846   0.047881   0.120993\n",
       "1698    1699   0.221100  -0.229193\n",
       "9132    9133  -0.478657   0.120993\n",
       "27932  27933   0.047881  -0.229193\n",
       "23497  23498  -0.759759  -0.229193"
      ]
     },
     "execution_count": 18,
     "metadata": {},
     "output_type": "execute_result"
    }
   ],
   "source": [
    "cust.transform(train_x).head()"
   ]
  },
  {
   "cell_type": "markdown",
   "metadata": {},
   "source": [
    "## 自动多特征分箱"
   ]
  },
  {
   "cell_type": "code",
   "execution_count": 19,
   "metadata": {
    "ExecuteTime": {
     "end_time": "2021-09-30T01:51:46.959439Z",
     "start_time": "2021-09-30T01:51:34.848425Z"
    },
    "pycharm": {
     "is_executing": true,
     "name": "#%%\n"
    },
    "scrolled": true
   },
   "outputs": [
    {
     "name": "stderr",
     "output_type": "stream",
     "text": [
      "[Parallel(n_jobs=-1)]: Using backend LokyBackend with 4 concurrent workers.\n",
      "[Parallel(n_jobs=-1)]: Done   1 tasks      | elapsed:    0.0s\n",
      "[Parallel(n_jobs=-1)]: Batch computation too fast (0.0670s.) Setting batch_size=2.\n",
      "[Parallel(n_jobs=-1)]: Done   3 out of   3 | elapsed:    5.3s remaining:    0.0s\n",
      "[Parallel(n_jobs=-1)]: Done   3 out of   3 | elapsed:    5.3s finished\n",
      "[Parallel(n_jobs=-1)]: Using backend LokyBackend with 4 concurrent workers.\n",
      "[Parallel(n_jobs=-1)]: Done   1 tasks      | elapsed:    0.0s\n",
      "[Parallel(n_jobs=-1)]: Batch computation too fast (0.1270s.) Setting batch_size=2.\n",
      "[Parallel(n_jobs=-1)]: Done   2 tasks      | elapsed:    0.0s\n",
      "[Parallel(n_jobs=-1)]: Done   3 tasks      | elapsed:    0.1s\n",
      "[Parallel(n_jobs=-1)]: Done   4 tasks      | elapsed:    0.1s\n",
      "[Parallel(n_jobs=-1)]: Done   5 tasks      | elapsed:    0.1s\n",
      "[Parallel(n_jobs=-1)]: Done   6 tasks      | elapsed:    0.2s\n",
      "[Parallel(n_jobs=-1)]: Done   7 tasks      | elapsed:    0.2s\n",
      "[Parallel(n_jobs=-1)]: Done   8 tasks      | elapsed:    0.3s\n",
      "[Parallel(n_jobs=-1)]: Done  10 tasks      | elapsed:    1.5s\n",
      "[Parallel(n_jobs=-1)]: Done  15 out of  20 | elapsed:    2.1s remaining:    0.6s\n",
      "[Parallel(n_jobs=-1)]: Done  17 out of  20 | elapsed:    2.4s remaining:    0.3s\n",
      "[Parallel(n_jobs=-1)]: Done  20 out of  20 | elapsed:    2.6s finished\n",
      "[Parallel(n_jobs=-1)]: Using backend LokyBackend with 4 concurrent workers.\n",
      "[Parallel(n_jobs=-1)]: Done   1 tasks      | elapsed:    0.2s\n",
      "[Parallel(n_jobs=-1)]: Done   3 out of   3 | elapsed:    0.2s remaining:    0.0s\n",
      "[Parallel(n_jobs=-1)]: Done   3 out of   3 | elapsed:    0.2s finished\n",
      "[Parallel(n_jobs=-1)]: Using backend LokyBackend with 4 concurrent workers.\n",
      "[Parallel(n_jobs=-1)]: Done   1 tasks      | elapsed:    0.4s\n",
      "[Parallel(n_jobs=-1)]: Done   2 tasks      | elapsed:    0.4s\n",
      "[Parallel(n_jobs=-1)]: Done   3 tasks      | elapsed:    0.4s\n",
      "[Parallel(n_jobs=-1)]: Done   4 tasks      | elapsed:    0.5s\n",
      "[Parallel(n_jobs=-1)]: Done   5 tasks      | elapsed:    0.8s\n",
      "[Parallel(n_jobs=-1)]: Done   6 tasks      | elapsed:    0.9s\n",
      "[Parallel(n_jobs=-1)]: Done   7 tasks      | elapsed:    0.9s\n",
      "[Parallel(n_jobs=-1)]: Done   8 tasks      | elapsed:    1.0s\n",
      "[Parallel(n_jobs=-1)]: Done   9 tasks      | elapsed:    1.4s\n",
      "[Parallel(n_jobs=-1)]: Done  10 tasks      | elapsed:    1.4s\n",
      "[Parallel(n_jobs=-1)]: Done  11 tasks      | elapsed:    1.4s\n",
      "[Parallel(n_jobs=-1)]: Done  12 tasks      | elapsed:    1.5s\n",
      "[Parallel(n_jobs=-1)]: Done  13 tasks      | elapsed:    1.9s\n",
      "[Parallel(n_jobs=-1)]: Done  15 out of  20 | elapsed:    2.0s remaining:    0.6s\n",
      "[Parallel(n_jobs=-1)]: Done  17 out of  20 | elapsed:    2.4s remaining:    0.3s\n",
      "[Parallel(n_jobs=-1)]: Done  20 out of  20 | elapsed:    2.5s finished\n",
      "[Parallel(n_jobs=-1)]: Using backend LokyBackend with 4 concurrent workers.\n",
      "[Parallel(n_jobs=-1)]: Done   1 tasks      | elapsed:    0.0s\n",
      "[Parallel(n_jobs=-1)]: Batch computation too fast (0.0940s.) Setting batch_size=2.\n",
      "[Parallel(n_jobs=-1)]: Done   3 out of   3 | elapsed:    0.0s remaining:    0.0s\n",
      "[Parallel(n_jobs=-1)]: Done   3 out of   3 | elapsed:    0.0s finished\n",
      "[Parallel(n_jobs=-1)]: Using backend LokyBackend with 4 concurrent workers.\n",
      "[Parallel(n_jobs=-1)]: Done   1 tasks      | elapsed:    0.1s\n",
      "[Parallel(n_jobs=-1)]: Batch computation too fast (0.1590s.) Setting batch_size=2.\n",
      "[Parallel(n_jobs=-1)]: Done   2 tasks      | elapsed:    0.1s\n",
      "[Parallel(n_jobs=-1)]: Done   3 tasks      | elapsed:    0.1s\n",
      "[Parallel(n_jobs=-1)]: Done   4 tasks      | elapsed:    0.1s\n",
      "[Parallel(n_jobs=-1)]: Done   5 tasks      | elapsed:    0.2s\n",
      "[Parallel(n_jobs=-1)]: Done   6 tasks      | elapsed:    0.2s\n",
      "[Parallel(n_jobs=-1)]: Done   7 tasks      | elapsed:    0.2s\n",
      "[Parallel(n_jobs=-1)]: Done   8 tasks      | elapsed:    0.3s\n",
      "[Parallel(n_jobs=-1)]: Done  10 tasks      | elapsed:    0.6s\n",
      "[Parallel(n_jobs=-1)]: Done  17 out of  20 | elapsed:    0.7s remaining:    0.0s\n",
      "[Parallel(n_jobs=-1)]: Done  20 out of  20 | elapsed:    0.8s finished\n"
     ]
    }
   ],
   "source": [
    "discrete = DiscreteAuto(keep_columns=[\"ID\"], date_columns=[], cat_columns=cat_columns, num_columns=num_columns)\n",
    "discrete.fit(train_x, train_y)\n",
    "train_x = discrete.transform(train_x)\n",
    "test_x  = discrete.transform(test_x )"
   ]
  },
  {
   "cell_type": "code",
   "execution_count": 20,
   "metadata": {
    "ExecuteTime": {
     "end_time": "2021-09-30T01:51:46.975426Z",
     "start_time": "2021-09-30T01:51:46.962425Z"
    },
    "pycharm": {
     "is_executing": true,
     "name": "#%%\n"
    }
   },
   "outputs": [
    {
     "data": {
      "text/html": [
       "<div>\n",
       "<style scoped>\n",
       "    .dataframe tbody tr th:only-of-type {\n",
       "        vertical-align: middle;\n",
       "    }\n",
       "\n",
       "    .dataframe tbody tr th {\n",
       "        vertical-align: top;\n",
       "    }\n",
       "\n",
       "    .dataframe thead th {\n",
       "        text-align: right;\n",
       "    }\n",
       "</style>\n",
       "<table border=\"1\" class=\"dataframe\">\n",
       "  <thead>\n",
       "    <tr style=\"text-align: right;\">\n",
       "      <th></th>\n",
       "      <th>IvS</th>\n",
       "    </tr>\n",
       "  </thead>\n",
       "  <tbody>\n",
       "    <tr>\n",
       "      <th>PAY_0</th>\n",
       "      <td>0.874626</td>\n",
       "    </tr>\n",
       "    <tr>\n",
       "      <th>PAY_2</th>\n",
       "      <td>0.560568</td>\n",
       "    </tr>\n",
       "    <tr>\n",
       "      <th>PAY_3</th>\n",
       "      <td>0.420644</td>\n",
       "    </tr>\n",
       "    <tr>\n",
       "      <th>PAY_4</th>\n",
       "      <td>0.364907</td>\n",
       "    </tr>\n",
       "    <tr>\n",
       "      <th>PAY_5</th>\n",
       "      <td>0.330149</td>\n",
       "    </tr>\n",
       "  </tbody>\n",
       "</table>\n",
       "</div>"
      ],
      "text/plain": [
       "            IvS\n",
       "PAY_0  0.874626\n",
       "PAY_2  0.560568\n",
       "PAY_3  0.420644\n",
       "PAY_4  0.364907\n",
       "PAY_5  0.330149"
      ]
     },
     "execution_count": 20,
     "metadata": {},
     "output_type": "execute_result"
    }
   ],
   "source": [
    "discrete.information_value_score.head()"
   ]
  },
  {
   "cell_type": "code",
   "execution_count": 21,
   "metadata": {
    "ExecuteTime": {
     "end_time": "2021-09-30T01:51:47.489421Z",
     "start_time": "2021-09-30T01:51:46.979423Z"
    },
    "pycharm": {
     "is_executing": true,
     "name": "#%%\n"
    },
    "scrolled": true
   },
   "outputs": [
    {
     "data": {
      "text/html": [
       "<div>\n",
       "<style scoped>\n",
       "    .dataframe tbody tr th:only-of-type {\n",
       "        vertical-align: middle;\n",
       "    }\n",
       "\n",
       "    .dataframe tbody tr th {\n",
       "        vertical-align: top;\n",
       "    }\n",
       "\n",
       "    .dataframe thead th {\n",
       "        text-align: right;\n",
       "    }\n",
       "</style>\n",
       "<table border=\"1\" class=\"dataframe\">\n",
       "  <thead>\n",
       "    <tr style=\"text-align: right;\">\n",
       "      <th></th>\n",
       "      <th>Column</th>\n",
       "      <th>Bucket</th>\n",
       "      <th>CntPositive</th>\n",
       "      <th>CntNegative</th>\n",
       "      <th>WoE</th>\n",
       "      <th>IvS</th>\n",
       "    </tr>\n",
       "  </thead>\n",
       "  <tbody>\n",
       "    <tr>\n",
       "      <th>0</th>\n",
       "      <td>PAY_0</td>\n",
       "      <td>(-inf,0]</td>\n",
       "      <td>2391</td>\n",
       "      <td>14987</td>\n",
       "      <td>-0.578847</td>\n",
       "      <td>0.217663</td>\n",
       "    </tr>\n",
       "    <tr>\n",
       "      <th>1</th>\n",
       "      <td>PAY_0</td>\n",
       "      <td>(0,1]</td>\n",
       "      <td>959</td>\n",
       "      <td>1821</td>\n",
       "      <td>0.615374</td>\n",
       "      <td>0.054405</td>\n",
       "    </tr>\n",
       "    <tr>\n",
       "      <th>2</th>\n",
       "      <td>PAY_0</td>\n",
       "      <td>(1,+inf)</td>\n",
       "      <td>1635</td>\n",
       "      <td>707</td>\n",
       "      <td>2.094992</td>\n",
       "      <td>0.602558</td>\n",
       "    </tr>\n",
       "    <tr>\n",
       "      <th>3</th>\n",
       "      <td>PAY_0</td>\n",
       "      <td>[nan,nan]</td>\n",
       "      <td>0</td>\n",
       "      <td>0</td>\n",
       "      <td>0.000000</td>\n",
       "      <td>0.000000</td>\n",
       "    </tr>\n",
       "    <tr>\n",
       "      <th>0</th>\n",
       "      <td>PAY_2</td>\n",
       "      <td>(-inf,0]</td>\n",
       "      <td>3105</td>\n",
       "      <td>16066</td>\n",
       "      <td>-0.387067</td>\n",
       "      <td>0.113953</td>\n",
       "    </tr>\n",
       "  </tbody>\n",
       "</table>\n",
       "</div>"
      ],
      "text/plain": [
       "  Column     Bucket  CntPositive  CntNegative       WoE       IvS\n",
       "0  PAY_0   (-inf,0]         2391        14987 -0.578847  0.217663\n",
       "1  PAY_0      (0,1]          959         1821  0.615374  0.054405\n",
       "2  PAY_0   (1,+inf)         1635          707  2.094992  0.602558\n",
       "3  PAY_0  [nan,nan]            0            0  0.000000  0.000000\n",
       "0  PAY_2   (-inf,0]         3105        16066 -0.387067  0.113953"
      ]
     },
     "execution_count": 21,
     "metadata": {},
     "output_type": "execute_result"
    }
   ],
   "source": [
    "discrete.information_value_table.head()"
   ]
  },
  {
   "cell_type": "markdown",
   "metadata": {},
   "source": [
    "## 特征选择"
   ]
  },
  {
   "cell_type": "code",
   "execution_count": 22,
   "metadata": {
    "ExecuteTime": {
     "end_time": "2021-09-30T01:51:48.068439Z",
     "start_time": "2021-09-30T01:51:47.492426Z"
    },
    "scrolled": true
   },
   "outputs": [
    {
     "name": "stderr",
     "output_type": "stream",
     "text": [
      "[Parallel(n_jobs=-1)]: Using backend LokyBackend with 4 concurrent workers.\n",
      "[Parallel(n_jobs=-1)]: Done   1 tasks      | elapsed:    0.0s\n",
      "[Parallel(n_jobs=-1)]: Batch computation too fast (0.1160s.) Setting batch_size=2.\n",
      "[Parallel(n_jobs=-1)]: Done   2 tasks      | elapsed:    0.0s\n",
      "[Parallel(n_jobs=-1)]: Done   3 tasks      | elapsed:    0.0s\n",
      "[Parallel(n_jobs=-1)]: Done   4 tasks      | elapsed:    0.0s\n",
      "[Parallel(n_jobs=-1)]: Done   5 tasks      | elapsed:    0.1s\n",
      "[Parallel(n_jobs=-1)]: Done   6 tasks      | elapsed:    0.1s\n",
      "[Parallel(n_jobs=-1)]: Done   7 tasks      | elapsed:    0.1s\n",
      "[Parallel(n_jobs=-1)]: Done   8 tasks      | elapsed:    0.1s\n",
      "[Parallel(n_jobs=-1)]: Done  10 tasks      | elapsed:    0.2s\n",
      "[Parallel(n_jobs=-1)]: Done  12 tasks      | elapsed:    0.3s\n",
      "[Parallel(n_jobs=-1)]: Done  14 tasks      | elapsed:    0.3s\n",
      "[Parallel(n_jobs=-1)]: Done  16 tasks      | elapsed:    0.3s\n",
      "[Parallel(n_jobs=-1)]: Done  18 out of  23 | elapsed:    0.4s remaining:    0.0s\n",
      "[Parallel(n_jobs=-1)]: Done  20 out of  23 | elapsed:    0.4s remaining:    0.0s\n",
      "[Parallel(n_jobs=-1)]: Done  23 out of  23 | elapsed:    0.4s finished\n"
     ]
    }
   ],
   "source": [
    "select = SelectBins(keep_columns=[\"ID\"], date_columns=[])\n",
    "select.fit(train_x, train_y)\n",
    "train_x = select.transform(train_x)\n",
    "test_x  = select.transform(test_x )"
   ]
  },
  {
   "cell_type": "code",
   "execution_count": 23,
   "metadata": {
    "ExecuteTime": {
     "end_time": "2021-09-30T01:51:50.093419Z",
     "start_time": "2021-09-30T01:51:48.075424Z"
    },
    "scrolled": true
   },
   "outputs": [
    {
     "name": "stderr",
     "output_type": "stream",
     "text": [
      "[Parallel(n_jobs=-1)]: Using backend LokyBackend with 4 concurrent workers.\n",
      "[Parallel(n_jobs=-1)]: Done   1 tasks      | elapsed:    0.0s\n",
      "[Parallel(n_jobs=-1)]: Batch computation too fast (0.0280s.) Setting batch_size=2.\n",
      "[Parallel(n_jobs=-1)]: Done   2 tasks      | elapsed:    0.0s\n",
      "[Parallel(n_jobs=-1)]: Done   3 tasks      | elapsed:    0.0s\n",
      "[Parallel(n_jobs=-1)]: Done   4 tasks      | elapsed:    0.0s\n",
      "[Parallel(n_jobs=-1)]: Done   5 tasks      | elapsed:    0.0s\n",
      "[Parallel(n_jobs=-1)]: Done   6 tasks      | elapsed:    0.0s\n",
      "[Parallel(n_jobs=-1)]: Done   7 tasks      | elapsed:    0.0s\n",
      "[Parallel(n_jobs=-1)]: Done   8 tasks      | elapsed:    0.0s\n",
      "[Parallel(n_jobs=-1)]: Done  10 tasks      | elapsed:    0.0s\n",
      "[Parallel(n_jobs=-1)]: Batch computation too fast (0.0670s.) Setting batch_size=4.\n",
      "[Parallel(n_jobs=-1)]: Done  12 tasks      | elapsed:    0.0s\n",
      "[Parallel(n_jobs=-1)]: Done  14 tasks      | elapsed:    0.0s\n",
      "[Parallel(n_jobs=-1)]: Done  16 tasks      | elapsed:    0.0s\n",
      "[Parallel(n_jobs=-1)]: Done  18 tasks      | elapsed:    0.1s\n",
      "[Parallel(n_jobs=-1)]: Done  20 tasks      | elapsed:    0.1s\n",
      "[Parallel(n_jobs=-1)]: Done  22 tasks      | elapsed:    0.1s\n",
      "[Parallel(n_jobs=-1)]: Done  24 tasks      | elapsed:    0.1s\n",
      "[Parallel(n_jobs=-1)]: Done  28 tasks      | elapsed:    0.2s\n",
      "[Parallel(n_jobs=-1)]: Batch computation too fast (0.1490s.) Setting batch_size=8.\n",
      "[Parallel(n_jobs=-1)]: Done  32 tasks      | elapsed:    0.2s\n",
      "[Parallel(n_jobs=-1)]: Done  36 tasks      | elapsed:    0.2s\n",
      "[Parallel(n_jobs=-1)]: Done  40 tasks      | elapsed:    0.2s\n",
      "[Parallel(n_jobs=-1)]: Done  44 tasks      | elapsed:    0.3s\n",
      "[Parallel(n_jobs=-1)]: Done  48 tasks      | elapsed:    0.3s\n",
      "[Parallel(n_jobs=-1)]: Done  52 tasks      | elapsed:    0.3s\n",
      "[Parallel(n_jobs=-1)]: Done  56 tasks      | elapsed:    0.3s\n",
      "[Parallel(n_jobs=-1)]: Done  64 out of  91 | elapsed:    0.5s remaining:    0.1s\n",
      "[Parallel(n_jobs=-1)]: Done  91 out of  91 | elapsed:    0.5s finished\n",
      "[Parallel(n_jobs=-1)]: Using backend LokyBackend with 4 concurrent workers.\n",
      "[Parallel(n_jobs=-1)]: Done   1 tasks      | elapsed:    0.0s\n",
      "[Parallel(n_jobs=-1)]: Batch computation too fast (0.0580s.) Setting batch_size=2.\n",
      "[Parallel(n_jobs=-1)]: Done   2 tasks      | elapsed:    0.0s\n",
      "[Parallel(n_jobs=-1)]: Done   3 tasks      | elapsed:    0.0s\n",
      "[Parallel(n_jobs=-1)]: Done   4 tasks      | elapsed:    0.0s\n",
      "[Parallel(n_jobs=-1)]: Done   5 tasks      | elapsed:    0.0s\n",
      "[Parallel(n_jobs=-1)]: Done   6 tasks      | elapsed:    0.0s\n",
      "[Parallel(n_jobs=-1)]: Done   7 tasks      | elapsed:    0.0s\n",
      "[Parallel(n_jobs=-1)]: Done   8 tasks      | elapsed:    0.1s\n",
      "[Parallel(n_jobs=-1)]: Done  10 tasks      | elapsed:    0.1s\n",
      "[Parallel(n_jobs=-1)]: Batch computation too fast (0.1640s.) Setting batch_size=4.\n",
      "[Parallel(n_jobs=-1)]: Done  12 tasks      | elapsed:    0.1s\n",
      "[Parallel(n_jobs=-1)]: Done  14 tasks      | elapsed:    0.2s\n",
      "[Parallel(n_jobs=-1)]: Done  16 tasks      | elapsed:    0.2s\n",
      "[Parallel(n_jobs=-1)]: Done  18 tasks      | elapsed:    0.2s\n",
      "[Parallel(n_jobs=-1)]: Done  20 tasks      | elapsed:    0.3s\n",
      "[Parallel(n_jobs=-1)]: Done  22 tasks      | elapsed:    0.3s\n",
      "[Parallel(n_jobs=-1)]: Done  24 tasks      | elapsed:    0.3s\n",
      "[Parallel(n_jobs=-1)]: Done  28 tasks      | elapsed:    0.4s\n",
      "[Parallel(n_jobs=-1)]: Done  32 tasks      | elapsed:    0.4s\n",
      "[Parallel(n_jobs=-1)]: Done  36 tasks      | elapsed:    0.5s\n",
      "[Parallel(n_jobs=-1)]: Done  40 tasks      | elapsed:    0.5s\n",
      "[Parallel(n_jobs=-1)]: Done  44 tasks      | elapsed:    0.6s\n",
      "[Parallel(n_jobs=-1)]: Done  48 tasks      | elapsed:    0.6s\n",
      "[Parallel(n_jobs=-1)]: Done  52 tasks      | elapsed:    0.7s\n",
      "[Parallel(n_jobs=-1)]: Done  56 tasks      | elapsed:    0.7s\n",
      "[Parallel(n_jobs=-1)]: Done  60 tasks      | elapsed:    0.8s\n",
      "[Parallel(n_jobs=-1)]: Done  64 tasks      | elapsed:    0.8s\n",
      "[Parallel(n_jobs=-1)]: Done  68 tasks      | elapsed:    0.8s\n",
      "[Parallel(n_jobs=-1)]: Done  72 tasks      | elapsed:    0.9s\n",
      "[Parallel(n_jobs=-1)]: Done  91 out of  91 | elapsed:    1.1s finished\n"
     ]
    }
   ],
   "source": [
    "select = SelectCIFE(keep_columns=[\"ID\"], date_columns=[], nums_feature=10)\n",
    "select.fit(train_x, train_y)\n",
    "train_x = select.transform(train_x)\n",
    "test_x  = select.transform(test_x )"
   ]
  },
  {
   "cell_type": "markdown",
   "metadata": {},
   "source": [
    "## 模型训练"
   ]
  },
  {
   "cell_type": "code",
   "execution_count": 24,
   "metadata": {
    "ExecuteTime": {
     "end_time": "2021-09-30T01:51:55.337214Z",
     "start_time": "2021-09-30T01:51:50.098424Z"
    }
   },
   "outputs": [
    {
     "name": "stdout",
     "output_type": "stream",
     "text": [
      "train ks 0.41442\n",
      "test  ks 0.3914\n"
     ]
    }
   ],
   "source": [
    "lmclassifier = LMClassifier(keep_columns=[\"ID\"], date_columns=[])\n",
    "lmclassifier.fit(train_x, train_y)\n",
    "print(\"train ks {}\".format(lmclassifier.score(train_x, train_y)))\n",
    "print(\"test  ks {}\".format(lmclassifier.score(test_x,  test_y )))"
   ]
  },
  {
   "cell_type": "code",
   "execution_count": 25,
   "metadata": {
    "ExecuteTime": {
     "end_time": "2021-09-30T01:51:55.400196Z",
     "start_time": "2021-09-30T01:51:55.340191Z"
    }
   },
   "outputs": [
    {
     "data": {
      "text/html": [
       "<table class=\"simpletable\">\n",
       "<caption>Generalized Linear Model Regression Results</caption>\n",
       "<tr>\n",
       "  <th>Dep. Variable:</th>   <td>default.payment.next.month</td> <th>  No. Observations:  </th>  <td> 22500</td> \n",
       "</tr>\n",
       "<tr>\n",
       "  <th>Model:</th>                       <td>GLM</td>            <th>  Df Residuals:      </th>  <td> 22492</td> \n",
       "</tr>\n",
       "<tr>\n",
       "  <th>Model Family:</th>             <td>Binomial</td>          <th>  Df Model:          </th>  <td>     7</td> \n",
       "</tr>\n",
       "<tr>\n",
       "  <th>Link Function:</th>              <td>logit</td>           <th>  Scale:             </th> <td>  1.0000</td>\n",
       "</tr>\n",
       "<tr>\n",
       "  <th>Method:</th>                     <td>IRLS</td>            <th>  Log-Likelihood:    </th> <td> -9878.2</td>\n",
       "</tr>\n",
       "<tr>\n",
       "  <th>Date:</th>                 <td>Thu, 30 Sep 2021</td>      <th>  Deviance:          </th> <td>  19756.</td>\n",
       "</tr>\n",
       "<tr>\n",
       "  <th>Time:</th>                     <td>09:51:55</td>          <th>  Pearson chi2:      </th> <td>2.23e+04</td>\n",
       "</tr>\n",
       "<tr>\n",
       "  <th>No. Iterations:</th>               <td>5</td>             <th>                     </th>     <td> </td>   \n",
       "</tr>\n",
       "<tr>\n",
       "  <th>Covariance Type:</th>          <td>nonrobust</td>         <th>                     </th>     <td> </td>   \n",
       "</tr>\n",
       "</table>\n",
       "<table class=\"simpletable\">\n",
       "<tr>\n",
       "      <td></td>        <th>coef</th>     <th>std err</th>      <th>z</th>      <th>P>|z|</th>  <th>[0.025</th>    <th>0.975]</th>  \n",
       "</tr>\n",
       "<tr>\n",
       "  <th>const</th>    <td>   -1.2510</td> <td>    0.018</td> <td>  -68.932</td> <td> 0.000</td> <td>   -1.287</td> <td>   -1.215</td>\n",
       "</tr>\n",
       "<tr>\n",
       "  <th>PAY_AMT4</th> <td>    0.4071</td> <td>    0.062</td> <td>    6.575</td> <td> 0.000</td> <td>    0.286</td> <td>    0.528</td>\n",
       "</tr>\n",
       "<tr>\n",
       "  <th>PAY_4</th>    <td>    0.3314</td> <td>    0.039</td> <td>    8.555</td> <td> 0.000</td> <td>    0.255</td> <td>    0.407</td>\n",
       "</tr>\n",
       "<tr>\n",
       "  <th>PAY_AMT2</th> <td>    0.2841</td> <td>    0.056</td> <td>    5.100</td> <td> 0.000</td> <td>    0.175</td> <td>    0.393</td>\n",
       "</tr>\n",
       "<tr>\n",
       "  <th>PAY_2</th>    <td>    0.0994</td> <td>    0.036</td> <td>    2.746</td> <td> 0.006</td> <td>    0.028</td> <td>    0.170</td>\n",
       "</tr>\n",
       "<tr>\n",
       "  <th>PAY_AMT1</th> <td>    0.2836</td> <td>    0.052</td> <td>    5.431</td> <td> 0.000</td> <td>    0.181</td> <td>    0.386</td>\n",
       "</tr>\n",
       "<tr>\n",
       "  <th>PAY_3</th>    <td>    0.2048</td> <td>    0.044</td> <td>    4.620</td> <td> 0.000</td> <td>    0.118</td> <td>    0.292</td>\n",
       "</tr>\n",
       "<tr>\n",
       "  <th>PAY_0</th>    <td>    0.7497</td> <td>    0.023</td> <td>   32.696</td> <td> 0.000</td> <td>    0.705</td> <td>    0.795</td>\n",
       "</tr>\n",
       "</table>"
      ],
      "text/plain": [
       "<class 'statsmodels.iolib.summary.Summary'>\n",
       "\"\"\"\n",
       "                     Generalized Linear Model Regression Results                      \n",
       "======================================================================================\n",
       "Dep. Variable:     default.payment.next.month   No. Observations:                22500\n",
       "Model:                                    GLM   Df Residuals:                    22492\n",
       "Model Family:                        Binomial   Df Model:                            7\n",
       "Link Function:                          logit   Scale:                          1.0000\n",
       "Method:                                  IRLS   Log-Likelihood:                -9878.2\n",
       "Date:                        Thu, 30 Sep 2021   Deviance:                       19756.\n",
       "Time:                                09:51:55   Pearson chi2:                 2.23e+04\n",
       "No. Iterations:                             5                                         \n",
       "Covariance Type:                    nonrobust                                         \n",
       "==============================================================================\n",
       "                 coef    std err          z      P>|z|      [0.025      0.975]\n",
       "------------------------------------------------------------------------------\n",
       "const         -1.2510      0.018    -68.932      0.000      -1.287      -1.215\n",
       "PAY_AMT4       0.4071      0.062      6.575      0.000       0.286       0.528\n",
       "PAY_4          0.3314      0.039      8.555      0.000       0.255       0.407\n",
       "PAY_AMT2       0.2841      0.056      5.100      0.000       0.175       0.393\n",
       "PAY_2          0.0994      0.036      2.746      0.006       0.028       0.170\n",
       "PAY_AMT1       0.2836      0.052      5.431      0.000       0.181       0.386\n",
       "PAY_3          0.2048      0.044      4.620      0.000       0.118       0.292\n",
       "PAY_0          0.7497      0.023     32.696      0.000       0.705       0.795\n",
       "==============================================================================\n",
       "\"\"\""
      ]
     },
     "execution_count": 25,
     "metadata": {},
     "output_type": "execute_result"
    }
   ],
   "source": [
    "lmclassifier.model.summary()"
   ]
  },
  {
   "cell_type": "markdown",
   "metadata": {},
   "source": [
    "## 评分卡生成"
   ]
  },
  {
   "cell_type": "code",
   "execution_count": 26,
   "metadata": {
    "ExecuteTime": {
     "end_time": "2021-09-30T01:51:58.140188Z",
     "start_time": "2021-09-30T01:51:55.403190Z"
    }
   },
   "outputs": [
    {
     "data": {
      "text/html": [
       "<div>\n",
       "<style scoped>\n",
       "    .dataframe tbody tr th:only-of-type {\n",
       "        vertical-align: middle;\n",
       "    }\n",
       "\n",
       "    .dataframe tbody tr th {\n",
       "        vertical-align: top;\n",
       "    }\n",
       "\n",
       "    .dataframe thead th {\n",
       "        text-align: right;\n",
       "    }\n",
       "</style>\n",
       "<table border=\"1\" class=\"dataframe\">\n",
       "  <thead>\n",
       "    <tr style=\"text-align: right;\">\n",
       "      <th></th>\n",
       "      <th>Column</th>\n",
       "      <th>Bucket</th>\n",
       "      <th>WoE</th>\n",
       "      <th>Coefficients</th>\n",
       "      <th>PartialScore</th>\n",
       "      <th>OffsetScores</th>\n",
       "    </tr>\n",
       "  </thead>\n",
       "  <tbody>\n",
       "    <tr>\n",
       "      <th>0</th>\n",
       "      <td>PAY_AMT4</td>\n",
       "      <td>(-inf,0.0]</td>\n",
       "      <td>0.475069</td>\n",
       "      <td>0.407116</td>\n",
       "      <td>-5.580578</td>\n",
       "      <td>536.094964</td>\n",
       "    </tr>\n",
       "    <tr>\n",
       "      <th>1</th>\n",
       "      <td>PAY_AMT4</td>\n",
       "      <td>(0.0,1813.0]</td>\n",
       "      <td>0.065685</td>\n",
       "      <td>0.407116</td>\n",
       "      <td>-0.771592</td>\n",
       "      <td>536.094964</td>\n",
       "    </tr>\n",
       "    <tr>\n",
       "      <th>2</th>\n",
       "      <td>PAY_AMT4</td>\n",
       "      <td>(1813.0,4000.0]</td>\n",
       "      <td>-0.128344</td>\n",
       "      <td>0.407116</td>\n",
       "      <td>1.507639</td>\n",
       "      <td>536.094964</td>\n",
       "    </tr>\n",
       "    <tr>\n",
       "      <th>3</th>\n",
       "      <td>PAY_AMT4</td>\n",
       "      <td>(4000.0,+inf)</td>\n",
       "      <td>-0.514470</td>\n",
       "      <td>0.407116</td>\n",
       "      <td>6.043416</td>\n",
       "      <td>536.094964</td>\n",
       "    </tr>\n",
       "    <tr>\n",
       "      <th>4</th>\n",
       "      <td>PAY_AMT4</td>\n",
       "      <td>[nan,nan]</td>\n",
       "      <td>0.000000</td>\n",
       "      <td>0.407116</td>\n",
       "      <td>-0.000000</td>\n",
       "      <td>536.094964</td>\n",
       "    </tr>\n",
       "    <tr>\n",
       "      <th>0</th>\n",
       "      <td>PAY_4</td>\n",
       "      <td>(-inf,0]</td>\n",
       "      <td>-0.265818</td>\n",
       "      <td>0.331433</td>\n",
       "      <td>2.542051</td>\n",
       "      <td>536.094964</td>\n",
       "    </tr>\n",
       "    <tr>\n",
       "      <th>1</th>\n",
       "      <td>PAY_4</td>\n",
       "      <td>(0,+inf)</td>\n",
       "      <td>1.414629</td>\n",
       "      <td>0.331433</td>\n",
       "      <td>-13.528290</td>\n",
       "      <td>536.094964</td>\n",
       "    </tr>\n",
       "    <tr>\n",
       "      <th>2</th>\n",
       "      <td>PAY_4</td>\n",
       "      <td>[nan,nan]</td>\n",
       "      <td>0.000000</td>\n",
       "      <td>0.331433</td>\n",
       "      <td>-0.000000</td>\n",
       "      <td>536.094964</td>\n",
       "    </tr>\n",
       "    <tr>\n",
       "      <th>0</th>\n",
       "      <td>PAY_AMT2</td>\n",
       "      <td>(-inf,30.0]</td>\n",
       "      <td>0.555291</td>\n",
       "      <td>0.284123</td>\n",
       "      <td>-4.552305</td>\n",
       "      <td>536.094964</td>\n",
       "    </tr>\n",
       "    <tr>\n",
       "      <th>1</th>\n",
       "      <td>PAY_AMT2</td>\n",
       "      <td>(30.0,4931.0]</td>\n",
       "      <td>0.015942</td>\n",
       "      <td>0.284123</td>\n",
       "      <td>-0.130696</td>\n",
       "      <td>536.094964</td>\n",
       "    </tr>\n",
       "    <tr>\n",
       "      <th>2</th>\n",
       "      <td>PAY_AMT2</td>\n",
       "      <td>(4931.0,15282.0]</td>\n",
       "      <td>-0.424907</td>\n",
       "      <td>0.284123</td>\n",
       "      <td>3.483415</td>\n",
       "      <td>536.094964</td>\n",
       "    </tr>\n",
       "    <tr>\n",
       "      <th>3</th>\n",
       "      <td>PAY_AMT2</td>\n",
       "      <td>(15282.0,+inf)</td>\n",
       "      <td>-1.219837</td>\n",
       "      <td>0.284123</td>\n",
       "      <td>10.000298</td>\n",
       "      <td>536.094964</td>\n",
       "    </tr>\n",
       "    <tr>\n",
       "      <th>4</th>\n",
       "      <td>PAY_AMT2</td>\n",
       "      <td>[nan,nan]</td>\n",
       "      <td>0.000000</td>\n",
       "      <td>0.284123</td>\n",
       "      <td>-0.000000</td>\n",
       "      <td>536.094964</td>\n",
       "    </tr>\n",
       "    <tr>\n",
       "      <th>0</th>\n",
       "      <td>PAY_2</td>\n",
       "      <td>(-inf,0]</td>\n",
       "      <td>-0.387067</td>\n",
       "      <td>0.099436</td>\n",
       "      <td>1.110543</td>\n",
       "      <td>536.094964</td>\n",
       "    </tr>\n",
       "    <tr>\n",
       "      <th>1</th>\n",
       "      <td>PAY_2</td>\n",
       "      <td>(0,+inf)</td>\n",
       "      <td>1.517022</td>\n",
       "      <td>0.099436</td>\n",
       "      <td>-4.352521</td>\n",
       "      <td>536.094964</td>\n",
       "    </tr>\n",
       "    <tr>\n",
       "      <th>2</th>\n",
       "      <td>PAY_2</td>\n",
       "      <td>[nan,nan]</td>\n",
       "      <td>0.000000</td>\n",
       "      <td>0.099436</td>\n",
       "      <td>-0.000000</td>\n",
       "      <td>536.094964</td>\n",
       "    </tr>\n",
       "    <tr>\n",
       "      <th>0</th>\n",
       "      <td>PAY_AMT1</td>\n",
       "      <td>(-inf,10.0]</td>\n",
       "      <td>0.688936</td>\n",
       "      <td>0.283557</td>\n",
       "      <td>-5.636683</td>\n",
       "      <td>536.094964</td>\n",
       "    </tr>\n",
       "    <tr>\n",
       "      <th>1</th>\n",
       "      <td>PAY_AMT1</td>\n",
       "      <td>(10.0,4861.0]</td>\n",
       "      <td>-0.012591</td>\n",
       "      <td>0.283557</td>\n",
       "      <td>0.103020</td>\n",
       "      <td>536.094964</td>\n",
       "    </tr>\n",
       "    <tr>\n",
       "      <th>2</th>\n",
       "      <td>PAY_AMT1</td>\n",
       "      <td>(4861.0,+inf)</td>\n",
       "      <td>-0.591584</td>\n",
       "      <td>0.283557</td>\n",
       "      <td>4.840170</td>\n",
       "      <td>536.094964</td>\n",
       "    </tr>\n",
       "    <tr>\n",
       "      <th>3</th>\n",
       "      <td>PAY_AMT1</td>\n",
       "      <td>[nan,nan]</td>\n",
       "      <td>0.000000</td>\n",
       "      <td>0.283557</td>\n",
       "      <td>-0.000000</td>\n",
       "      <td>536.094964</td>\n",
       "    </tr>\n",
       "    <tr>\n",
       "      <th>0</th>\n",
       "      <td>PAY_3</td>\n",
       "      <td>(-inf,0]</td>\n",
       "      <td>-0.318517</td>\n",
       "      <td>0.204782</td>\n",
       "      <td>1.882043</td>\n",
       "      <td>536.094964</td>\n",
       "    </tr>\n",
       "    <tr>\n",
       "      <th>1</th>\n",
       "      <td>PAY_3</td>\n",
       "      <td>(0,+inf)</td>\n",
       "      <td>1.367392</td>\n",
       "      <td>0.204782</td>\n",
       "      <td>-8.079605</td>\n",
       "      <td>536.094964</td>\n",
       "    </tr>\n",
       "    <tr>\n",
       "      <th>2</th>\n",
       "      <td>PAY_3</td>\n",
       "      <td>[nan,nan]</td>\n",
       "      <td>0.000000</td>\n",
       "      <td>0.204782</td>\n",
       "      <td>-0.000000</td>\n",
       "      <td>536.094964</td>\n",
       "    </tr>\n",
       "    <tr>\n",
       "      <th>0</th>\n",
       "      <td>PAY_0</td>\n",
       "      <td>(-inf,0]</td>\n",
       "      <td>-0.578847</td>\n",
       "      <td>0.749677</td>\n",
       "      <td>12.521101</td>\n",
       "      <td>536.094964</td>\n",
       "    </tr>\n",
       "    <tr>\n",
       "      <th>1</th>\n",
       "      <td>PAY_0</td>\n",
       "      <td>(0,1]</td>\n",
       "      <td>0.615374</td>\n",
       "      <td>0.749677</td>\n",
       "      <td>-13.311221</td>\n",
       "      <td>536.094964</td>\n",
       "    </tr>\n",
       "    <tr>\n",
       "      <th>2</th>\n",
       "      <td>PAY_0</td>\n",
       "      <td>(1,+inf)</td>\n",
       "      <td>2.094992</td>\n",
       "      <td>0.749677</td>\n",
       "      <td>-45.316971</td>\n",
       "      <td>536.094964</td>\n",
       "    </tr>\n",
       "    <tr>\n",
       "      <th>3</th>\n",
       "      <td>PAY_0</td>\n",
       "      <td>[nan,nan]</td>\n",
       "      <td>0.000000</td>\n",
       "      <td>0.749677</td>\n",
       "      <td>-0.000000</td>\n",
       "      <td>536.094964</td>\n",
       "    </tr>\n",
       "  </tbody>\n",
       "</table>\n",
       "</div>"
      ],
      "text/plain": [
       "     Column            Bucket       WoE  Coefficients  PartialScore  \\\n",
       "0  PAY_AMT4        (-inf,0.0]  0.475069      0.407116     -5.580578   \n",
       "1  PAY_AMT4      (0.0,1813.0]  0.065685      0.407116     -0.771592   \n",
       "2  PAY_AMT4   (1813.0,4000.0] -0.128344      0.407116      1.507639   \n",
       "3  PAY_AMT4     (4000.0,+inf) -0.514470      0.407116      6.043416   \n",
       "4  PAY_AMT4         [nan,nan]  0.000000      0.407116     -0.000000   \n",
       "0     PAY_4          (-inf,0] -0.265818      0.331433      2.542051   \n",
       "1     PAY_4          (0,+inf)  1.414629      0.331433    -13.528290   \n",
       "2     PAY_4         [nan,nan]  0.000000      0.331433     -0.000000   \n",
       "0  PAY_AMT2       (-inf,30.0]  0.555291      0.284123     -4.552305   \n",
       "1  PAY_AMT2     (30.0,4931.0]  0.015942      0.284123     -0.130696   \n",
       "2  PAY_AMT2  (4931.0,15282.0] -0.424907      0.284123      3.483415   \n",
       "3  PAY_AMT2    (15282.0,+inf) -1.219837      0.284123     10.000298   \n",
       "4  PAY_AMT2         [nan,nan]  0.000000      0.284123     -0.000000   \n",
       "0     PAY_2          (-inf,0] -0.387067      0.099436      1.110543   \n",
       "1     PAY_2          (0,+inf)  1.517022      0.099436     -4.352521   \n",
       "2     PAY_2         [nan,nan]  0.000000      0.099436     -0.000000   \n",
       "0  PAY_AMT1       (-inf,10.0]  0.688936      0.283557     -5.636683   \n",
       "1  PAY_AMT1     (10.0,4861.0] -0.012591      0.283557      0.103020   \n",
       "2  PAY_AMT1     (4861.0,+inf) -0.591584      0.283557      4.840170   \n",
       "3  PAY_AMT1         [nan,nan]  0.000000      0.283557     -0.000000   \n",
       "0     PAY_3          (-inf,0] -0.318517      0.204782      1.882043   \n",
       "1     PAY_3          (0,+inf)  1.367392      0.204782     -8.079605   \n",
       "2     PAY_3         [nan,nan]  0.000000      0.204782     -0.000000   \n",
       "0     PAY_0          (-inf,0] -0.578847      0.749677     12.521101   \n",
       "1     PAY_0             (0,1]  0.615374      0.749677    -13.311221   \n",
       "2     PAY_0          (1,+inf)  2.094992      0.749677    -45.316971   \n",
       "3     PAY_0         [nan,nan]  0.000000      0.749677     -0.000000   \n",
       "\n",
       "   OffsetScores  \n",
       "0    536.094964  \n",
       "1    536.094964  \n",
       "2    536.094964  \n",
       "3    536.094964  \n",
       "4    536.094964  \n",
       "0    536.094964  \n",
       "1    536.094964  \n",
       "2    536.094964  \n",
       "0    536.094964  \n",
       "1    536.094964  \n",
       "2    536.094964  \n",
       "3    536.094964  \n",
       "4    536.094964  \n",
       "0    536.094964  \n",
       "1    536.094964  \n",
       "2    536.094964  \n",
       "0    536.094964  \n",
       "1    536.094964  \n",
       "2    536.094964  \n",
       "3    536.094964  \n",
       "0    536.094964  \n",
       "1    536.094964  \n",
       "2    536.094964  \n",
       "0    536.094964  \n",
       "1    536.094964  \n",
       "2    536.094964  \n",
       "3    536.094964  "
      ]
     },
     "execution_count": 26,
     "metadata": {},
     "output_type": "execute_result"
    }
   ],
   "source": [
    "lmcreditcard = LMCreditcard(\n",
    "        keep_columns=[\"ID\"], date_columns=[], discrete=discrete, lmclassifier=lmclassifier, BASE=500,  PDO=20,  ODDS=1)\n",
    "lmcreditcard.show_scorecard()"
   ]
  }
 ],
 "metadata": {
  "hide_input": false,
  "kernelspec": {
   "display_name": "PyCharm (scikit-credit)",
   "language": "python",
   "name": "pycharm-de40666d"
  },
  "language_info": {
   "codemirror_mode": {
    "name": "ipython",
    "version": 3
   },
   "file_extension": ".py",
   "mimetype": "text/x-python",
   "name": "python",
   "nbconvert_exporter": "python",
   "pygments_lexer": "ipython3",
   "version": "3.8.5"
  },
  "toc": {
   "base_numbering": 1,
   "nav_menu": {},
   "number_sections": true,
   "sideBar": true,
   "skip_h1_title": false,
   "title_cell": "Table of Contents",
   "title_sidebar": "Contents",
   "toc_cell": false,
   "toc_position": {
    "height": "calc(100% - 180px)",
    "left": "10px",
    "top": "150px",
    "width": "177.594px"
   },
   "toc_section_display": true,
   "toc_window_display": true
  },
  "varInspector": {
   "cols": {
    "lenName": 16,
    "lenType": 16,
    "lenVar": 40
   },
   "kernels_config": {
    "python": {
     "delete_cmd_postfix": "",
     "delete_cmd_prefix": "del ",
     "library": "var_list.py",
     "varRefreshCmd": "print(var_dic_list())"
    },
    "r": {
     "delete_cmd_postfix": ") ",
     "delete_cmd_prefix": "rm(",
     "library": "var_list.r",
     "varRefreshCmd": "cat(var_dic_list()) "
    }
   },
   "types_to_exclude": [
    "module",
    "function",
    "builtin_function_or_method",
    "instance",
    "_Feature"
   ],
   "window_display": false
  }
 },
 "nbformat": 4,
 "nbformat_minor": 1
}
