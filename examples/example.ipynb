{
 "cells": [
  {
   "cell_type": "code",
   "execution_count": 8,
   "metadata": {
    "ExecuteTime": {
     "end_time": "2021-11-22T09:19:11.790893Z",
     "start_time": "2021-11-22T09:19:11.494584Z"
    },
    "pycharm": {
     "name": "#%%\n"
    }
   },
   "outputs": [],
   "source": [
    "import numpy  as np\n",
    "import pandas as pd\n",
    "from sklearn.model_selection import train_test_split\n",
    "from skcredit.feature_discretization import SplitCat\n",
    "from skcredit.feature_discretization import SplitNum\n",
    "from skcredit.feature_discretization import DiscreteAuto\n",
    "from skcredit.feature_discretization import DiscreteCust\n",
    "from skcredit.feature_selection import SelectBins\n",
    "from skcredit.feature_selection import SelectCIFE\n",
    "from skcredit.linear_model import LMClassifier\n",
    "from skcredit.linear_model import LMCreditcard\n",
    "np.random.seed(7)\n",
    "pd.set_option(\"max_rows\",    None)\n",
    "pd.set_option(\"max_columns\", None)"
   ]
  },
  {
   "cell_type": "markdown",
   "metadata": {},
   "source": [
    "## 读入数据"
   ]
  },
  {
   "cell_type": "markdown",
   "metadata": {
    "pycharm": {
     "name": "#%% md\n"
    }
   },
   "source": [
    "[数据介绍](https://archive.ics.uci.edu/ml/datasets/default+of+credit+card+clients)"
   ]
  },
  {
   "cell_type": "code",
   "execution_count": 9,
   "metadata": {
    "ExecuteTime": {
     "end_time": "2021-10-21T06:29:06.768913Z",
     "start_time": "2021-10-21T06:29:06.584918Z"
    },
    "pycharm": {
     "name": "#%%\n"
    }
   },
   "outputs": [],
   "source": [
    "dataset = pd.read_csv(\"../UCI_Credit_Card.csv\")"
   ]
  },
  {
   "cell_type": "code",
   "execution_count": 10,
   "metadata": {
    "ExecuteTime": {
     "end_time": "2021-10-21T06:29:06.800917Z",
     "start_time": "2021-10-21T06:29:06.774916Z"
    },
    "pycharm": {
     "name": "#%%\n"
    }
   },
   "outputs": [
    {
     "data": {
      "text/plain": [
       "(30000, 25)"
      ]
     },
     "execution_count": 10,
     "metadata": {},
     "output_type": "execute_result"
    }
   ],
   "source": [
    "dataset.shape"
   ]
  },
  {
   "cell_type": "code",
   "execution_count": 11,
   "metadata": {
    "ExecuteTime": {
     "end_time": "2021-10-21T06:29:06.910914Z",
     "start_time": "2021-10-21T06:29:06.805922Z"
    },
    "pycharm": {
     "name": "#%%\n"
    }
   },
   "outputs": [
    {
     "data": {
      "text/html": [
       "<div>\n",
       "<style scoped>\n",
       "    .dataframe tbody tr th:only-of-type {\n",
       "        vertical-align: middle;\n",
       "    }\n",
       "\n",
       "    .dataframe tbody tr th {\n",
       "        vertical-align: top;\n",
       "    }\n",
       "\n",
       "    .dataframe thead th {\n",
       "        text-align: right;\n",
       "    }\n",
       "</style>\n",
       "<table border=\"1\" class=\"dataframe\">\n",
       "  <thead>\n",
       "    <tr style=\"text-align: right;\">\n",
       "      <th></th>\n",
       "      <th>ID</th>\n",
       "      <th>LIMIT_BAL</th>\n",
       "      <th>SEX</th>\n",
       "      <th>EDUCATION</th>\n",
       "      <th>MARRIAGE</th>\n",
       "      <th>AGE</th>\n",
       "      <th>PAY_0</th>\n",
       "      <th>PAY_2</th>\n",
       "      <th>PAY_3</th>\n",
       "      <th>PAY_4</th>\n",
       "      <th>PAY_5</th>\n",
       "      <th>PAY_6</th>\n",
       "      <th>BILL_AMT1</th>\n",
       "      <th>BILL_AMT2</th>\n",
       "      <th>BILL_AMT3</th>\n",
       "      <th>BILL_AMT4</th>\n",
       "      <th>BILL_AMT5</th>\n",
       "      <th>BILL_AMT6</th>\n",
       "      <th>PAY_AMT1</th>\n",
       "      <th>PAY_AMT2</th>\n",
       "      <th>PAY_AMT3</th>\n",
       "      <th>PAY_AMT4</th>\n",
       "      <th>PAY_AMT5</th>\n",
       "      <th>PAY_AMT6</th>\n",
       "      <th>default.payment.next.month</th>\n",
       "    </tr>\n",
       "  </thead>\n",
       "  <tbody>\n",
       "    <tr>\n",
       "      <th>0</th>\n",
       "      <td>1</td>\n",
       "      <td>20000.0</td>\n",
       "      <td>2</td>\n",
       "      <td>2</td>\n",
       "      <td>1</td>\n",
       "      <td>24</td>\n",
       "      <td>2</td>\n",
       "      <td>2</td>\n",
       "      <td>-1</td>\n",
       "      <td>-1</td>\n",
       "      <td>-2</td>\n",
       "      <td>-2</td>\n",
       "      <td>3913.0</td>\n",
       "      <td>3102.0</td>\n",
       "      <td>689.0</td>\n",
       "      <td>0.0</td>\n",
       "      <td>0.0</td>\n",
       "      <td>0.0</td>\n",
       "      <td>0.0</td>\n",
       "      <td>689.0</td>\n",
       "      <td>0.0</td>\n",
       "      <td>0.0</td>\n",
       "      <td>0.0</td>\n",
       "      <td>0.0</td>\n",
       "      <td>1</td>\n",
       "    </tr>\n",
       "    <tr>\n",
       "      <th>1</th>\n",
       "      <td>2</td>\n",
       "      <td>120000.0</td>\n",
       "      <td>2</td>\n",
       "      <td>2</td>\n",
       "      <td>2</td>\n",
       "      <td>26</td>\n",
       "      <td>-1</td>\n",
       "      <td>2</td>\n",
       "      <td>0</td>\n",
       "      <td>0</td>\n",
       "      <td>0</td>\n",
       "      <td>2</td>\n",
       "      <td>2682.0</td>\n",
       "      <td>1725.0</td>\n",
       "      <td>2682.0</td>\n",
       "      <td>3272.0</td>\n",
       "      <td>3455.0</td>\n",
       "      <td>3261.0</td>\n",
       "      <td>0.0</td>\n",
       "      <td>1000.0</td>\n",
       "      <td>1000.0</td>\n",
       "      <td>1000.0</td>\n",
       "      <td>0.0</td>\n",
       "      <td>2000.0</td>\n",
       "      <td>1</td>\n",
       "    </tr>\n",
       "    <tr>\n",
       "      <th>2</th>\n",
       "      <td>3</td>\n",
       "      <td>90000.0</td>\n",
       "      <td>2</td>\n",
       "      <td>2</td>\n",
       "      <td>2</td>\n",
       "      <td>34</td>\n",
       "      <td>0</td>\n",
       "      <td>0</td>\n",
       "      <td>0</td>\n",
       "      <td>0</td>\n",
       "      <td>0</td>\n",
       "      <td>0</td>\n",
       "      <td>29239.0</td>\n",
       "      <td>14027.0</td>\n",
       "      <td>13559.0</td>\n",
       "      <td>14331.0</td>\n",
       "      <td>14948.0</td>\n",
       "      <td>15549.0</td>\n",
       "      <td>1518.0</td>\n",
       "      <td>1500.0</td>\n",
       "      <td>1000.0</td>\n",
       "      <td>1000.0</td>\n",
       "      <td>1000.0</td>\n",
       "      <td>5000.0</td>\n",
       "      <td>0</td>\n",
       "    </tr>\n",
       "    <tr>\n",
       "      <th>3</th>\n",
       "      <td>4</td>\n",
       "      <td>50000.0</td>\n",
       "      <td>2</td>\n",
       "      <td>2</td>\n",
       "      <td>1</td>\n",
       "      <td>37</td>\n",
       "      <td>0</td>\n",
       "      <td>0</td>\n",
       "      <td>0</td>\n",
       "      <td>0</td>\n",
       "      <td>0</td>\n",
       "      <td>0</td>\n",
       "      <td>46990.0</td>\n",
       "      <td>48233.0</td>\n",
       "      <td>49291.0</td>\n",
       "      <td>28314.0</td>\n",
       "      <td>28959.0</td>\n",
       "      <td>29547.0</td>\n",
       "      <td>2000.0</td>\n",
       "      <td>2019.0</td>\n",
       "      <td>1200.0</td>\n",
       "      <td>1100.0</td>\n",
       "      <td>1069.0</td>\n",
       "      <td>1000.0</td>\n",
       "      <td>0</td>\n",
       "    </tr>\n",
       "    <tr>\n",
       "      <th>4</th>\n",
       "      <td>5</td>\n",
       "      <td>50000.0</td>\n",
       "      <td>1</td>\n",
       "      <td>2</td>\n",
       "      <td>1</td>\n",
       "      <td>57</td>\n",
       "      <td>-1</td>\n",
       "      <td>0</td>\n",
       "      <td>-1</td>\n",
       "      <td>0</td>\n",
       "      <td>0</td>\n",
       "      <td>0</td>\n",
       "      <td>8617.0</td>\n",
       "      <td>5670.0</td>\n",
       "      <td>35835.0</td>\n",
       "      <td>20940.0</td>\n",
       "      <td>19146.0</td>\n",
       "      <td>19131.0</td>\n",
       "      <td>2000.0</td>\n",
       "      <td>36681.0</td>\n",
       "      <td>10000.0</td>\n",
       "      <td>9000.0</td>\n",
       "      <td>689.0</td>\n",
       "      <td>679.0</td>\n",
       "      <td>0</td>\n",
       "    </tr>\n",
       "  </tbody>\n",
       "</table>\n",
       "</div>"
      ],
      "text/plain": [
       "   ID  LIMIT_BAL  SEX  EDUCATION  MARRIAGE  AGE  PAY_0  PAY_2  PAY_3  PAY_4  \\\n",
       "0   1    20000.0    2          2         1   24      2      2     -1     -1   \n",
       "1   2   120000.0    2          2         2   26     -1      2      0      0   \n",
       "2   3    90000.0    2          2         2   34      0      0      0      0   \n",
       "3   4    50000.0    2          2         1   37      0      0      0      0   \n",
       "4   5    50000.0    1          2         1   57     -1      0     -1      0   \n",
       "\n",
       "   PAY_5  PAY_6  BILL_AMT1  BILL_AMT2  BILL_AMT3  BILL_AMT4  BILL_AMT5  \\\n",
       "0     -2     -2     3913.0     3102.0      689.0        0.0        0.0   \n",
       "1      0      2     2682.0     1725.0     2682.0     3272.0     3455.0   \n",
       "2      0      0    29239.0    14027.0    13559.0    14331.0    14948.0   \n",
       "3      0      0    46990.0    48233.0    49291.0    28314.0    28959.0   \n",
       "4      0      0     8617.0     5670.0    35835.0    20940.0    19146.0   \n",
       "\n",
       "   BILL_AMT6  PAY_AMT1  PAY_AMT2  PAY_AMT3  PAY_AMT4  PAY_AMT5  PAY_AMT6  \\\n",
       "0        0.0       0.0     689.0       0.0       0.0       0.0       0.0   \n",
       "1     3261.0       0.0    1000.0    1000.0    1000.0       0.0    2000.0   \n",
       "2    15549.0    1518.0    1500.0    1000.0    1000.0    1000.0    5000.0   \n",
       "3    29547.0    2000.0    2019.0    1200.0    1100.0    1069.0    1000.0   \n",
       "4    19131.0    2000.0   36681.0   10000.0    9000.0     689.0     679.0   \n",
       "\n",
       "   default.payment.next.month  \n",
       "0                           1  \n",
       "1                           1  \n",
       "2                           0  \n",
       "3                           0  \n",
       "4                           0  "
      ]
     },
     "execution_count": 11,
     "metadata": {},
     "output_type": "execute_result"
    }
   ],
   "source": [
    "dataset.head()"
   ]
  },
  {
   "cell_type": "markdown",
   "metadata": {},
   "source": [
    "## 分类单特征分箱"
   ]
  },
  {
   "cell_type": "markdown",
   "metadata": {},
   "source": [
    "### 默认参数"
   ]
  },
  {
   "cell_type": "code",
   "execution_count": 12,
   "metadata": {
    "ExecuteTime": {
     "end_time": "2021-10-21T06:29:07.084951Z",
     "start_time": "2021-10-21T06:29:06.914919Z"
    },
    "pycharm": {
     "name": "#%%\n"
    }
   },
   "outputs": [
    {
     "data": {
      "text/plain": [
       "SplitCat()"
      ]
     },
     "execution_count": 12,
     "metadata": {},
     "output_type": "execute_result"
    }
   ],
   "source": [
    "# min_bin_cnt_negative=75\n",
    "# min_bin_cnt_positive=75\n",
    "# min_information_value_split_gain=0.015\n",
    "sc = SplitCat()\n",
    "sc.fit(dataset[\"EDUCATION\"], dataset[\"default.payment.next.month\"])"
   ]
  },
  {
   "cell_type": "code",
   "execution_count": 13,
   "metadata": {
    "ExecuteTime": {
     "end_time": "2021-10-21T06:29:07.130918Z",
     "start_time": "2021-10-21T06:29:07.092913Z"
    },
    "pycharm": {
     "name": "#%%\n"
    }
   },
   "outputs": [
    {
     "name": "stdout",
     "output_type": "stream",
     "text": [
      "|    | Column    | Bucket          |   CntPositive |   CntNegative |        WoE |        IvS |\n",
      "|---:|:----------|:----------------|--------------:|--------------:|-----------:|-----------:|\n",
      "|  0 | EDUCATION | {0, 1, 4, 5, 6} |          2069 |          8984 | -0.209693  | 0.0152528  |\n",
      "|  1 | EDUCATION | {2}             |          3330 |         10700 |  0.0914156 | 0.00400755 |\n",
      "|  2 | EDUCATION | {3}             |          1237 |          3680 |  0.168463  | 0.00486862 |\n",
      "|  3 | EDUCATION | {nan}           |             0 |             0 |  0         | 0          |\n"
     ]
    }
   ],
   "source": [
    "print(sc.table.to_markdown())"
   ]
  },
  {
   "cell_type": "markdown",
   "metadata": {},
   "source": [
    "### 调整参数"
   ]
  },
  {
   "cell_type": "code",
   "execution_count": 14,
   "metadata": {
    "ExecuteTime": {
     "end_time": "2021-10-21T06:29:07.289914Z",
     "start_time": "2021-10-21T06:29:07.139919Z"
    }
   },
   "outputs": [
    {
     "data": {
      "text/plain": [
       "SplitCat()"
      ]
     },
     "execution_count": 14,
     "metadata": {},
     "output_type": "execute_result"
    }
   ],
   "source": [
    "sc = SplitCat(min_information_value_split_gain=0.0001)\n",
    "sc.fit(dataset[\"EDUCATION\"], dataset[\"default.payment.next.month\"])"
   ]
  },
  {
   "cell_type": "code",
   "execution_count": 15,
   "metadata": {
    "ExecuteTime": {
     "end_time": "2021-10-21T06:29:07.304917Z",
     "start_time": "2021-10-21T06:29:07.295916Z"
    }
   },
   "outputs": [
    {
     "name": "stdout",
     "output_type": "stream",
     "text": [
      "|    | Column    | Bucket          |   CntPositive |   CntNegative |        WoE |        IvS |\n",
      "|---:|:----------|:----------------|--------------:|--------------:|-----------:|-----------:|\n",
      "|  0 | EDUCATION | {0, 1, 4, 5, 6} |          2069 |          8984 | -0.209693  | 0.0152528  |\n",
      "|  1 | EDUCATION | {2}             |          3330 |         10700 |  0.0914156 | 0.00400755 |\n",
      "|  2 | EDUCATION | {3}             |          1237 |          3680 |  0.168463  | 0.00486862 |\n",
      "|  3 | EDUCATION | {nan}           |             0 |             0 |  0         | 0          |\n"
     ]
    }
   ],
   "source": [
    "print(sc.table.to_markdown())"
   ]
  },
  {
   "cell_type": "markdown",
   "metadata": {},
   "source": [
    "## 连续单变量分箱"
   ]
  },
  {
   "cell_type": "markdown",
   "metadata": {},
   "source": [
    "### 默认参数"
   ]
  },
  {
   "cell_type": "code",
   "execution_count": 16,
   "metadata": {
    "ExecuteTime": {
     "end_time": "2021-10-21T06:29:08.058924Z",
     "start_time": "2021-10-21T06:29:07.310917Z"
    },
    "pycharm": {
     "name": "#%%\n"
    }
   },
   "outputs": [
    {
     "data": {
      "text/plain": [
       "SplitNum()"
      ]
     },
     "execution_count": 16,
     "metadata": {},
     "output_type": "execute_result"
    }
   ],
   "source": [
    "sn = SplitNum()\n",
    "sn.fit(dataset[\"LIMIT_BAL\"], dataset[\"default.payment.next.month\"])"
   ]
  },
  {
   "cell_type": "code",
   "execution_count": 17,
   "metadata": {
    "ExecuteTime": {
     "end_time": "2021-10-21T06:29:08.090919Z",
     "start_time": "2021-10-21T06:29:08.061915Z"
    },
    "pycharm": {
     "name": "#%%\n"
    }
   },
   "outputs": [
    {
     "name": "stdout",
     "output_type": "stream",
     "text": [
      "|    | Column    | Bucket              |   CntPositive |   CntNegative |          WoE |         IvS |\n",
      "|---:|:----------|:--------------------|--------------:|--------------:|-------------:|------------:|\n",
      "|  0 | LIMIT_BAL | (-inf,10000.0]      |           197 |           296 |  0.851531    | 0.0144909   |\n",
      "|  1 | LIMIT_BAL | (10000.0,40000.0]   |          1358 |          2460 |  0.664539    | 0.0660227   |\n",
      "|  2 | LIMIT_BAL | (40000.0,70000.0]   |          1328 |          3593 |  0.263374    | 0.0122039   |\n",
      "|  3 | LIMIT_BAL | (70000.0,120000.0]  |          1112 |          3468 |  0.121269    | 0.00232077  |\n",
      "|  4 | LIMIT_BAL | (120000.0,140000.0] |           327 |          1151 |  0.000260766 | 3.35032e-09 |\n",
      "|  5 | LIMIT_BAL | (140000.0,220000.0] |          1103 |          5184 | -0.288856    | 0.0160792   |\n",
      "|  6 | LIMIT_BAL | (220000.0,240000.0] |           223 |          1133 | -0.366765    | 0.00546071  |\n",
      "|  7 | LIMIT_BAL | (240000.0,260000.0] |           138 |           733 | -0.411205    | 0.00434948  |\n",
      "|  8 | LIMIT_BAL | (260000.0,360000.0] |           556 |          3164 | -0.480137    | 0.0247926   |\n",
      "|  9 | LIMIT_BAL | (360000.0,460000.0] |           165 |          1160 | -0.691543    | 0.0171397   |\n",
      "| 10 | LIMIT_BAL | (460000.0,+inf)     |           129 |          1022 | -0.811017    | 0.0197102   |\n",
      "| 11 | LIMIT_BAL | [nan]               |             0 |             0 |  0           | 0           |\n"
     ]
    }
   ],
   "source": [
    "print(sn.table.to_markdown())"
   ]
  },
  {
   "cell_type": "markdown",
   "metadata": {},
   "source": [
    "### 调整参数"
   ]
  },
  {
   "cell_type": "code",
   "execution_count": 18,
   "metadata": {
    "ExecuteTime": {
     "end_time": "2021-10-21T06:29:08.839917Z",
     "start_time": "2021-10-21T06:29:08.094922Z"
    }
   },
   "outputs": [
    {
     "data": {
      "text/plain": [
       "SplitNum()"
      ]
     },
     "execution_count": 18,
     "metadata": {},
     "output_type": "execute_result"
    }
   ],
   "source": [
    "# 默认参数\n",
    "# min_bin_cnt_negative=75\n",
    "# min_bin_cnt_positive=75\n",
    "# min_information_value_split_gain=0.015\n",
    "\n",
    "sn = SplitNum(min_information_value_split_gain=0.0001)\n",
    "sn.fit(dataset[\"LIMIT_BAL\"], dataset[\"default.payment.next.month\"])"
   ]
  },
  {
   "cell_type": "code",
   "execution_count": 19,
   "metadata": {
    "ExecuteTime": {
     "end_time": "2021-10-21T06:29:08.855914Z",
     "start_time": "2021-10-21T06:29:08.843919Z"
    }
   },
   "outputs": [
    {
     "name": "stdout",
     "output_type": "stream",
     "text": [
      "|    | Column    | Bucket              |   CntPositive |   CntNegative |          WoE |         IvS |\n",
      "|---:|:----------|:--------------------|--------------:|--------------:|-------------:|------------:|\n",
      "|  0 | LIMIT_BAL | (-inf,10000.0]      |           197 |           296 |  0.851531    | 0.0144909   |\n",
      "|  1 | LIMIT_BAL | (10000.0,40000.0]   |          1358 |          2460 |  0.664539    | 0.0660227   |\n",
      "|  2 | LIMIT_BAL | (40000.0,70000.0]   |          1328 |          3593 |  0.263374    | 0.0122039   |\n",
      "|  3 | LIMIT_BAL | (70000.0,120000.0]  |          1112 |          3468 |  0.121269    | 0.00232077  |\n",
      "|  4 | LIMIT_BAL | (120000.0,140000.0] |           327 |          1151 |  0.000260766 | 3.35032e-09 |\n",
      "|  5 | LIMIT_BAL | (140000.0,220000.0] |          1103 |          5184 | -0.288856    | 0.0160792   |\n",
      "|  6 | LIMIT_BAL | (220000.0,240000.0] |           223 |          1133 | -0.366765    | 0.00546071  |\n",
      "|  7 | LIMIT_BAL | (240000.0,260000.0] |           138 |           733 | -0.411205    | 0.00434948  |\n",
      "|  8 | LIMIT_BAL | (260000.0,360000.0] |           556 |          3164 | -0.480137    | 0.0247926   |\n",
      "|  9 | LIMIT_BAL | (360000.0,460000.0] |           165 |          1160 | -0.691543    | 0.0171397   |\n",
      "| 10 | LIMIT_BAL | (460000.0,+inf)     |           129 |          1022 | -0.811017    | 0.0197102   |\n",
      "| 11 | LIMIT_BAL | [nan]               |             0 |             0 |  0           | 0           |\n"
     ]
    }
   ],
   "source": [
    "print(sn.table.to_markdown())"
   ]
  },
  {
   "cell_type": "markdown",
   "metadata": {},
   "source": [
    "## 数据整理"
   ]
  },
  {
   "cell_type": "code",
   "execution_count": 20,
   "metadata": {
    "ExecuteTime": {
     "end_time": "2021-10-21T06:29:08.885916Z",
     "start_time": "2021-10-21T06:29:08.861918Z"
    }
   },
   "outputs": [],
   "source": [
    "cat_columns = [\"SEX\", \"EDUCATION\", \"MARRIAGE\"]\n",
    "num_columns = [\"LIMIT_BAL\", \"AGE\",\n",
    "               \"PAY_0\",     \"PAY_2\",     \"PAY_3\",     \"PAY_4\",     \"PAY_5\",     \"PAY_6\",\n",
    "               \"PAY_AMT1\",  \"PAY_AMT2\",  \"PAY_AMT3\",  \"PAY_AMT4\",  \"PAY_AMT5\",  \"PAY_AMT6\",\n",
    "               \"BILL_AMT1\", \"BILL_AMT2\", \"BILL_AMT3\", \"BILL_AMT4\", \"BILL_AMT5\", \"BILL_AMT6\"]\n",
    "\n",
    "target = \"default.payment.next.month\""
   ]
  },
  {
   "cell_type": "code",
   "execution_count": 21,
   "metadata": {
    "ExecuteTime": {
     "end_time": "2021-10-21T06:29:08.933920Z",
     "start_time": "2021-10-21T06:29:08.889914Z"
    }
   },
   "outputs": [],
   "source": [
    "train_x, test_x, train_y, test_y = train_test_split(\n",
    "        dataset.drop([target], axis=1), dataset[target], train_size=0.75, shuffle=True, random_state=7)"
   ]
  },
  {
   "cell_type": "markdown",
   "metadata": {},
   "source": [
    "## 手动多特征分箱"
   ]
  },
  {
   "cell_type": "markdown",
   "metadata": {},
   "source": [
    "对每个特征手动调整后参数进行分箱，以分类特征 EDUCATION 连续特征 LIMIT_BAL 为例"
   ]
  },
  {
   "cell_type": "code",
   "execution_count": 22,
   "metadata": {
    "ExecuteTime": {
     "end_time": "2021-10-21T06:29:09.090940Z",
     "start_time": "2021-10-21T06:29:08.943916Z"
    }
   },
   "outputs": [
    {
     "data": {
      "text/plain": [
       "SplitCat()"
      ]
     },
     "execution_count": 22,
     "metadata": {},
     "output_type": "execute_result"
    }
   ],
   "source": [
    "sc = SplitCat(min_information_value_split_gain=0.0001)\n",
    "sc.fit(train_x[\"EDUCATION\"], train_y)"
   ]
  },
  {
   "cell_type": "code",
   "execution_count": 23,
   "metadata": {
    "ExecuteTime": {
     "end_time": "2021-10-21T06:29:09.784921Z",
     "start_time": "2021-10-21T06:29:09.094918Z"
    }
   },
   "outputs": [
    {
     "data": {
      "text/plain": [
       "SplitNum()"
      ]
     },
     "execution_count": 23,
     "metadata": {},
     "output_type": "execute_result"
    }
   ],
   "source": [
    "sn = SplitNum(min_information_value_split_gain=0.0001)\n",
    "sn.fit(train_x[\"LIMIT_BAL\"], train_y)"
   ]
  },
  {
   "cell_type": "code",
   "execution_count": 24,
   "metadata": {
    "ExecuteTime": {
     "end_time": "2021-10-21T06:29:09.818916Z",
     "start_time": "2021-10-21T06:29:09.788920Z"
    }
   },
   "outputs": [
    {
     "data": {
      "text/plain": [
       "DiscreteCust(cat_spliter={'EDUCATION': SplitCat()}, date_columns=[],\n",
       "             keep_columns=['ID'], num_spliter={'LIMIT_BAL': SplitNum()})"
      ]
     },
     "execution_count": 24,
     "metadata": {},
     "output_type": "execute_result"
    }
   ],
   "source": [
    "cust = DiscreteCust(keep_columns=[\"ID\"], date_columns=[], cat_spliter={\"EDUCATION\": sc}, num_spliter={\"LIMIT_BAL\":sn})\n",
    "cust.fit(train_x, train_y)"
   ]
  },
  {
   "cell_type": "code",
   "execution_count": 25,
   "metadata": {
    "ExecuteTime": {
     "end_time": "2021-10-21T06:29:25.551919Z",
     "start_time": "2021-10-21T06:29:09.825915Z"
    }
   },
   "outputs": [
    {
     "name": "stderr",
     "output_type": "stream",
     "text": [
      "[Parallel(n_jobs=-1)]: Using backend LokyBackend with 16 concurrent workers.\n",
      "[Parallel(n_jobs=-1)]: Done   1 tasks      | elapsed:    1.8s\n",
      "[Parallel(n_jobs=-1)]: Done   1 out of   1 | elapsed:    1.9s finished\n",
      "[Parallel(n_jobs=-1)]: Using backend LokyBackend with 16 concurrent workers.\n",
      "[Parallel(n_jobs=-1)]: Done   1 tasks      | elapsed:    1.1s\n",
      "[Parallel(n_jobs=-1)]: Done   1 out of   1 | elapsed:    1.2s finished\n"
     ]
    },
    {
     "data": {
      "text/html": [
       "<div>\n",
       "<style scoped>\n",
       "    .dataframe tbody tr th:only-of-type {\n",
       "        vertical-align: middle;\n",
       "    }\n",
       "\n",
       "    .dataframe tbody tr th {\n",
       "        vertical-align: top;\n",
       "    }\n",
       "\n",
       "    .dataframe thead th {\n",
       "        text-align: right;\n",
       "    }\n",
       "</style>\n",
       "<table border=\"1\" class=\"dataframe\">\n",
       "  <thead>\n",
       "    <tr style=\"text-align: right;\">\n",
       "      <th></th>\n",
       "      <th>ID</th>\n",
       "      <th>LIMIT_BAL</th>\n",
       "      <th>EDUCATION</th>\n",
       "    </tr>\n",
       "  </thead>\n",
       "  <tbody>\n",
       "    <tr>\n",
       "      <th>17845</th>\n",
       "      <td>17846</td>\n",
       "      <td>0.047881</td>\n",
       "      <td>0.107146</td>\n",
       "    </tr>\n",
       "    <tr>\n",
       "      <th>1698</th>\n",
       "      <td>1699</td>\n",
       "      <td>0.172807</td>\n",
       "      <td>-0.229193</td>\n",
       "    </tr>\n",
       "    <tr>\n",
       "      <th>9132</th>\n",
       "      <td>9133</td>\n",
       "      <td>-0.478657</td>\n",
       "      <td>0.107146</td>\n",
       "    </tr>\n",
       "    <tr>\n",
       "      <th>27932</th>\n",
       "      <td>27933</td>\n",
       "      <td>0.047881</td>\n",
       "      <td>-0.229193</td>\n",
       "    </tr>\n",
       "    <tr>\n",
       "      <th>23497</th>\n",
       "      <td>23498</td>\n",
       "      <td>-0.759759</td>\n",
       "      <td>-0.229193</td>\n",
       "    </tr>\n",
       "  </tbody>\n",
       "</table>\n",
       "</div>"
      ],
      "text/plain": [
       "          ID  LIMIT_BAL  EDUCATION\n",
       "17845  17846   0.047881   0.107146\n",
       "1698    1699   0.172807  -0.229193\n",
       "9132    9133  -0.478657   0.107146\n",
       "27932  27933   0.047881  -0.229193\n",
       "23497  23498  -0.759759  -0.229193"
      ]
     },
     "execution_count": 25,
     "metadata": {},
     "output_type": "execute_result"
    }
   ],
   "source": [
    "cust.transform(train_x).head()"
   ]
  },
  {
   "cell_type": "markdown",
   "metadata": {},
   "source": [
    "## 自动多特征分箱"
   ]
  },
  {
   "cell_type": "code",
   "execution_count": 26,
   "metadata": {
    "ExecuteTime": {
     "end_time": "2021-10-21T06:29:46.464920Z",
     "start_time": "2021-10-21T06:29:25.559915Z"
    },
    "pycharm": {
     "is_executing": true,
     "name": "#%%\n"
    },
    "scrolled": true
   },
   "outputs": [
    {
     "name": "stderr",
     "output_type": "stream",
     "text": [
      "[Parallel(n_jobs=-1)]: Using backend LokyBackend with 16 concurrent workers.\n",
      "[Parallel(n_jobs=-1)]: Done   1 tasks      | elapsed:    1.2s\n",
      "[Parallel(n_jobs=-1)]: Done   3 out of   3 | elapsed:    1.2s remaining:    0.0s\n",
      "[Parallel(n_jobs=-1)]: Done   3 out of   3 | elapsed:    1.2s finished\n",
      "[Parallel(n_jobs=-1)]: Using backend LokyBackend with 16 concurrent workers.\n",
      "[Parallel(n_jobs=-1)]: Done   1 tasks      | elapsed:    0.4s\n",
      "[Parallel(n_jobs=-1)]: Done   3 out of  20 | elapsed:    0.5s remaining:    3.1s\n",
      "[Parallel(n_jobs=-1)]: Done   5 out of  20 | elapsed:    0.7s remaining:    2.4s\n",
      "[Parallel(n_jobs=-1)]: Done   7 out of  20 | elapsed:    1.3s remaining:    2.4s\n",
      "[Parallel(n_jobs=-1)]: Done   9 out of  20 | elapsed:    1.3s remaining:    1.6s\n",
      "[Parallel(n_jobs=-1)]: Done  11 out of  20 | elapsed:    2.1s remaining:    1.7s\n",
      "[Parallel(n_jobs=-1)]: Done  13 out of  20 | elapsed:    2.2s remaining:    1.1s\n",
      "[Parallel(n_jobs=-1)]: Done  15 out of  20 | elapsed:    2.2s remaining:    0.7s\n",
      "[Parallel(n_jobs=-1)]: Done  17 out of  20 | elapsed:    2.3s remaining:    0.3s\n",
      "[Parallel(n_jobs=-1)]: Done  20 out of  20 | elapsed:    2.8s finished\n",
      "[Parallel(n_jobs=-1)]: Using backend LokyBackend with 16 concurrent workers.\n",
      "[Parallel(n_jobs=-1)]: Done   1 tasks      | elapsed:    0.0s\n",
      "[Parallel(n_jobs=-1)]: Batch computation too fast (0.1140s.) Setting batch_size=2.\n",
      "[Parallel(n_jobs=-1)]: Done   3 out of   3 | elapsed:    0.0s remaining:    0.0s\n",
      "[Parallel(n_jobs=-1)]: Done   3 out of   3 | elapsed:    0.0s finished\n",
      "[Parallel(n_jobs=-1)]: Using backend LokyBackend with 16 concurrent workers.\n",
      "[Parallel(n_jobs=-1)]: Done   1 tasks      | elapsed:    0.2s\n",
      "[Parallel(n_jobs=-1)]: Done   3 out of  20 | elapsed:    0.2s remaining:    1.8s\n",
      "[Parallel(n_jobs=-1)]: Done   5 out of  20 | elapsed:    0.3s remaining:    1.0s\n",
      "[Parallel(n_jobs=-1)]: Done   7 out of  20 | elapsed:    0.3s remaining:    0.6s\n",
      "[Parallel(n_jobs=-1)]: Done   9 out of  20 | elapsed:    0.3s remaining:    0.3s\n",
      "[Parallel(n_jobs=-1)]: Done  11 out of  20 | elapsed:    0.3s remaining:    0.2s\n",
      "[Parallel(n_jobs=-1)]: Done  13 out of  20 | elapsed:    0.3s remaining:    0.1s\n",
      "[Parallel(n_jobs=-1)]: Done  15 out of  20 | elapsed:    0.3s remaining:    0.0s\n",
      "[Parallel(n_jobs=-1)]: Done  17 out of  20 | elapsed:    0.4s remaining:    0.0s\n",
      "[Parallel(n_jobs=-1)]: Done  20 out of  20 | elapsed:    0.4s finished\n",
      "[Parallel(n_jobs=-1)]: Using backend LokyBackend with 16 concurrent workers.\n",
      "[Parallel(n_jobs=-1)]: Done   1 tasks      | elapsed:    0.0s\n",
      "[Parallel(n_jobs=-1)]: Batch computation too fast (0.0410s.) Setting batch_size=2.\n",
      "[Parallel(n_jobs=-1)]: Done   3 out of   3 | elapsed:    0.0s remaining:    0.0s\n",
      "[Parallel(n_jobs=-1)]: Done   3 out of   3 | elapsed:    0.0s finished\n",
      "[Parallel(n_jobs=-1)]: Using backend LokyBackend with 16 concurrent workers.\n",
      "[Parallel(n_jobs=-1)]: Done   1 tasks      | elapsed:    0.0s\n",
      "[Parallel(n_jobs=-1)]: Batch computation too fast (0.1080s.) Setting batch_size=2.\n",
      "[Parallel(n_jobs=-1)]: Done   3 out of  20 | elapsed:    0.0s remaining:    0.5s\n",
      "[Parallel(n_jobs=-1)]: Done   5 out of  20 | elapsed:    0.0s remaining:    0.2s\n",
      "[Parallel(n_jobs=-1)]: Done   7 out of  20 | elapsed:    0.0s remaining:    0.1s\n",
      "[Parallel(n_jobs=-1)]: Done   9 out of  20 | elapsed:    0.0s remaining:    0.1s\n",
      "[Parallel(n_jobs=-1)]: Done  11 out of  20 | elapsed:    0.0s remaining:    0.0s\n",
      "[Parallel(n_jobs=-1)]: Done  13 out of  20 | elapsed:    0.0s remaining:    0.0s\n",
      "[Parallel(n_jobs=-1)]: Done  15 out of  20 | elapsed:    0.0s remaining:    0.0s\n",
      "[Parallel(n_jobs=-1)]: Done  17 out of  20 | elapsed:    0.1s remaining:    0.0s\n",
      "[Parallel(n_jobs=-1)]: Done  20 out of  20 | elapsed:    0.1s finished\n"
     ]
    }
   ],
   "source": [
    "auto = DiscreteAuto(keep_columns=[\"ID\"], date_columns=[], cat_columns=cat_columns, num_columns=num_columns)\n",
    "auto.fit(train_x, train_y)\n",
    "train_x = auto.transform(train_x)\n",
    "test_x  = auto.transform(test_x )"
   ]
  },
  {
   "cell_type": "code",
   "execution_count": 27,
   "metadata": {
    "ExecuteTime": {
     "end_time": "2021-10-21T06:29:46.502913Z",
     "start_time": "2021-10-21T06:29:46.469916Z"
    },
    "pycharm": {
     "is_executing": true,
     "name": "#%%\n"
    }
   },
   "outputs": [
    {
     "name": "stdout",
     "output_type": "stream",
     "text": [
      "|       |      IvS |\n",
      "|:------|---------:|\n",
      "| PAY_0 | 0.876508 |\n",
      "| PAY_2 | 0.561801 |\n",
      "| PAY_3 | 0.423221 |\n",
      "| PAY_4 | 0.372056 |\n",
      "| PAY_5 | 0.338337 |\n"
     ]
    }
   ],
   "source": [
    "print(auto.information_value_score.head().to_markdown())"
   ]
  },
  {
   "cell_type": "code",
   "execution_count": 28,
   "metadata": {
    "ExecuteTime": {
     "end_time": "2021-10-21T06:29:46.524913Z",
     "start_time": "2021-10-21T06:29:46.507917Z"
    },
    "pycharm": {
     "is_executing": true,
     "name": "#%%\n"
    },
    "scrolled": true
   },
   "outputs": [
    {
     "name": "stdout",
     "output_type": "stream",
     "text": [
      "|    | Column   | Bucket   |   CntPositive |   CntNegative |       WoE |       IvS |\n",
      "|---:|:---------|:---------|--------------:|--------------:|----------:|----------:|\n",
      "|  0 | PAY_0    | (-inf,0] |          2391 |         14987 | -0.578847 | 0.217663  |\n",
      "|  1 | PAY_0    | (0,1]    |           959 |          1821 |  0.615374 | 0.0544047 |\n",
      "|  2 | PAY_0    | (1,2]    |          1367 |           616 |  2.05375  | 0.490955  |\n",
      "|  3 | PAY_0    | (2,+inf) |           268 |            91 |  2.33675  | 0.113486  |\n",
      "|  4 | PAY_0    | [nan]    |             0 |             0 |  0        | 0         |\n"
     ]
    }
   ],
   "source": [
    "print(auto.information_value_table.head().to_markdown())"
   ]
  },
  {
   "cell_type": "markdown",
   "metadata": {},
   "source": [
    "## 特征选择"
   ]
  },
  {
   "cell_type": "code",
   "execution_count": 29,
   "metadata": {
    "ExecuteTime": {
     "end_time": "2021-10-21T06:29:47.330915Z",
     "start_time": "2021-10-21T06:29:46.529914Z"
    },
    "scrolled": true
   },
   "outputs": [
    {
     "name": "stderr",
     "output_type": "stream",
     "text": [
      "[Parallel(n_jobs=-1)]: Using backend LokyBackend with 16 concurrent workers.\n",
      "[Parallel(n_jobs=-1)]: Done   1 tasks      | elapsed:    0.0s\n",
      "[Parallel(n_jobs=-1)]: Batch computation too fast (0.0690s.) Setting batch_size=2.\n",
      "[Parallel(n_jobs=-1)]: Done   2 out of  23 | elapsed:    0.0s remaining:    0.8s\n",
      "[Parallel(n_jobs=-1)]: Done   4 out of  23 | elapsed:    0.0s remaining:    0.4s\n",
      "[Parallel(n_jobs=-1)]: Done   6 out of  23 | elapsed:    0.0s remaining:    0.2s\n",
      "[Parallel(n_jobs=-1)]: Done   8 out of  23 | elapsed:    0.0s remaining:    0.1s\n",
      "[Parallel(n_jobs=-1)]: Done  10 out of  23 | elapsed:    0.0s remaining:    0.0s\n",
      "[Parallel(n_jobs=-1)]: Done  12 out of  23 | elapsed:    0.0s remaining:    0.0s\n",
      "[Parallel(n_jobs=-1)]: Done  14 out of  23 | elapsed:    0.0s remaining:    0.0s\n",
      "[Parallel(n_jobs=-1)]: Done  16 out of  23 | elapsed:    0.0s remaining:    0.0s\n",
      "[Parallel(n_jobs=-1)]: Done  18 out of  23 | elapsed:    0.0s remaining:    0.0s\n",
      "[Parallel(n_jobs=-1)]: Done  20 out of  23 | elapsed:    0.0s remaining:    0.0s\n",
      "[Parallel(n_jobs=-1)]: Done  23 out of  23 | elapsed:    0.0s finished\n"
     ]
    }
   ],
   "source": [
    "select = SelectBins(keep_columns=[\"ID\"], date_columns=[])\n",
    "select.fit(train_x, train_y)\n",
    "train_x = select.transform(train_x)\n",
    "test_x  = select.transform(test_x )"
   ]
  },
  {
   "cell_type": "code",
   "execution_count": 30,
   "metadata": {
    "ExecuteTime": {
     "end_time": "2021-10-21T06:29:57.378913Z",
     "start_time": "2021-10-21T06:29:47.342918Z"
    },
    "scrolled": true
   },
   "outputs": [
    {
     "name": "stderr",
     "output_type": "stream",
     "text": [
      "[Parallel(n_jobs=-1)]: Using backend LokyBackend with 16 concurrent workers.\n",
      "[Parallel(n_jobs=-1)]: Done   1 tasks      | elapsed:    0.0s\n",
      "[Parallel(n_jobs=-1)]: Batch computation too fast (0.0150s.) Setting batch_size=2.\n",
      "[Parallel(n_jobs=-1)]: Done   2 tasks      | elapsed:    0.0s\n",
      "[Parallel(n_jobs=-1)]: Done   3 tasks      | elapsed:    0.0s\n",
      "[Parallel(n_jobs=-1)]: Done   4 tasks      | elapsed:    0.0s\n",
      "[Parallel(n_jobs=-1)]: Done   5 tasks      | elapsed:    0.0s\n",
      "[Parallel(n_jobs=-1)]: Done   6 tasks      | elapsed:    0.0s\n",
      "[Parallel(n_jobs=-1)]: Done   7 tasks      | elapsed:    0.0s\n",
      "[Parallel(n_jobs=-1)]: Done   8 tasks      | elapsed:    0.0s\n",
      "[Parallel(n_jobs=-1)]: Done   9 tasks      | elapsed:    0.0s\n",
      "[Parallel(n_jobs=-1)]: Done  10 tasks      | elapsed:    0.0s\n",
      "[Parallel(n_jobs=-1)]: Done  11 tasks      | elapsed:    0.0s\n",
      "[Parallel(n_jobs=-1)]: Done  12 tasks      | elapsed:    0.0s\n",
      "[Parallel(n_jobs=-1)]: Done  13 tasks      | elapsed:    0.0s\n",
      "[Parallel(n_jobs=-1)]: Done  14 tasks      | elapsed:    0.0s\n",
      "[Parallel(n_jobs=-1)]: Done  15 tasks      | elapsed:    0.0s\n",
      "[Parallel(n_jobs=-1)]: Done  16 tasks      | elapsed:    0.0s\n",
      "[Parallel(n_jobs=-1)]: Done  17 tasks      | elapsed:    0.0s\n",
      "[Parallel(n_jobs=-1)]: Done  18 tasks      | elapsed:    0.0s\n",
      "[Parallel(n_jobs=-1)]: Done  19 tasks      | elapsed:    0.0s\n",
      "[Parallel(n_jobs=-1)]: Done  20 tasks      | elapsed:    0.0s\n",
      "[Parallel(n_jobs=-1)]: Done  21 tasks      | elapsed:    0.0s\n",
      "[Parallel(n_jobs=-1)]: Done  22 tasks      | elapsed:    0.0s\n",
      "[Parallel(n_jobs=-1)]: Done  23 tasks      | elapsed:    0.0s\n",
      "[Parallel(n_jobs=-1)]: Done  24 tasks      | elapsed:    0.0s\n",
      "[Parallel(n_jobs=-1)]: Done  25 tasks      | elapsed:    0.0s\n",
      "[Parallel(n_jobs=-1)]: Done  26 tasks      | elapsed:    0.0s\n",
      "[Parallel(n_jobs=-1)]: Done  27 tasks      | elapsed:    0.0s\n",
      "[Parallel(n_jobs=-1)]: Done  28 tasks      | elapsed:    0.0s\n",
      "[Parallel(n_jobs=-1)]: Done  29 tasks      | elapsed:    0.0s\n",
      "[Parallel(n_jobs=-1)]: Done  30 tasks      | elapsed:    0.0s\n",
      "[Parallel(n_jobs=-1)]: Done  31 tasks      | elapsed:    0.0s\n",
      "[Parallel(n_jobs=-1)]: Done  32 tasks      | elapsed:    0.0s\n",
      "[Parallel(n_jobs=-1)]: Done  34 tasks      | elapsed:    0.0s\n",
      "[Parallel(n_jobs=-1)]: Batch computation too fast (0.0770s.) Setting batch_size=4.\n",
      "[Parallel(n_jobs=-1)]: Done  36 tasks      | elapsed:    0.0s\n",
      "[Parallel(n_jobs=-1)]: Done  38 tasks      | elapsed:    0.0s\n",
      "[Parallel(n_jobs=-1)]: Done  40 tasks      | elapsed:    0.0s\n",
      "[Parallel(n_jobs=-1)]: Done  42 tasks      | elapsed:    0.0s\n",
      "[Parallel(n_jobs=-1)]: Done  44 tasks      | elapsed:    0.0s\n",
      "[Parallel(n_jobs=-1)]: Done  46 tasks      | elapsed:    0.0s\n",
      "[Parallel(n_jobs=-1)]: Done  48 tasks      | elapsed:    0.0s\n",
      "[Parallel(n_jobs=-1)]: Done  50 tasks      | elapsed:    0.0s\n",
      "[Parallel(n_jobs=-1)]: Done  52 tasks      | elapsed:    0.0s\n",
      "[Parallel(n_jobs=-1)]: Done  54 tasks      | elapsed:    0.0s\n",
      "[Parallel(n_jobs=-1)]: Done  56 tasks      | elapsed:    0.0s\n",
      "[Parallel(n_jobs=-1)]: Done  58 tasks      | elapsed:    0.0s\n",
      "[Parallel(n_jobs=-1)]: Done  60 tasks      | elapsed:    0.0s\n",
      "[Parallel(n_jobs=-1)]: Done  62 tasks      | elapsed:    0.0s\n",
      "[Parallel(n_jobs=-1)]: Done  64 tasks      | elapsed:    0.0s\n",
      "[Parallel(n_jobs=-1)]: Done  66 tasks      | elapsed:    0.0s\n",
      "[Parallel(n_jobs=-1)]: Done  68 tasks      | elapsed:    0.1s\n",
      "[Parallel(n_jobs=-1)]: Done  70 tasks      | elapsed:    0.1s\n",
      "[Parallel(n_jobs=-1)]: Done  72 tasks      | elapsed:    0.1s\n",
      "[Parallel(n_jobs=-1)]: Done  74 tasks      | elapsed:    0.1s\n",
      "[Parallel(n_jobs=-1)]: Done  76 tasks      | elapsed:    0.1s\n",
      "[Parallel(n_jobs=-1)]: Done  78 tasks      | elapsed:    0.1s\n",
      "[Parallel(n_jobs=-1)]: Done  80 tasks      | elapsed:    0.1s\n",
      "[Parallel(n_jobs=-1)]: Done  82 tasks      | elapsed:    0.1s\n",
      "[Parallel(n_jobs=-1)]: Done  84 tasks      | elapsed:    0.1s\n",
      "[Parallel(n_jobs=-1)]: Done  86 tasks      | elapsed:    0.1s\n",
      "[Parallel(n_jobs=-1)]: Done  88 tasks      | elapsed:    0.1s\n",
      "[Parallel(n_jobs=-1)]: Done  90 tasks      | elapsed:    0.1s\n",
      "[Parallel(n_jobs=-1)]: Done  92 tasks      | elapsed:    0.1s\n",
      "[Parallel(n_jobs=-1)]: Done  94 tasks      | elapsed:    0.1s\n",
      "[Parallel(n_jobs=-1)]: Done  96 tasks      | elapsed:    0.1s\n",
      "[Parallel(n_jobs=-1)]: Done 100 tasks      | elapsed:    0.1s\n",
      "[Parallel(n_jobs=-1)]: Batch computation too fast (0.1390s.) Setting batch_size=8.\n",
      "[Parallel(n_jobs=-1)]: Done 104 tasks      | elapsed:    0.1s\n",
      "[Parallel(n_jobs=-1)]: Done 108 tasks      | elapsed:    0.1s\n",
      "[Parallel(n_jobs=-1)]: Done 112 tasks      | elapsed:    0.2s\n",
      "[Parallel(n_jobs=-1)]: Done 116 tasks      | elapsed:    0.2s\n",
      "[Parallel(n_jobs=-1)]: Done 120 tasks      | elapsed:    0.2s\n",
      "[Parallel(n_jobs=-1)]: Done 124 tasks      | elapsed:    0.2s\n",
      "[Parallel(n_jobs=-1)]: Done 128 tasks      | elapsed:    0.2s\n",
      "[Parallel(n_jobs=-1)]: Done 132 tasks      | elapsed:    0.2s\n",
      "[Parallel(n_jobs=-1)]: Done 136 tasks      | elapsed:    0.2s\n",
      "[Parallel(n_jobs=-1)]: Done 140 tasks      | elapsed:    0.2s\n",
      "[Parallel(n_jobs=-1)]: Done 144 tasks      | elapsed:    0.2s\n",
      "[Parallel(n_jobs=-1)]: Done 148 tasks      | elapsed:    0.2s\n",
      "[Parallel(n_jobs=-1)]: Done 152 tasks      | elapsed:    0.2s\n",
      "[Parallel(n_jobs=-1)]: Done 156 tasks      | elapsed:    0.2s\n",
      "[Parallel(n_jobs=-1)]: Done 160 tasks      | elapsed:    0.2s\n",
      "[Parallel(n_jobs=-1)]: Done 164 tasks      | elapsed:    0.2s\n",
      "[Parallel(n_jobs=-1)]: Done 168 tasks      | elapsed:    0.2s\n",
      "[Parallel(n_jobs=-1)]: Done 172 tasks      | elapsed:    0.2s\n",
      "[Parallel(n_jobs=-1)]: Done 176 tasks      | elapsed:    0.2s\n",
      "[Parallel(n_jobs=-1)]: Done 180 tasks      | elapsed:    0.2s\n",
      "[Parallel(n_jobs=-1)]: Done 184 tasks      | elapsed:    0.2s\n",
      "[Parallel(n_jobs=-1)]: Done 188 tasks      | elapsed:    0.3s\n",
      "[Parallel(n_jobs=-1)]: Done 192 tasks      | elapsed:    0.3s\n",
      "[Parallel(n_jobs=-1)]: Done 196 tasks      | elapsed:    0.3s\n",
      "[Parallel(n_jobs=-1)]: Done 200 tasks      | elapsed:    0.3s\n",
      "[Parallel(n_jobs=-1)]: Done 204 tasks      | elapsed:    0.3s\n",
      "[Parallel(n_jobs=-1)]: Done 208 tasks      | elapsed:    0.3s\n",
      "[Parallel(n_jobs=-1)]: Done 212 tasks      | elapsed:    0.3s\n",
      "[Parallel(n_jobs=-1)]: Done 216 tasks      | elapsed:    0.3s\n",
      "[Parallel(n_jobs=-1)]: Done 235 out of 253 | elapsed:    0.3s remaining:    0.0s\n",
      "[Parallel(n_jobs=-1)]: Done 248 out of 253 | elapsed:    0.3s remaining:    0.0s\n",
      "[Parallel(n_jobs=-1)]: Done 253 out of 253 | elapsed:    0.3s finished\n",
      "[Parallel(n_jobs=-1)]: Using backend LokyBackend with 16 concurrent workers.\n",
      "[Parallel(n_jobs=-1)]: Done   1 tasks      | elapsed:    0.0s\n",
      "[Parallel(n_jobs=-1)]: Batch computation too fast (0.0210s.) Setting batch_size=2.\n",
      "[Parallel(n_jobs=-1)]: Done   2 tasks      | elapsed:    0.0s\n",
      "[Parallel(n_jobs=-1)]: Done   3 tasks      | elapsed:    0.0s\n",
      "[Parallel(n_jobs=-1)]: Done   4 tasks      | elapsed:    0.0s\n",
      "[Parallel(n_jobs=-1)]: Done   5 tasks      | elapsed:    0.0s\n",
      "[Parallel(n_jobs=-1)]: Done   6 tasks      | elapsed:    0.0s\n",
      "[Parallel(n_jobs=-1)]: Done   7 tasks      | elapsed:    0.0s\n",
      "[Parallel(n_jobs=-1)]: Done   8 tasks      | elapsed:    0.0s\n",
      "[Parallel(n_jobs=-1)]: Done   9 tasks      | elapsed:    0.0s\n",
      "[Parallel(n_jobs=-1)]: Done  10 tasks      | elapsed:    0.0s\n",
      "[Parallel(n_jobs=-1)]: Done  11 tasks      | elapsed:    0.0s\n",
      "[Parallel(n_jobs=-1)]: Done  12 tasks      | elapsed:    0.0s\n",
      "[Parallel(n_jobs=-1)]: Done  13 tasks      | elapsed:    0.0s\n",
      "[Parallel(n_jobs=-1)]: Done  14 tasks      | elapsed:    0.0s\n",
      "[Parallel(n_jobs=-1)]: Done  15 tasks      | elapsed:    0.0s\n",
      "[Parallel(n_jobs=-1)]: Done  16 tasks      | elapsed:    0.0s\n",
      "[Parallel(n_jobs=-1)]: Done  17 tasks      | elapsed:    0.0s\n",
      "[Parallel(n_jobs=-1)]: Done  18 tasks      | elapsed:    0.0s\n",
      "[Parallel(n_jobs=-1)]: Done  19 tasks      | elapsed:    0.0s\n",
      "[Parallel(n_jobs=-1)]: Done  20 tasks      | elapsed:    0.0s\n",
      "[Parallel(n_jobs=-1)]: Done  21 tasks      | elapsed:    0.0s\n",
      "[Parallel(n_jobs=-1)]: Done  22 tasks      | elapsed:    0.0s\n",
      "[Parallel(n_jobs=-1)]: Done  23 tasks      | elapsed:    0.0s\n",
      "[Parallel(n_jobs=-1)]: Done  24 tasks      | elapsed:    0.0s\n",
      "[Parallel(n_jobs=-1)]: Done  25 tasks      | elapsed:    0.0s\n",
      "[Parallel(n_jobs=-1)]: Done  26 tasks      | elapsed:    0.1s\n",
      "[Parallel(n_jobs=-1)]: Done  27 tasks      | elapsed:    0.1s\n",
      "[Parallel(n_jobs=-1)]: Done  28 tasks      | elapsed:    0.1s\n",
      "[Parallel(n_jobs=-1)]: Done  29 tasks      | elapsed:    0.1s\n",
      "[Parallel(n_jobs=-1)]: Done  30 tasks      | elapsed:    0.1s\n",
      "[Parallel(n_jobs=-1)]: Done  31 tasks      | elapsed:    0.1s\n",
      "[Parallel(n_jobs=-1)]: Done  32 tasks      | elapsed:    0.1s\n",
      "[Parallel(n_jobs=-1)]: Done  34 tasks      | elapsed:    0.1s\n",
      "[Parallel(n_jobs=-1)]: Batch computation too fast (0.1660s.) Setting batch_size=4.\n",
      "[Parallel(n_jobs=-1)]: Done  36 tasks      | elapsed:    0.1s\n",
      "[Parallel(n_jobs=-1)]: Done  38 tasks      | elapsed:    0.1s\n",
      "[Parallel(n_jobs=-1)]: Done  40 tasks      | elapsed:    0.1s\n",
      "[Parallel(n_jobs=-1)]: Done  42 tasks      | elapsed:    0.1s\n",
      "[Parallel(n_jobs=-1)]: Done  44 tasks      | elapsed:    0.1s\n",
      "[Parallel(n_jobs=-1)]: Done  46 tasks      | elapsed:    0.1s\n",
      "[Parallel(n_jobs=-1)]: Done  48 tasks      | elapsed:    0.1s\n",
      "[Parallel(n_jobs=-1)]: Done  50 tasks      | elapsed:    0.1s\n",
      "[Parallel(n_jobs=-1)]: Done  52 tasks      | elapsed:    0.1s\n",
      "[Parallel(n_jobs=-1)]: Done  54 tasks      | elapsed:    0.1s\n",
      "[Parallel(n_jobs=-1)]: Done  56 tasks      | elapsed:    0.2s\n",
      "[Parallel(n_jobs=-1)]: Done  58 tasks      | elapsed:    0.2s\n",
      "[Parallel(n_jobs=-1)]: Done  60 tasks      | elapsed:    0.2s\n",
      "[Parallel(n_jobs=-1)]: Done  62 tasks      | elapsed:    0.2s\n",
      "[Parallel(n_jobs=-1)]: Done  64 tasks      | elapsed:    0.2s\n",
      "[Parallel(n_jobs=-1)]: Done  66 tasks      | elapsed:    0.2s\n",
      "[Parallel(n_jobs=-1)]: Done  68 tasks      | elapsed:    0.2s\n",
      "[Parallel(n_jobs=-1)]: Done  70 tasks      | elapsed:    0.2s\n"
     ]
    },
    {
     "name": "stderr",
     "output_type": "stream",
     "text": [
      "[Parallel(n_jobs=-1)]: Done  72 tasks      | elapsed:    0.2s\n",
      "[Parallel(n_jobs=-1)]: Done  74 tasks      | elapsed:    0.2s\n",
      "[Parallel(n_jobs=-1)]: Done  76 tasks      | elapsed:    0.2s\n",
      "[Parallel(n_jobs=-1)]: Done  78 tasks      | elapsed:    0.2s\n",
      "[Parallel(n_jobs=-1)]: Done  80 tasks      | elapsed:    0.2s\n",
      "[Parallel(n_jobs=-1)]: Done  82 tasks      | elapsed:    0.2s\n",
      "[Parallel(n_jobs=-1)]: Done  84 tasks      | elapsed:    0.2s\n",
      "[Parallel(n_jobs=-1)]: Done  86 tasks      | elapsed:    0.2s\n",
      "[Parallel(n_jobs=-1)]: Done  88 tasks      | elapsed:    0.2s\n",
      "[Parallel(n_jobs=-1)]: Done  90 tasks      | elapsed:    0.3s\n",
      "[Parallel(n_jobs=-1)]: Done  92 tasks      | elapsed:    0.3s\n",
      "[Parallel(n_jobs=-1)]: Done  94 tasks      | elapsed:    0.3s\n",
      "[Parallel(n_jobs=-1)]: Done  96 tasks      | elapsed:    0.3s\n",
      "[Parallel(n_jobs=-1)]: Done 100 tasks      | elapsed:    0.3s\n",
      "[Parallel(n_jobs=-1)]: Batch computation too fast (0.1900s.) Setting batch_size=8.\n",
      "[Parallel(n_jobs=-1)]: Done 104 tasks      | elapsed:    0.3s\n",
      "[Parallel(n_jobs=-1)]: Done 108 tasks      | elapsed:    0.3s\n",
      "[Parallel(n_jobs=-1)]: Done 112 tasks      | elapsed:    0.3s\n",
      "[Parallel(n_jobs=-1)]: Done 116 tasks      | elapsed:    0.3s\n",
      "[Parallel(n_jobs=-1)]: Done 120 tasks      | elapsed:    0.3s\n",
      "[Parallel(n_jobs=-1)]: Done 124 tasks      | elapsed:    0.3s\n",
      "[Parallel(n_jobs=-1)]: Done 128 tasks      | elapsed:    0.3s\n",
      "[Parallel(n_jobs=-1)]: Done 132 tasks      | elapsed:    0.3s\n",
      "[Parallel(n_jobs=-1)]: Done 136 tasks      | elapsed:    0.4s\n",
      "[Parallel(n_jobs=-1)]: Done 140 tasks      | elapsed:    0.4s\n",
      "[Parallel(n_jobs=-1)]: Done 144 tasks      | elapsed:    0.4s\n",
      "[Parallel(n_jobs=-1)]: Done 148 tasks      | elapsed:    0.4s\n",
      "[Parallel(n_jobs=-1)]: Done 152 tasks      | elapsed:    0.4s\n",
      "[Parallel(n_jobs=-1)]: Done 156 tasks      | elapsed:    0.4s\n",
      "[Parallel(n_jobs=-1)]: Done 160 tasks      | elapsed:    0.4s\n",
      "[Parallel(n_jobs=-1)]: Done 164 tasks      | elapsed:    0.4s\n",
      "[Parallel(n_jobs=-1)]: Done 168 tasks      | elapsed:    0.4s\n",
      "[Parallel(n_jobs=-1)]: Done 172 tasks      | elapsed:    0.4s\n",
      "[Parallel(n_jobs=-1)]: Done 176 tasks      | elapsed:    0.5s\n",
      "[Parallel(n_jobs=-1)]: Done 180 tasks      | elapsed:    0.5s\n",
      "[Parallel(n_jobs=-1)]: Done 184 tasks      | elapsed:    0.5s\n",
      "[Parallel(n_jobs=-1)]: Done 188 tasks      | elapsed:    0.5s\n",
      "[Parallel(n_jobs=-1)]: Done 192 tasks      | elapsed:    0.5s\n",
      "[Parallel(n_jobs=-1)]: Done 196 tasks      | elapsed:    0.5s\n",
      "[Parallel(n_jobs=-1)]: Done 200 tasks      | elapsed:    0.5s\n",
      "[Parallel(n_jobs=-1)]: Done 204 tasks      | elapsed:    0.5s\n",
      "[Parallel(n_jobs=-1)]: Done 205 tasks      | elapsed:    0.5s\n",
      "[Parallel(n_jobs=-1)]: Done 209 tasks      | elapsed:    0.5s\n",
      "[Parallel(n_jobs=-1)]: Done 210 tasks      | elapsed:    0.5s\n",
      "[Parallel(n_jobs=-1)]: Done 235 out of 253 | elapsed:    0.6s remaining:    0.0s\n",
      "[Parallel(n_jobs=-1)]: Done 248 out of 253 | elapsed:    0.6s remaining:    0.0s\n",
      "[Parallel(n_jobs=-1)]: Done 253 out of 253 | elapsed:    0.6s finished\n"
     ]
    }
   ],
   "source": [
    "select = SelectCIFE(keep_columns=[\"ID\"], date_columns=[], nums_feature=10)\n",
    "select.fit(train_x, train_y)\n",
    "train_x = select.transform(train_x)\n",
    "test_x  = select.transform(test_x )"
   ]
  },
  {
   "cell_type": "markdown",
   "metadata": {},
   "source": [
    "## 模型训练"
   ]
  },
  {
   "cell_type": "code",
   "execution_count": 31,
   "metadata": {
    "ExecuteTime": {
     "end_time": "2021-10-21T06:30:02.013918Z",
     "start_time": "2021-10-21T06:29:57.385920Z"
    }
   },
   "outputs": [
    {
     "name": "stdout",
     "output_type": "stream",
     "text": [
      "train ks 0.41052\n",
      "test  ks 0.39004\n"
     ]
    }
   ],
   "source": [
    "lmclassifier = LMClassifier(keep_columns=[\"ID\"], date_columns=[])\n",
    "lmclassifier.fit(train_x, train_y)\n",
    "print(\"train ks {}\".format(lmclassifier.score(train_x, train_y)))\n",
    "print(\"test  ks {}\".format(lmclassifier.score(test_x,  test_y )))"
   ]
  },
  {
   "cell_type": "code",
   "execution_count": 32,
   "metadata": {
    "ExecuteTime": {
     "end_time": "2021-10-21T06:30:02.075917Z",
     "start_time": "2021-10-21T06:30:02.017941Z"
    }
   },
   "outputs": [
    {
     "data": {
      "text/html": [
       "<table class=\"simpletable\">\n",
       "<caption>Generalized Linear Model Regression Results</caption>\n",
       "<tr>\n",
       "  <th>Dep. Variable:</th>   <td>default.payment.next.month</td> <th>  No. Observations:  </th>  <td> 22500</td> \n",
       "</tr>\n",
       "<tr>\n",
       "  <th>Model:</th>                       <td>GLM</td>            <th>  Df Residuals:      </th>  <td> 22495</td> \n",
       "</tr>\n",
       "<tr>\n",
       "  <th>Model Family:</th>             <td>Binomial</td>          <th>  Df Model:          </th>  <td>     4</td> \n",
       "</tr>\n",
       "<tr>\n",
       "  <th>Link Function:</th>              <td>logit</td>           <th>  Scale:             </th> <td>  1.0000</td>\n",
       "</tr>\n",
       "<tr>\n",
       "  <th>Method:</th>                     <td>IRLS</td>            <th>  Log-Likelihood:    </th> <td> -10015.</td>\n",
       "</tr>\n",
       "<tr>\n",
       "  <th>Date:</th>                 <td>Thu, 17 Mar 2022</td>      <th>  Deviance:          </th> <td>  20031.</td>\n",
       "</tr>\n",
       "<tr>\n",
       "  <th>Time:</th>                     <td>10:22:18</td>          <th>  Pearson chi2:      </th> <td>2.23e+04</td>\n",
       "</tr>\n",
       "<tr>\n",
       "  <th>No. Iterations:</th>               <td>4</td>             <th>                     </th>     <td> </td>   \n",
       "</tr>\n",
       "<tr>\n",
       "  <th>Covariance Type:</th>          <td>nonrobust</td>         <th>                     </th>     <td> </td>   \n",
       "</tr>\n",
       "</table>\n",
       "<table class=\"simpletable\">\n",
       "<tr>\n",
       "    <td></td>       <th>coef</th>     <th>std err</th>      <th>z</th>      <th>P>|z|</th>  <th>[0.025</th>    <th>0.975]</th>  \n",
       "</tr>\n",
       "<tr>\n",
       "  <th>const</th> <td>   -1.2445</td> <td>    0.018</td> <td>  -69.346</td> <td> 0.000</td> <td>   -1.280</td> <td>   -1.209</td>\n",
       "</tr>\n",
       "<tr>\n",
       "  <th>PAY_0</th> <td>    0.7890</td> <td>    0.023</td> <td>   34.098</td> <td> 0.000</td> <td>    0.744</td> <td>    0.834</td>\n",
       "</tr>\n",
       "<tr>\n",
       "  <th>PAY_2</th> <td>    0.1410</td> <td>    0.033</td> <td>    4.216</td> <td> 0.000</td> <td>    0.075</td> <td>    0.207</td>\n",
       "</tr>\n",
       "<tr>\n",
       "  <th>PAY_4</th> <td>    0.2978</td> <td>    0.038</td> <td>    7.756</td> <td> 0.000</td> <td>    0.223</td> <td>    0.373</td>\n",
       "</tr>\n",
       "<tr>\n",
       "  <th>PAY_3</th> <td>    0.2305</td> <td>    0.040</td> <td>    5.752</td> <td> 0.000</td> <td>    0.152</td> <td>    0.309</td>\n",
       "</tr>\n",
       "</table>"
      ],
      "text/plain": [
       "<class 'statsmodels.iolib.summary.Summary'>\n",
       "\"\"\"\n",
       "                     Generalized Linear Model Regression Results                      \n",
       "======================================================================================\n",
       "Dep. Variable:     default.payment.next.month   No. Observations:                22500\n",
       "Model:                                    GLM   Df Residuals:                    22495\n",
       "Model Family:                        Binomial   Df Model:                            4\n",
       "Link Function:                          logit   Scale:                          1.0000\n",
       "Method:                                  IRLS   Log-Likelihood:                -10015.\n",
       "Date:                        Thu, 17 Mar 2022   Deviance:                       20031.\n",
       "Time:                                10:22:18   Pearson chi2:                 2.23e+04\n",
       "No. Iterations:                             4                                         \n",
       "Covariance Type:                    nonrobust                                         \n",
       "==============================================================================\n",
       "                 coef    std err          z      P>|z|      [0.025      0.975]\n",
       "------------------------------------------------------------------------------\n",
       "const         -1.2445      0.018    -69.346      0.000      -1.280      -1.209\n",
       "PAY_0          0.7890      0.023     34.098      0.000       0.744       0.834\n",
       "PAY_2          0.1410      0.033      4.216      0.000       0.075       0.207\n",
       "PAY_4          0.2978      0.038      7.756      0.000       0.223       0.373\n",
       "PAY_3          0.2305      0.040      5.752      0.000       0.152       0.309\n",
       "==============================================================================\n",
       "\"\"\""
      ]
     },
     "execution_count": 32,
     "metadata": {},
     "output_type": "execute_result"
    }
   ],
   "source": [
    "lmclassifier.model.summary()"
   ]
  },
  {
   "cell_type": "markdown",
   "metadata": {},
   "source": [
    "## 评分卡生成"
   ]
  },
  {
   "cell_type": "code",
   "execution_count": 33,
   "metadata": {
    "ExecuteTime": {
     "end_time": "2021-10-21T06:30:02.123928Z",
     "start_time": "2021-10-21T06:30:02.079919Z"
    }
   },
   "outputs": [
    {
     "name": "stdout",
     "output_type": "stream",
     "text": [
      "|    | Column   | Bucket    |       WoE |   Coefficients |   PartialScore |   OffsetScores |\n",
      "|---:|:---------|:----------|----------:|---------------:|---------------:|---------------:|\n",
      "|  0 | PAY_0    | (-inf,0]  | -0.578847 |       0.788993 |       13.1778  |        535.907 |\n",
      "|  1 | PAY_0    | (0,1]     |  0.615374 |       0.788993 |      -14.0093  |        535.907 |\n",
      "|  2 | PAY_0    | (1,2]     |  2.05375  |       0.788993 |      -46.7547  |        535.907 |\n",
      "|  3 | PAY_0    | (2,+inf)  |  2.33675  |       0.788993 |      -53.1974  |        535.907 |\n",
      "|  4 | PAY_0    | [nan]     |  0        |       0.788993 |       -0       |        535.907 |\n",
      "|  0 | PAY_2    | (-inf,0]  | -0.387067 |       0.140988 |        1.57461 |        535.907 |\n",
      "|  1 | PAY_2    | (0,2]     |  1.49205  |       0.140988 |       -6.06972 |        535.907 |\n",
      "|  2 | PAY_2    | (2,+inf)  |  1.72753  |       0.140988 |       -7.02768 |        535.907 |\n",
      "|  3 | PAY_2    | [nan]     |  0        |       0.140988 |       -0       |        535.907 |\n",
      "|  0 | PAY_4    | (-inf,-1] | -0.317051 |       0.297755 |        2.72391 |        535.907 |\n",
      "|  1 | PAY_4    | (-1,0]    | -0.235119 |       0.297755 |        2.02    |        535.907 |\n",
      "|  2 | PAY_4    | (0,2]     |  1.35721  |       0.297755 |      -11.6604  |        535.907 |\n",
      "|  3 | PAY_4    | (2,+inf)  |  1.9612   |       0.297755 |      -16.8495  |        535.907 |\n",
      "|  4 | PAY_4    | [nan]     |  0        |       0.297755 |       -0       |        535.907 |\n",
      "|  0 | PAY_3    | (-inf,-1] | -0.347591 |       0.230515 |        2.31192 |        535.907 |\n",
      "|  1 | PAY_3    | (-1,0]    | -0.300107 |       0.230515 |        1.99609 |        535.907 |\n",
      "|  2 | PAY_3    | (0,2]     |  1.336    |       0.230515 |       -8.88606 |        535.907 |\n",
      "|  3 | PAY_3    | (2,+inf)  |  1.68521  |       0.230515 |      -11.2088  |        535.907 |\n",
      "|  4 | PAY_3    | [nan]     |  0        |       0.230515 |       -0       |        535.907 |\n"
     ]
    }
   ],
   "source": [
    "lmcreditcard = LMCreditcard(\n",
    "        keep_columns=[\"ID\"], date_columns=[], discrete=auto, lmclassifier=lmclassifier, BASE=500,  PDO=20,  ODDS=1)\n",
    "print(lmcreditcard.show_scorecard().to_markdown())"
   ]
  },
  {
   "cell_type": "code",
   "execution_count": null,
   "metadata": {},
   "outputs": [],
   "source": []
  }
 ],
 "metadata": {
  "hide_input": false,
  "kernelspec": {
   "display_name": "Python 3 (ipykernel)",
   "language": "python",
   "name": "python3"
  },
  "language_info": {
   "codemirror_mode": {
    "name": "ipython",
    "version": 3
   },
   "file_extension": ".py",
   "mimetype": "text/x-python",
   "name": "python",
   "nbconvert_exporter": "python",
   "pygments_lexer": "ipython3",
   "version": "3.9.7"
  },
  "toc": {
   "base_numbering": 1,
   "nav_menu": {},
   "number_sections": true,
   "sideBar": true,
   "skip_h1_title": false,
   "title_cell": "Table of Contents",
   "title_sidebar": "Contents",
   "toc_cell": false,
   "toc_position": {
    "height": "calc(100% - 180px)",
    "left": "10px",
    "top": "150px",
    "width": "165px"
   },
   "toc_section_display": true,
   "toc_window_display": false
  },
  "varInspector": {
   "cols": {
    "lenName": 16,
    "lenType": 16,
    "lenVar": 40
   },
   "kernels_config": {
    "python": {
     "delete_cmd_postfix": "",
     "delete_cmd_prefix": "del ",
     "library": "var_list.py",
     "varRefreshCmd": "print(var_dic_list())"
    },
    "r": {
     "delete_cmd_postfix": ") ",
     "delete_cmd_prefix": "rm(",
     "library": "var_list.r",
     "varRefreshCmd": "cat(var_dic_list()) "
    }
   },
   "types_to_exclude": [
    "module",
    "function",
    "builtin_function_or_method",
    "instance",
    "_Feature"
   ],
   "window_display": false
  }
 },
 "nbformat": 4,
 "nbformat_minor": 1
}
